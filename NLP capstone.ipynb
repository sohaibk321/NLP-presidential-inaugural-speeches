{
 "cells": [
  {
   "cell_type": "code",
   "execution_count": 1,
   "metadata": {
    "collapsed": true
   },
   "outputs": [],
   "source": [
    "%matplotlib inline\n",
    "import numpy as np\n",
    "import pandas as pd\n",
    "import scipy\n",
    "import sklearn\n",
    "import spacy\n",
    "import matplotlib.pyplot as plt\n",
    "import seaborn as sns\n",
    "import re\n",
    "from nltk.corpus import inaugural, stopwords, wordnet\n",
    "import nltk\n",
    "from collections import Counter\n",
    "from collections import defaultdict\n",
    "from sklearn.model_selection import cross_val_score\n",
    "from sklearn.model_selection import train_test_split\n",
    "from sklearn.feature_extraction.text import TfidfVectorizer\n",
    "from sklearn import metrics\n",
    "from sklearn import cluster"
   ]
  },
  {
   "cell_type": "markdown",
   "metadata": {},
   "source": [
    "# Goal\n",
    "\n",
    "* __attempt to classify which president gave their inaugural address__\n",
    "* reserve 25% as a holdout group to test on\n",
    "* Create clusters for each author\n",
    "    \n",
    "      * Try multiple techniques\n",
    "      \n",
    "* Do unsupervised feature generation and selection (us tf_idf and LSA)\n",
    "\n",
    "* Try different supervised and unsupervised techniques to classify as best as possible (gradient boosting, logistic regression, SVC, random forest)\n",
    "\n",
    "* test model on holdout group. Is it consistent?\n",
    "\n",
    "* Do a report on the pros and cons of one technique over another and why decision were made"
   ]
  },
  {
   "cell_type": "code",
   "execution_count": 2,
   "metadata": {},
   "outputs": [
    {
     "data": {
      "text/plain": [
       "['1789-Washington.txt',\n",
       " '1793-Washington.txt',\n",
       " '1797-Adams.txt',\n",
       " '1801-Jefferson.txt',\n",
       " '1805-Jefferson.txt',\n",
       " '1809-Madison.txt',\n",
       " '1813-Madison.txt',\n",
       " '1817-Monroe.txt',\n",
       " '1821-Monroe.txt',\n",
       " '1825-Adams.txt',\n",
       " '1829-Jackson.txt',\n",
       " '1833-Jackson.txt',\n",
       " '1837-VanBuren.txt',\n",
       " '1841-Harrison.txt',\n",
       " '1845-Polk.txt',\n",
       " '1849-Taylor.txt',\n",
       " '1853-Pierce.txt',\n",
       " '1857-Buchanan.txt',\n",
       " '1861-Lincoln.txt',\n",
       " '1865-Lincoln.txt',\n",
       " '1869-Grant.txt',\n",
       " '1873-Grant.txt',\n",
       " '1877-Hayes.txt',\n",
       " '1881-Garfield.txt',\n",
       " '1885-Cleveland.txt',\n",
       " '1889-Harrison.txt',\n",
       " '1893-Cleveland.txt',\n",
       " '1897-McKinley.txt',\n",
       " '1901-McKinley.txt',\n",
       " '1905-Roosevelt.txt',\n",
       " '1909-Taft.txt',\n",
       " '1913-Wilson.txt',\n",
       " '1917-Wilson.txt',\n",
       " '1921-Harding.txt',\n",
       " '1925-Coolidge.txt',\n",
       " '1929-Hoover.txt',\n",
       " '1933-Roosevelt.txt',\n",
       " '1937-Roosevelt.txt',\n",
       " '1941-Roosevelt.txt',\n",
       " '1945-Roosevelt.txt',\n",
       " '1949-Truman.txt',\n",
       " '1953-Eisenhower.txt',\n",
       " '1957-Eisenhower.txt',\n",
       " '1961-Kennedy.txt',\n",
       " '1965-Johnson.txt',\n",
       " '1969-Nixon.txt',\n",
       " '1973-Nixon.txt',\n",
       " '1977-Carter.txt',\n",
       " '1981-Reagan.txt',\n",
       " '1985-Reagan.txt',\n",
       " '1989-Bush.txt',\n",
       " '1993-Clinton.txt',\n",
       " '1997-Clinton.txt',\n",
       " '2001-Bush.txt',\n",
       " '2005-Bush.txt',\n",
       " '2009-Obama.txt']"
      ]
     },
     "execution_count": 2,
     "metadata": {},
     "output_type": "execute_result"
    }
   ],
   "source": [
    "inaugural.fileids()"
   ]
  },
  {
   "cell_type": "markdown",
   "metadata": {},
   "source": [
    "# Setting up corpus to be analyzed"
   ]
  },
  {
   "cell_type": "code",
   "execution_count": 3,
   "metadata": {
    "collapsed": true
   },
   "outputs": [],
   "source": [
    "with open('obama-2013.txt', 'r') as myfile:\n",
    "    obama2013 = myfile.read()"
   ]
  },
  {
   "cell_type": "markdown",
   "metadata": {
    "collapsed": true
   },
   "source": [
    "## raw format of the presidential inaugurations"
   ]
  },
  {
   "cell_type": "code",
   "execution_count": 4,
   "metadata": {
    "collapsed": true
   },
   "outputs": [],
   "source": [
    "def text_cleaner(text):\n",
    "    text = re.sub(r'([-])', ' ', text)\n",
    "    text = re.sub(r'[\\.]{2,}', ' ', text)\n",
    "    text = re.sub(r'(\\(.*?\\))', '', text)\n",
    "    text = re.sub(r'(\\s{2,})', ' ', text)\n",
    "    text = ' '.join(text.split('\\n'))\n",
    "    return text"
   ]
  },
  {
   "cell_type": "code",
   "execution_count": 5,
   "metadata": {
    "collapsed": true
   },
   "outputs": [],
   "source": [
    "washington_1789 = text_cleaner(inaugural.raw('1789-Washington.txt'))\n",
    "washington_1793 = text_cleaner(inaugural.raw('1793-Washington.txt'))\n",
    "\n",
    "jefferson_1801 = text_cleaner(inaugural.raw('1801-Jefferson.txt'))\n",
    "jefferson_1805 = text_cleaner(inaugural.raw('1805-Jefferson.txt'))\n",
    "\n",
    "madison_1809 = text_cleaner(inaugural.raw('1809-Madison.txt'))\n",
    "madison_1813 = text_cleaner(inaugural.raw('1813-Madison.txt'))\n",
    "\n",
    "lincoln_1861 = text_cleaner(inaugural.raw('1861-Lincoln.txt'))\n",
    "lincoln_1865 = text_cleaner(inaugural.raw('1865-Lincoln.txt'))\n",
    "\n",
    "grant_1869 = text_cleaner(inaugural.raw('1869-Grant.txt'))\n",
    "grant_1873 = text_cleaner(inaugural.raw('1873-Grant.txt'))\n",
    "\n",
    "wilson_1913 = text_cleaner(inaugural.raw('1913-Wilson.txt'))\n",
    "wilson_1917 = text_cleaner(inaugural.raw('1917-Wilson.txt'))\n",
    "\n",
    "fdr_1933 = text_cleaner(inaugural.raw('1933-Roosevelt.txt')) \n",
    "fdr_1937 = text_cleaner(inaugural.raw('1937-Roosevelt.txt')) \n",
    "fdr_1941 = text_cleaner(inaugural.raw('1941-Roosevelt.txt')) \n",
    "fdr_1945 = text_cleaner(inaugural.raw('1945-Roosevelt.txt'))\n",
    "\n",
    "eisenhower_1953 = text_cleaner(inaugural.raw('1953-Eisenhower.txt')) \n",
    "eisenhower_1957 = text_cleaner(inaugural.raw('1957-Eisenhower.txt'))\n",
    "\n",
    "kennedy_1961 = text_cleaner(inaugural.raw('1961-Kennedy.txt'))\n",
    "\n",
    "johnson_1965 = text_cleaner(inaugural.raw('1965-Johnson.txt'))\n",
    "\n",
    "nixon_1969 = text_cleaner(inaugural.raw('1969-Nixon.txt'))\n",
    "nixon_1973 = text_cleaner(inaugural.raw('1973-Nixon.txt'))\n",
    "\n",
    "reagan_1981 = text_cleaner(inaugural.raw('1981-Reagan.txt')) \n",
    "reagan_1985 = text_cleaner(inaugural.raw('1985-Reagan.txt'))\n",
    "\n",
    "clinton_1993 = text_cleaner(inaugural.raw('1993-Clinton.txt'))\n",
    "clinton_1997 = text_cleaner(inaugural.raw('1997-Clinton.txt'))\n",
    "\n",
    "bush_2001 = text_cleaner(inaugural.raw('2001-Bush.txt')) \n",
    "bush_2005 = text_cleaner(inaugural.raw('2005-Bush.txt'))\n",
    "\n",
    "obama_2009 = text_cleaner(inaugural.raw('2009-Obama.txt')) \n",
    "obama_2013 = text_cleaner(obama2013)\n",
    "\n",
    "pres = [washington_1789, washington_1793, jefferson_1801, jefferson_1805, madison_1809, madison_1813, lincoln_1861, lincoln_1865,\n",
    "        grant_1869, grant_1873, wilson_1913, wilson_1917, fdr_1933, fdr_1937, fdr_1941, fdr_1945, eisenhower_1953, \n",
    "        eisenhower_1957, kennedy_1961, johnson_1965, nixon_1969, nixon_1973, reagan_1981, reagan_1985, clinton_1993, \n",
    "        clinton_1997, bush_2001, bush_2005, obama_2009, obama_2013]"
   ]
  },
  {
   "cell_type": "code",
   "execution_count": 6,
   "metadata": {
    "collapsed": true
   },
   "outputs": [],
   "source": [
    "full_doc=''\n",
    "for i in pres:\n",
    "    full_doc += i"
   ]
  },
  {
   "cell_type": "code",
   "execution_count": 7,
   "metadata": {
    "collapsed": true
   },
   "outputs": [],
   "source": [
    "nlp = spacy.load('en')\n",
    "\n",
    "washington_1789_doc = nlp(washington_1789)\n",
    "washington_1793_doc = nlp(washington_1793)\n",
    "jefferson_1801_doc = nlp(jefferson_1801)\n",
    "jefferson_1805_doc = nlp(jefferson_1805)\n",
    "madison_1809_doc = nlp(madison_1809)\n",
    "madison_1813_doc = nlp(madison_1813)\n",
    "lincoln_1861_doc = nlp(lincoln_1861)\n",
    "lincoln_1865_doc = nlp(lincoln_1865)\n",
    "grant_1869_doc = nlp(grant_1869)\n",
    "grant_1873_doc = nlp(grant_1873)\n",
    "wilson_1913_doc = nlp(wilson_1913)\n",
    "wilson_1917_doc = nlp(wilson_1917)\n",
    "fdr_1933_doc = nlp(fdr_1933)\n",
    "fdr_1937_doc = nlp(fdr_1937)\n",
    "fdr_1941_doc = nlp(fdr_1941)\n",
    "fdr_1945_doc = nlp(fdr_1945)\n",
    "eisenhower_1953_doc = nlp(eisenhower_1953)\n",
    "eisenhower_1957_doc = nlp(eisenhower_1957)\n",
    "kennedy_1961_doc = nlp(kennedy_1961)\n",
    "johnson_1965_doc = nlp(johnson_1965)\n",
    "nixon_1969_doc = nlp(nixon_1969)\n",
    "nixon_1973_doc = nlp(nixon_1973)\n",
    "reagan_1981_doc = nlp(reagan_1981)\n",
    "reagan_1985_doc = nlp(reagan_1985)\n",
    "clinton_1993_doc = nlp(clinton_1993)\n",
    "clinton_1997_doc = nlp(clinton_1997)\n",
    "bush_2001_doc = nlp(bush_2001)\n",
    "bush_2005_doc = nlp(bush_2005)\n",
    "obama_2009_doc = nlp(obama_2009)\n",
    "obama_2013_doc = nlp(obama_2013)\n",
    "\n",
    "full_doc = nlp(full_doc)"
   ]
  },
  {
   "cell_type": "code",
   "execution_count": 8,
   "metadata": {
    "collapsed": true
   },
   "outputs": [],
   "source": [
    "washington_sents = ([[sents, 'George Washington', 'Other', 'Washington 1789', 'Pre Civil-War era'] for sents in washington_1789_doc.sents]\n",
    "+[[sents, 'George Washington', 'Other', 'Washington 1793', 'Pre Civil-War era'] for sents in washington_1793_doc.sents])\n",
    "\n",
    "jefferson_sents = ([[sents, 'Thomas Jefferson', 'Other', 'Jefferson 1801', 'Pre Civil-War era'] for sents in jefferson_1801_doc.sents]\n",
    "+[[sents, 'Thomas Jefferson', 'Other', 'Jefferson 1805', 'Pre Civil-War era'] for sents in jefferson_1805_doc.sents])\n",
    "\n",
    "madison_sents = ([[sents, 'James Madison', 'Other', 'Madison 1809', 'Pre Civil-War era'] for sents in madison_1809_doc.sents]\n",
    "+[[sents, 'James Madison', 'Other', 'Madison 1813', 'Pre Civil-War era'] for sents in madison_1813_doc.sents])\n",
    "\n",
    "lincoln_sents = ([[sents, 'Abraham Lincoln', 'Other', 'Lincoln 1861', 'Pre Civil-War era'] for sents in lincoln_1861_doc.sents]\n",
    "+[[sents, 'Abraham Lincoln', 'Other', 'Lincoln 1865', 'Post Civil-War era'] for sents in lincoln_1865_doc.sents])\n",
    "\n",
    "grant_sents = ([[sents, 'Ulysses S. Grant', 'Republican', 'Grant 1869', 'Post Civil-War era'] for sents in grant_1869_doc.sents]\n",
    "+[[sents, 'Ulysses S. Grant', 'Republican', 'Grant 1873', 'Post Civil-War era'] for sents in grant_1873_doc.sents])\n",
    "\n",
    "wilson_sents = ([[sents, 'Woodrow Wilson', 'Democrat', 'Wilson 1913', 'Post Civil-War era'] for sents in wilson_1913_doc.sents]\n",
    "+[[sents, 'Woodrow Wilson', 'Democrat', 'Wilson 1917', 'Post Civil-War era'] for sents in wilson_1917_doc.sents])\n",
    "\n",
    "fdr_sents = ([[sents, 'Franklin Delano Roosevelt', 'Democrat', 'FDR 1933', 'Post Civil-War era'] for sents in fdr_1933_doc.sents]\n",
    "+[[sents, 'Franklin Delano Roosevelt', 'Democrat', 'FDR 1937', 'Post Civil-War era'] for sents in fdr_1937_doc.sents]\n",
    "+[[sents, 'Franklin Delano Roosevelt', 'Democrat', 'FDR 1941', 'Post Civil-War era'] for sents in fdr_1941_doc.sents]\n",
    "+[[sents, 'Franklin Delano Roosevelt', 'Democrat', 'FDR 1945', 'Post Civil-War era'] for sents in fdr_1945_doc.sents])\n",
    "\n",
    "eisenhower_sents = ([[sents, 'Dwight D. Eisenhower', 'Republican', 'Eisenhower 1953', 'Post World Wars'] for sents in eisenhower_1953_doc.sents]\n",
    "+[[sents, 'Dwight D. Eisenhower', 'Republican', 'Eisenhower 1957', 'Post World Wars'] for sents in eisenhower_1957_doc.sents])\n",
    "\n",
    "kennedy_sents = [[sents, 'John F. Kennedy', 'Democrat', 'Kennedy 1961', 'Post World Wars'] for sents in kennedy_1961_doc.sents]\n",
    "\n",
    "johnson_sents = [[sents, 'Lyndon B. Johnson', 'Democrat', 'Johnson 1965', 'Post World Wars'] for sents in johnson_1965_doc.sents]\n",
    "\n",
    "nixon_sents = ([[sents, 'Richard Nixon', 'Republican', 'Nixon 1969', 'Post World Wars'] for sents in nixon_1969_doc.sents]\n",
    "+[[sents, 'Richard Nixon', 'Republican', 'Nixon 1973', 'Post World Wars'] for sents in nixon_1973_doc.sents])\n",
    "\n",
    "reagan_sents = ([[sents, 'Ronald Reagan', 'Republican', 'Reagan 1981', 'Post World Wars'] for sents in reagan_1981_doc.sents]\n",
    "+[[sents, 'Ronald Reagan', 'Republican', 'Reagan 1985', 'Post World Wars'] for sents in reagan_1985_doc.sents])\n",
    "\n",
    "clinton_sents = ([[sents, 'Bill Clinton', 'Democrat', 'Clinton 1993', 'Post World Wars'] for sents in clinton_1993_doc.sents]\n",
    "+[[sents, 'Bill Clinton', 'Democrat', 'Clinton 1997', 'Post World Wars'] for sents in clinton_1997_doc.sents])\n",
    "\n",
    "bush_sents = ([[sents, 'George W. Bush', 'Republican', 'Bush 2001', 'Post World Wars'] for sents in bush_2001_doc.sents]\n",
    "+[[sents, 'George W. Bush', 'Republican', 'Bush 2005', 'Post World Wars'] for sents in bush_2005_doc.sents])\n",
    "\n",
    "obama_sents = ([[sents, 'Barack Obama', 'Democrat', 'Obama 2009', 'Post World Wars'] for sents in obama_2009_doc.sents]\n",
    "+[[sents, 'Barack Obama', 'Democrat', 'Obama 2013', 'Post World Wars'] for sents in obama_2013_doc.sents])"
   ]
  },
  {
   "cell_type": "code",
   "execution_count": 9,
   "metadata": {
    "collapsed": true
   },
   "outputs": [],
   "source": [
    "pres_df = pd.DataFrame(washington_sents+jefferson_sents+madison_sents+lincoln_sents+grant_sents+wilson_sents+fdr_sents+\n",
    "                       eisenhower_sents+kennedy_sents+johnson_sents+nixon_sents+reagan_sents+clinton_sents+bush_sents+obama_sents)"
   ]
  },
  {
   "cell_type": "markdown",
   "metadata": {},
   "source": [
    "# Data exploration"
   ]
  },
  {
   "cell_type": "code",
   "execution_count": 10,
   "metadata": {},
   "outputs": [
    {
     "name": "stderr",
     "output_type": "stream",
     "text": [
      "C:\\Users\\sohai\\Anaconda3\\lib\\site-packages\\ipykernel_launcher.py:2: FutureWarning: using a dict on a Series for aggregation\n",
      "is deprecated and will be removed in a future version\n",
      "  \n"
     ]
    }
   ],
   "source": [
    "pres_df['Sentence_len'] = pres_df[0].map(lambda x: len(x))\n",
    "avg_sent_by_pres = pres_df.groupby(3, sort=False)['Sentence_len'].agg({'Average': 'mean'})"
   ]
  },
  {
   "cell_type": "code",
   "execution_count": 11,
   "metadata": {},
   "outputs": [
    {
     "data": {
      "image/png": "[encoded data removed]",
      "text/plain": [
       "<matplotlib.figure.Figure at 0x2b949de9978>"
      ]
     },
     "metadata": {},
     "output_type": "display_data"
    }
   ],
   "source": [
    "avg_sent_by_pres.plot(y='Average', kind='bar', figsize=(15,7), title=\"Average Sentence Length by Inaugural Speech\")\n",
    "plt.show()"
   ]
  },
  {
   "cell_type": "code",
   "execution_count": 12,
   "metadata": {
    "collapsed": true
   },
   "outputs": [],
   "source": [
    "similarity_df = pd.DataFrame(data=pres, columns=['Speech'],\n",
    "                             index=pres_df[3].unique())"
   ]
  },
  {
   "cell_type": "code",
   "execution_count": 13,
   "metadata": {
    "collapsed": true
   },
   "outputs": [],
   "source": [
    "similarity_df['Speech_length'] = similarity_df['Speech'].map(lambda x: len(x))"
   ]
  },
  {
   "cell_type": "code",
   "execution_count": 14,
   "metadata": {},
   "outputs": [
    {
     "data": {
      "image/png": "[encoded data removed]",
      "text/plain": [
       "<matplotlib.figure.Figure at 0x2b94bf526d8>"
      ]
     },
     "metadata": {},
     "output_type": "display_data"
    }
   ],
   "source": [
    "plt.figure(figsize=(14,8))\n",
    "sns.barplot(x=similarity_df.index, y=similarity_df['Speech_length'])\n",
    "plt.title(\"Speech Length by Inaugural Speech\")\n",
    "plt.xticks(rotation=90)\n",
    "plt.show()"
   ]
  },
  {
   "cell_type": "code",
   "execution_count": 17,
   "metadata": {
    "collapsed": true
   },
   "outputs": [],
   "source": [
    "#Getting the top occurring words in the corpus\n",
    "def get_top_n_words(n_top_words, count_vectorizer, text_data):\n",
    "    vectorized_sents = count_vectorizer.fit_transform(text_data.as_matrix())\n",
    "    \n",
    "    vectorized_total = np.sum(vectorized_sents, axis=0)\n",
    "    word_indices = np.flip(np.argsort(vectorized_total)[0,:], 1)\n",
    "    word_values = np.flip(np.sort(vectorized_total)[0,:],1)\n",
    "    \n",
    "    word_vectors = np.zeros((n_top_words, vectorized_sents.shape[1]))\n",
    "    for i in range(n_top_words):\n",
    "        word_vectors[i,word_indices[0,i]] = 1\n",
    "\n",
    "    words = [word[0].encode('ascii').decode('utf-8') for word in count_vectorizer.inverse_transform(word_vectors)]\n",
    "\n",
    "    return (words, word_values[0,:n_top_words].tolist()[0])"
   ]
  },
  {
   "cell_type": "code",
   "execution_count": 18,
   "metadata": {
    "collapsed": true
   },
   "outputs": [],
   "source": [
    "from sklearn.feature_extraction.text import CountVectorizer\n",
    "\n",
    "word_counts = {}\n",
    "\n",
    "count_vectorizer = CountVectorizer(stop_words='english', min_df=1)"
   ]
  },
  {
   "cell_type": "code",
   "execution_count": 19,
   "metadata": {},
   "outputs": [
    {
     "name": "stderr",
     "output_type": "stream",
     "text": [
      "C:\\Users\\sohai\\Anaconda3\\lib\\site-packages\\ipykernel_launcher.py:3: FutureWarning: Method .as_matrix will be removed in a future version. Use .values instead.\n",
      "  This is separate from the ipykernel package so we can avoid doing imports until\n"
     ]
    }
   ],
   "source": [
    "PYTHONIOENCODING='utf-8'\n",
    "def get_counts(df):\n",
    "    counts = {}\n",
    "    for i in pres_df[1].unique():\n",
    "        words, word_values = get_top_n_words(n_top_words=20, count_vectorizer=count_vectorizer, text_data=df[df[1]==i][0].astype(str))\n",
    "        counts[i] = words\n",
    "    return counts\n",
    "word_counts = get_counts(pres_df)"
   ]
  },
  {
   "cell_type": "code",
   "execution_count": 20,
   "metadata": {},
   "outputs": [
    {
     "name": "stderr",
     "output_type": "stream",
     "text": [
      "C:\\Users\\sohai\\Anaconda3\\lib\\site-packages\\ipykernel_launcher.py:3: FutureWarning: Method .as_matrix will be removed in a future version. Use .values instead.\n",
      "  This is separate from the ipykernel package so we can avoid doing imports until\n"
     ]
    },
    {
     "data": {
      "text/plain": [
       "Text(0.5,1,'Top Words by All Presidents')"
      ]
     },
     "execution_count": 20,
     "metadata": {},
     "output_type": "execute_result"
    },
    {
     "data": {
      "image/png": "[encoded data removed]",
      "text/plain": [
       "<matplotlib.figure.Figure at 0x2b900bf6ba8>"
      ]
     },
     "metadata": {},
     "output_type": "display_data"
    }
   ],
   "source": [
    "words, word_values = get_top_n_words(n_top_words=20, count_vectorizer=count_vectorizer, text_data=pres_df[0].astype(str))\n",
    "#Try doing this with lemmas\n",
    "fig, ax = plt.subplots(figsize=(20,8))\n",
    "ax.bar(range(len(words)), word_values)\n",
    "ax.set_xticks(range(len(words)))\n",
    "ax.set_xticklabels(words)\n",
    "ax.set_title('Top Words by All Presidents')"
   ]
  },
  {
   "cell_type": "markdown",
   "metadata": {},
   "source": [
    "## Most common words for each president"
   ]
  },
  {
   "cell_type": "code",
   "execution_count": 21,
   "metadata": {},
   "outputs": [
    {
     "data": {
      "text/html": [
       "<div>\n",
       "<style scoped>\n",
       "    .dataframe tbody tr th:only-of-type {\n",
       "        vertical-align: middle;\n",
       "    }\n",
       "\n",
       "    .dataframe tbody tr th {\n",
       "        vertical-align: top;\n",
       "    }\n",
       "\n",
       "    .dataframe thead th {\n",
       "        text-align: right;\n",
       "    }\n",
       "</style>\n",
       "<table border=\"1\" class=\"dataframe\">\n",
       "  <thead>\n",
       "    <tr style=\"text-align: right;\">\n",
       "      <th></th>\n",
       "      <th>0</th>\n",
       "      <th>1</th>\n",
       "      <th>2</th>\n",
       "      <th>3</th>\n",
       "      <th>4</th>\n",
       "      <th>5</th>\n",
       "      <th>6</th>\n",
       "      <th>7</th>\n",
       "      <th>8</th>\n",
       "      <th>9</th>\n",
       "      <th>10</th>\n",
       "      <th>11</th>\n",
       "      <th>12</th>\n",
       "      <th>13</th>\n",
       "      <th>14</th>\n",
       "      <th>15</th>\n",
       "      <th>16</th>\n",
       "      <th>17</th>\n",
       "      <th>18</th>\n",
       "      <th>19</th>\n",
       "    </tr>\n",
       "  </thead>\n",
       "  <tbody>\n",
       "    <tr>\n",
       "      <th>George Washington</th>\n",
       "      <td>government</td>\n",
       "      <td>citizens</td>\n",
       "      <td>present</td>\n",
       "      <td>shall</td>\n",
       "      <td>country</td>\n",
       "      <td>public</td>\n",
       "      <td>united</td>\n",
       "      <td>people</td>\n",
       "      <td>duty</td>\n",
       "      <td>ought</td>\n",
       "      <td>fellow</td>\n",
       "      <td>measures</td>\n",
       "      <td>official</td>\n",
       "      <td>good</td>\n",
       "      <td>hand</td>\n",
       "      <td>subject</td>\n",
       "      <td>far</td>\n",
       "      <td>voice</td>\n",
       "      <td>confidence</td>\n",
       "      <td>happiness</td>\n",
       "    </tr>\n",
       "    <tr>\n",
       "      <th>Thomas Jefferson</th>\n",
       "      <td>public</td>\n",
       "      <td>citizens</td>\n",
       "      <td>government</td>\n",
       "      <td>fellow</td>\n",
       "      <td>shall</td>\n",
       "      <td>state</td>\n",
       "      <td>let</td>\n",
       "      <td>peace</td>\n",
       "      <td>good</td>\n",
       "      <td>man</td>\n",
       "      <td>constitution</td>\n",
       "      <td>country</td>\n",
       "      <td>power</td>\n",
       "      <td>law</td>\n",
       "      <td>opinion</td>\n",
       "      <td>principle</td>\n",
       "      <td>reason</td>\n",
       "      <td>safety</td>\n",
       "      <td>principles</td>\n",
       "      <td>duties</td>\n",
       "    </tr>\n",
       "    <tr>\n",
       "      <th>James Madison</th>\n",
       "      <td>war</td>\n",
       "      <td>country</td>\n",
       "      <td>public</td>\n",
       "      <td>states</td>\n",
       "      <td>united</td>\n",
       "      <td>nations</td>\n",
       "      <td>spirit</td>\n",
       "      <td>nation</td>\n",
       "      <td>rights</td>\n",
       "      <td>justice</td>\n",
       "      <td>long</td>\n",
       "      <td>british</td>\n",
       "      <td>citizens</td>\n",
       "      <td>confidence</td>\n",
       "      <td>resources</td>\n",
       "      <td>support</td>\n",
       "      <td>people</td>\n",
       "      <td>peace</td>\n",
       "      <td>honorable</td>\n",
       "      <td>sense</td>\n",
       "    </tr>\n",
       "    <tr>\n",
       "      <th>Abraham Lincoln</th>\n",
       "      <td>constitution</td>\n",
       "      <td>union</td>\n",
       "      <td>shall</td>\n",
       "      <td>people</td>\n",
       "      <td>states</td>\n",
       "      <td>government</td>\n",
       "      <td>war</td>\n",
       "      <td>law</td>\n",
       "      <td>right</td>\n",
       "      <td>national</td>\n",
       "      <td>case</td>\n",
       "      <td>laws</td>\n",
       "      <td>state</td>\n",
       "      <td>constitutional</td>\n",
       "      <td>years</td>\n",
       "      <td>authority</td>\n",
       "      <td>make</td>\n",
       "      <td>time</td>\n",
       "      <td>citizens</td>\n",
       "      <td>minority</td>\n",
       "    </tr>\n",
       "    <tr>\n",
       "      <th>Ulysses S. Grant</th>\n",
       "      <td>country</td>\n",
       "      <td>best</td>\n",
       "      <td>office</td>\n",
       "      <td>people</td>\n",
       "      <td>great</td>\n",
       "      <td>government</td>\n",
       "      <td>nation</td>\n",
       "      <td>laws</td>\n",
       "      <td>public</td>\n",
       "      <td>good</td>\n",
       "      <td>question</td>\n",
       "      <td>years</td>\n",
       "      <td>states</td>\n",
       "      <td>subject</td>\n",
       "      <td>dollar</td>\n",
       "      <td>far</td>\n",
       "      <td>commerce</td>\n",
       "      <td>nations</td>\n",
       "      <td>territory</td>\n",
       "      <td>support</td>\n",
       "    </tr>\n",
       "    <tr>\n",
       "      <th>Woodrow Wilson</th>\n",
       "      <td>great</td>\n",
       "      <td>shall</td>\n",
       "      <td>men</td>\n",
       "      <td>life</td>\n",
       "      <td>things</td>\n",
       "      <td>nation</td>\n",
       "      <td>purpose</td>\n",
       "      <td>justice</td>\n",
       "      <td>government</td>\n",
       "      <td>world</td>\n",
       "      <td>thought</td>\n",
       "      <td>new</td>\n",
       "      <td>people</td>\n",
       "      <td>counsel</td>\n",
       "      <td>set</td>\n",
       "      <td>action</td>\n",
       "      <td>duty</td>\n",
       "      <td>industrial</td>\n",
       "      <td>party</td>\n",
       "      <td>peace</td>\n",
       "    </tr>\n",
       "    <tr>\n",
       "      <th>Franklin Delano Roosevelt</th>\n",
       "      <td>people</td>\n",
       "      <td>nation</td>\n",
       "      <td>government</td>\n",
       "      <td>shall</td>\n",
       "      <td>democracy</td>\n",
       "      <td>men</td>\n",
       "      <td>life</td>\n",
       "      <td>know</td>\n",
       "      <td>spirit</td>\n",
       "      <td>new</td>\n",
       "      <td>national</td>\n",
       "      <td>years</td>\n",
       "      <td>world</td>\n",
       "      <td>good</td>\n",
       "      <td>way</td>\n",
       "      <td>states</td>\n",
       "      <td>peace</td>\n",
       "      <td>great</td>\n",
       "      <td>united</td>\n",
       "      <td>today</td>\n",
       "    </tr>\n",
       "    <tr>\n",
       "      <th>Dwight D. Eisenhower</th>\n",
       "      <td>world</td>\n",
       "      <td>free</td>\n",
       "      <td>peace</td>\n",
       "      <td>freedom</td>\n",
       "      <td>nations</td>\n",
       "      <td>people</td>\n",
       "      <td>shall</td>\n",
       "      <td>strength</td>\n",
       "      <td>faith</td>\n",
       "      <td>know</td>\n",
       "      <td>peoples</td>\n",
       "      <td>men</td>\n",
       "      <td>hope</td>\n",
       "      <td>seek</td>\n",
       "      <td>help</td>\n",
       "      <td>life</td>\n",
       "      <td>time</td>\n",
       "      <td>power</td>\n",
       "      <td>common</td>\n",
       "      <td>country</td>\n",
       "    </tr>\n",
       "    <tr>\n",
       "      <th>John F. Kennedy</th>\n",
       "      <td>let</td>\n",
       "      <td>world</td>\n",
       "      <td>sides</td>\n",
       "      <td>pledge</td>\n",
       "      <td>new</td>\n",
       "      <td>shall</td>\n",
       "      <td>citizens</td>\n",
       "      <td>power</td>\n",
       "      <td>ask</td>\n",
       "      <td>free</td>\n",
       "      <td>nations</td>\n",
       "      <td>hope</td>\n",
       "      <td>man</td>\n",
       "      <td>country</td>\n",
       "      <td>americans</td>\n",
       "      <td>fellow</td>\n",
       "      <td>help</td>\n",
       "      <td>war</td>\n",
       "      <td>peace</td>\n",
       "      <td>president</td>\n",
       "    </tr>\n",
       "    <tr>\n",
       "      <th>Lyndon B. Johnson</th>\n",
       "      <td>change</td>\n",
       "      <td>nation</td>\n",
       "      <td>man</td>\n",
       "      <td>union</td>\n",
       "      <td>people</td>\n",
       "      <td>world</td>\n",
       "      <td>old</td>\n",
       "      <td>justice</td>\n",
       "      <td>liberty</td>\n",
       "      <td>land</td>\n",
       "      <td>american</td>\n",
       "      <td>covenant</td>\n",
       "      <td>great</td>\n",
       "      <td>new</td>\n",
       "      <td>believe</td>\n",
       "      <td>way</td>\n",
       "      <td>time</td>\n",
       "      <td>day</td>\n",
       "      <td>generation</td>\n",
       "      <td>faith</td>\n",
       "    </tr>\n",
       "    <tr>\n",
       "      <th>Richard Nixon</th>\n",
       "      <td>let</td>\n",
       "      <td>peace</td>\n",
       "      <td>world</td>\n",
       "      <td>america</td>\n",
       "      <td>new</td>\n",
       "      <td>people</td>\n",
       "      <td>make</td>\n",
       "      <td>nation</td>\n",
       "      <td>government</td>\n",
       "      <td>great</td>\n",
       "      <td>years</td>\n",
       "      <td>home</td>\n",
       "      <td>history</td>\n",
       "      <td>responsibility</td>\n",
       "      <td>time</td>\n",
       "      <td>shall</td>\n",
       "      <td>today</td>\n",
       "      <td>better</td>\n",
       "      <td>god</td>\n",
       "      <td>man</td>\n",
       "    </tr>\n",
       "    <tr>\n",
       "      <th>Ronald Reagan</th>\n",
       "      <td>government</td>\n",
       "      <td>people</td>\n",
       "      <td>world</td>\n",
       "      <td>freedom</td>\n",
       "      <td>time</td>\n",
       "      <td>americans</td>\n",
       "      <td>god</td>\n",
       "      <td>america</td>\n",
       "      <td>history</td>\n",
       "      <td>let</td>\n",
       "      <td>believe</td>\n",
       "      <td>work</td>\n",
       "      <td>new</td>\n",
       "      <td>today</td>\n",
       "      <td>national</td>\n",
       "      <td>day</td>\n",
       "      <td>man</td>\n",
       "      <td>human</td>\n",
       "      <td>nation</td>\n",
       "      <td>peace</td>\n",
       "    </tr>\n",
       "    <tr>\n",
       "      <th>Bill Clinton</th>\n",
       "      <td>new</td>\n",
       "      <td>world</td>\n",
       "      <td>america</td>\n",
       "      <td>people</td>\n",
       "      <td>century</td>\n",
       "      <td>time</td>\n",
       "      <td>nation</td>\n",
       "      <td>let</td>\n",
       "      <td>today</td>\n",
       "      <td>americans</td>\n",
       "      <td>work</td>\n",
       "      <td>government</td>\n",
       "      <td>american</td>\n",
       "      <td>land</td>\n",
       "      <td>fellow</td>\n",
       "      <td>change</td>\n",
       "      <td>promise</td>\n",
       "      <td>children</td>\n",
       "      <td>citizens</td>\n",
       "      <td>democracy</td>\n",
       "    </tr>\n",
       "    <tr>\n",
       "      <th>George W. Bush</th>\n",
       "      <td>freedom</td>\n",
       "      <td>america</td>\n",
       "      <td>nation</td>\n",
       "      <td>country</td>\n",
       "      <td>liberty</td>\n",
       "      <td>citizens</td>\n",
       "      <td>americans</td>\n",
       "      <td>time</td>\n",
       "      <td>world</td>\n",
       "      <td>know</td>\n",
       "      <td>story</td>\n",
       "      <td>history</td>\n",
       "      <td>work</td>\n",
       "      <td>justice</td>\n",
       "      <td>cause</td>\n",
       "      <td>hope</td>\n",
       "      <td>character</td>\n",
       "      <td>day</td>\n",
       "      <td>free</td>\n",
       "      <td>united</td>\n",
       "    </tr>\n",
       "    <tr>\n",
       "      <th>Barack Obama</th>\n",
       "      <td>america</td>\n",
       "      <td>people</td>\n",
       "      <td>nation</td>\n",
       "      <td>new</td>\n",
       "      <td>time</td>\n",
       "      <td>today</td>\n",
       "      <td>generation</td>\n",
       "      <td>god</td>\n",
       "      <td>world</td>\n",
       "      <td>work</td>\n",
       "      <td>common</td>\n",
       "      <td>let</td>\n",
       "      <td>journey</td>\n",
       "      <td>freedom</td>\n",
       "      <td>make</td>\n",
       "      <td>country</td>\n",
       "      <td>words</td>\n",
       "      <td>just</td>\n",
       "      <td>long</td>\n",
       "      <td>american</td>\n",
       "    </tr>\n",
       "  </tbody>\n",
       "</table>\n",
       "</div>"
      ],
      "text/plain": [
       "                                     0         1           2        3   \\\n",
       "George Washington            government  citizens     present    shall   \n",
       "Thomas Jefferson                 public  citizens  government   fellow   \n",
       "James Madison                       war   country      public   states   \n",
       "Abraham Lincoln            constitution     union       shall   people   \n",
       "Ulysses S. Grant                country      best      office   people   \n",
       "Woodrow Wilson                    great     shall         men     life   \n",
       "Franklin Delano Roosevelt        people    nation  government    shall   \n",
       "Dwight D. Eisenhower              world      free       peace  freedom   \n",
       "John F. Kennedy                     let     world       sides   pledge   \n",
       "Lyndon B. Johnson                change    nation         man    union   \n",
       "Richard Nixon                       let     peace       world  america   \n",
       "Ronald Reagan                government    people       world  freedom   \n",
       "Bill Clinton                        new     world     america   people   \n",
       "George W. Bush                  freedom   america      nation  country   \n",
       "Barack Obama                    america    people      nation      new   \n",
       "\n",
       "                                  4           5           6         7   \\\n",
       "George Washington            country      public      united    people   \n",
       "Thomas Jefferson               shall       state         let     peace   \n",
       "James Madison                 united     nations      spirit    nation   \n",
       "Abraham Lincoln               states  government         war       law   \n",
       "Ulysses S. Grant               great  government      nation      laws   \n",
       "Woodrow Wilson                things      nation     purpose   justice   \n",
       "Franklin Delano Roosevelt  democracy         men        life      know   \n",
       "Dwight D. Eisenhower         nations      people       shall  strength   \n",
       "John F. Kennedy                  new       shall    citizens     power   \n",
       "Lyndon B. Johnson             people       world         old   justice   \n",
       "Richard Nixon                    new      people        make    nation   \n",
       "Ronald Reagan                   time   americans         god   america   \n",
       "Bill Clinton                 century        time      nation       let   \n",
       "George W. Bush               liberty    citizens   americans      time   \n",
       "Barack Obama                    time       today  generation       god   \n",
       "\n",
       "                                   8          9             10          11  \\\n",
       "George Washington                duty      ought        fellow    measures   \n",
       "Thomas Jefferson                 good        man  constitution     country   \n",
       "James Madison                  rights    justice          long     british   \n",
       "Abraham Lincoln                 right   national          case        laws   \n",
       "Ulysses S. Grant               public       good      question       years   \n",
       "Woodrow Wilson             government      world       thought         new   \n",
       "Franklin Delano Roosevelt      spirit        new      national       years   \n",
       "Dwight D. Eisenhower            faith       know       peoples         men   \n",
       "John F. Kennedy                   ask       free       nations        hope   \n",
       "Lyndon B. Johnson             liberty       land      american    covenant   \n",
       "Richard Nixon              government      great         years        home   \n",
       "Ronald Reagan                 history        let       believe        work   \n",
       "Bill Clinton                    today  americans          work  government   \n",
       "George W. Bush                  world       know         story     history   \n",
       "Barack Obama                    world       work        common         let   \n",
       "\n",
       "                                 12              13         14         15  \\\n",
       "George Washington          official            good       hand    subject   \n",
       "Thomas Jefferson              power             law    opinion  principle   \n",
       "James Madison              citizens      confidence  resources    support   \n",
       "Abraham Lincoln               state  constitutional      years  authority   \n",
       "Ulysses S. Grant             states         subject     dollar        far   \n",
       "Woodrow Wilson               people         counsel        set     action   \n",
       "Franklin Delano Roosevelt     world            good        way     states   \n",
       "Dwight D. Eisenhower           hope            seek       help       life   \n",
       "John F. Kennedy                 man         country  americans     fellow   \n",
       "Lyndon B. Johnson             great             new    believe        way   \n",
       "Richard Nixon               history  responsibility       time      shall   \n",
       "Ronald Reagan                   new           today   national        day   \n",
       "Bill Clinton               american            land     fellow     change   \n",
       "George W. Bush                 work         justice      cause       hope   \n",
       "Barack Obama                journey         freedom       make    country   \n",
       "\n",
       "                                  16          17          18         19  \n",
       "George Washington                far       voice  confidence  happiness  \n",
       "Thomas Jefferson              reason      safety  principles     duties  \n",
       "James Madison                 people       peace   honorable      sense  \n",
       "Abraham Lincoln                 make        time    citizens   minority  \n",
       "Ulysses S. Grant            commerce     nations   territory    support  \n",
       "Woodrow Wilson                  duty  industrial       party      peace  \n",
       "Franklin Delano Roosevelt      peace       great      united      today  \n",
       "Dwight D. Eisenhower            time       power      common    country  \n",
       "John F. Kennedy                 help         war       peace  president  \n",
       "Lyndon B. Johnson               time         day  generation      faith  \n",
       "Richard Nixon                  today      better         god        man  \n",
       "Ronald Reagan                    man       human      nation      peace  \n",
       "Bill Clinton                 promise    children    citizens  democracy  \n",
       "George W. Bush             character         day        free     united  \n",
       "Barack Obama                   words        just        long   american  "
      ]
     },
     "execution_count": 21,
     "metadata": {},
     "output_type": "execute_result"
    }
   ],
   "source": [
    "pres_word_counts = pd.DataFrame.from_dict(word_counts, orient='index')\n",
    "pres_word_counts"
   ]
  },
  {
   "cell_type": "markdown",
   "metadata": {},
   "source": [
    "# Implementing bag of words along with punctuation counts"
   ]
  },
  {
   "cell_type": "code",
   "execution_count": 22,
   "metadata": {
    "collapsed": true
   },
   "outputs": [],
   "source": [
    "def bag_of_words(text):\n",
    "    # Filter out punctuation and stop words.\n",
    "    allwords = [token.lemma_\n",
    "                for token in text\n",
    "                if not token.is_punct\n",
    "                and not token.is_stop\n",
    "                and not token.is_space]\n",
    "    \n",
    "    # Return the most common words.\n",
    "    return [item[0] for item in Counter(allwords).most_common(350)]\n",
    "    \n",
    "def bow_features(sentences, common_words):\n",
    "    df = pd.DataFrame(columns=common_words)\n",
    "    df['text_sentence'] = sentences[0]\n",
    "    df['President'] = sentences[1]\n",
    "    df.loc[:, common_words] = 0\n",
    "    \n",
    "    # Process each row, counting the occurrence of words in each sentence.\n",
    "    for i, sentence in enumerate(df['text_sentence']):\n",
    "        words = [token.lemma_\n",
    "                 for token in sentence\n",
    "                 if (\n",
    "                     not token.is_punct\n",
    "                     and not token.is_stop\n",
    "                     and not token.is_space\n",
    "                     and token.lemma_ in common_words\n",
    "                 )]\n",
    "        \n",
    "        # Populate the row with word counts.\n",
    "        for word in words:\n",
    "            df.loc[i, word] += 1\n",
    "            \n",
    "        if i % 500 == 0:\n",
    "            print(\"Processing row {}\".format(i))\n",
    "            \n",
    "    return df"
   ]
  },
  {
   "cell_type": "code",
   "execution_count": 23,
   "metadata": {},
   "outputs": [
    {
     "data": {
      "text/plain": [
       "3252"
      ]
     },
     "execution_count": 23,
     "metadata": {},
     "output_type": "execute_result"
    }
   ],
   "source": [
    "wash_words = bag_of_words(washington_1789_doc) + bag_of_words(washington_1793_doc)\n",
    "jefferson_words = bag_of_words(jefferson_1801_doc) + bag_of_words(jefferson_1805_doc)\n",
    "madison_words = bag_of_words(madison_1809_doc) + bag_of_words(madison_1813_doc)\n",
    "lincoln_words = bag_of_words(lincoln_1861_doc) + bag_of_words(lincoln_1865_doc)\n",
    "grant_words = bag_of_words(grant_1869_doc) + bag_of_words(grant_1873_doc)\n",
    "wilson_words = bag_of_words(wilson_1913_doc) + bag_of_words(wilson_1917_doc)\n",
    "fdr_words = bag_of_words(fdr_1933_doc) + bag_of_words(fdr_1937_doc) + bag_of_words(fdr_1941_doc) + bag_of_words(fdr_1945_doc)\n",
    "eisenhower_words = bag_of_words(eisenhower_1953_doc) + bag_of_words(eisenhower_1957_doc)\n",
    "kennedy_words = bag_of_words(kennedy_1961_doc) \n",
    "johnson_words = bag_of_words(johnson_1965_doc)\n",
    "nixon_words = bag_of_words(nixon_1969_doc) + bag_of_words(nixon_1973_doc)\n",
    "reagan_words = bag_of_words(reagan_1981_doc) + bag_of_words(reagan_1985_doc)\n",
    "clinton_words = bag_of_words(clinton_1993_doc) + bag_of_words(clinton_1997_doc)\n",
    "bush_words = bag_of_words(bush_2001_doc) + bag_of_words(bush_2005_doc)\n",
    "obama_words = bag_of_words(obama_2009_doc) + bag_of_words(obama_2013_doc)\n",
    "\n",
    "#Wordset for all unique words used by all the authors\n",
    "common_words = set(wash_words+jefferson_words+madison_words+lincoln_words+grant_words+wilson_words+fdr_words+eisenhower_words\n",
    "                   +kennedy_words+johnson_words+nixon_words+reagan_words+clinton_words+bush_words+obama_words)\n",
    "len(common_words)"
   ]
  },
  {
   "cell_type": "code",
   "execution_count": 24,
   "metadata": {},
   "outputs": [
    {
     "name": "stdout",
     "output_type": "stream",
     "text": [
      "Processing row 0\n",
      "Processing row 500\n",
      "Processing row 1000\n",
      "Processing row 1500\n",
      "Processing row 2000\n"
     ]
    }
   ],
   "source": [
    "bow_feats = bow_features(pres_df, common_words)"
   ]
  },
  {
   "cell_type": "code",
   "execution_count": 25,
   "metadata": {},
   "outputs": [
    {
     "name": "stdout",
     "output_type": "stream",
     "text": [
      "(2231, 3254)\n"
     ]
    },
    {
     "data": {
      "text/html": [
       "<div>\n",
       "<style scoped>\n",
       "    .dataframe tbody tr th:only-of-type {\n",
       "        vertical-align: middle;\n",
       "    }\n",
       "\n",
       "    .dataframe tbody tr th {\n",
       "        vertical-align: top;\n",
       "    }\n",
       "\n",
       "    .dataframe thead th {\n",
       "        text-align: right;\n",
       "    }\n",
       "</style>\n",
       "<table border=\"1\" class=\"dataframe\">\n",
       "  <thead>\n",
       "    <tr style=\"text-align: right;\">\n",
       "      <th></th>\n",
       "      <th>skin</th>\n",
       "      <th>anybody</th>\n",
       "      <th>peace</th>\n",
       "      <th>ignorance</th>\n",
       "      <th>lawful</th>\n",
       "      <th>priority</th>\n",
       "      <th>false</th>\n",
       "      <th>exceed</th>\n",
       "      <th>countrymen</th>\n",
       "      <th>incomparably</th>\n",
       "      <th>...</th>\n",
       "      <th>shout</th>\n",
       "      <th>intention</th>\n",
       "      <th>predecessor</th>\n",
       "      <th>impression</th>\n",
       "      <th>insistence</th>\n",
       "      <th>constitutional</th>\n",
       "      <th>industrialist</th>\n",
       "      <th>feed</th>\n",
       "      <th>text_sentence</th>\n",
       "      <th>President</th>\n",
       "    </tr>\n",
       "  </thead>\n",
       "  <tbody>\n",
       "    <tr>\n",
       "      <th>0</th>\n",
       "      <td>0</td>\n",
       "      <td>0</td>\n",
       "      <td>0</td>\n",
       "      <td>0</td>\n",
       "      <td>0</td>\n",
       "      <td>0</td>\n",
       "      <td>0</td>\n",
       "      <td>0</td>\n",
       "      <td>0</td>\n",
       "      <td>0</td>\n",
       "      <td>...</td>\n",
       "      <td>0</td>\n",
       "      <td>0</td>\n",
       "      <td>0</td>\n",
       "      <td>0</td>\n",
       "      <td>0</td>\n",
       "      <td>0</td>\n",
       "      <td>0</td>\n",
       "      <td>0</td>\n",
       "      <td>(Fellow, Citizens, of, the, Senate, and, of, t...</td>\n",
       "      <td>George Washington</td>\n",
       "    </tr>\n",
       "    <tr>\n",
       "      <th>1</th>\n",
       "      <td>0</td>\n",
       "      <td>0</td>\n",
       "      <td>0</td>\n",
       "      <td>0</td>\n",
       "      <td>0</td>\n",
       "      <td>0</td>\n",
       "      <td>0</td>\n",
       "      <td>0</td>\n",
       "      <td>0</td>\n",
       "      <td>0</td>\n",
       "      <td>...</td>\n",
       "      <td>0</td>\n",
       "      <td>0</td>\n",
       "      <td>0</td>\n",
       "      <td>0</td>\n",
       "      <td>0</td>\n",
       "      <td>0</td>\n",
       "      <td>0</td>\n",
       "      <td>0</td>\n",
       "      <td>(Among, the, vicissitudes, incident, to, life,...</td>\n",
       "      <td>George Washington</td>\n",
       "    </tr>\n",
       "    <tr>\n",
       "      <th>2</th>\n",
       "      <td>0</td>\n",
       "      <td>0</td>\n",
       "      <td>0</td>\n",
       "      <td>0</td>\n",
       "      <td>0</td>\n",
       "      <td>0</td>\n",
       "      <td>0</td>\n",
       "      <td>0</td>\n",
       "      <td>0</td>\n",
       "      <td>0</td>\n",
       "      <td>...</td>\n",
       "      <td>0</td>\n",
       "      <td>0</td>\n",
       "      <td>0</td>\n",
       "      <td>0</td>\n",
       "      <td>0</td>\n",
       "      <td>0</td>\n",
       "      <td>0</td>\n",
       "      <td>0</td>\n",
       "      <td>(On, the, one, hand, ,, I, was, summoned, by, ...</td>\n",
       "      <td>George Washington</td>\n",
       "    </tr>\n",
       "    <tr>\n",
       "      <th>3</th>\n",
       "      <td>0</td>\n",
       "      <td>0</td>\n",
       "      <td>0</td>\n",
       "      <td>0</td>\n",
       "      <td>0</td>\n",
       "      <td>0</td>\n",
       "      <td>0</td>\n",
       "      <td>0</td>\n",
       "      <td>0</td>\n",
       "      <td>0</td>\n",
       "      <td>...</td>\n",
       "      <td>0</td>\n",
       "      <td>0</td>\n",
       "      <td>0</td>\n",
       "      <td>0</td>\n",
       "      <td>0</td>\n",
       "      <td>0</td>\n",
       "      <td>0</td>\n",
       "      <td>0</td>\n",
       "      <td>(On, the, other, hand, ,, the, magnitude, and,...</td>\n",
       "      <td>George Washington</td>\n",
       "    </tr>\n",
       "    <tr>\n",
       "      <th>4</th>\n",
       "      <td>0</td>\n",
       "      <td>0</td>\n",
       "      <td>0</td>\n",
       "      <td>0</td>\n",
       "      <td>0</td>\n",
       "      <td>0</td>\n",
       "      <td>0</td>\n",
       "      <td>0</td>\n",
       "      <td>0</td>\n",
       "      <td>0</td>\n",
       "      <td>...</td>\n",
       "      <td>0</td>\n",
       "      <td>0</td>\n",
       "      <td>0</td>\n",
       "      <td>0</td>\n",
       "      <td>0</td>\n",
       "      <td>0</td>\n",
       "      <td>0</td>\n",
       "      <td>0</td>\n",
       "      <td>(In, this, conflict, of, emotions, all, I, dar...</td>\n",
       "      <td>George Washington</td>\n",
       "    </tr>\n",
       "  </tbody>\n",
       "</table>\n",
       "<p>5 rows × 3254 columns</p>\n",
       "</div>"
      ],
      "text/plain": [
       "  skin anybody peace ignorance lawful priority false exceed countrymen  \\\n",
       "0    0       0     0         0      0        0     0      0          0   \n",
       "1    0       0     0         0      0        0     0      0          0   \n",
       "2    0       0     0         0      0        0     0      0          0   \n",
       "3    0       0     0         0      0        0     0      0          0   \n",
       "4    0       0     0         0      0        0     0      0          0   \n",
       "\n",
       "  incomparably        ...         shout intention predecessor impression  \\\n",
       "0            0        ...             0         0           0          0   \n",
       "1            0        ...             0         0           0          0   \n",
       "2            0        ...             0         0           0          0   \n",
       "3            0        ...             0         0           0          0   \n",
       "4            0        ...             0         0           0          0   \n",
       "\n",
       "  insistence constitutional industrialist feed  \\\n",
       "0          0              0             0    0   \n",
       "1          0              0             0    0   \n",
       "2          0              0             0    0   \n",
       "3          0              0             0    0   \n",
       "4          0              0             0    0   \n",
       "\n",
       "                                       text_sentence          President  \n",
       "0  (Fellow, Citizens, of, the, Senate, and, of, t...  George Washington  \n",
       "1  (Among, the, vicissitudes, incident, to, life,...  George Washington  \n",
       "2  (On, the, one, hand, ,, I, was, summoned, by, ...  George Washington  \n",
       "3  (On, the, other, hand, ,, the, magnitude, and,...  George Washington  \n",
       "4  (In, this, conflict, of, emotions, all, I, dar...  George Washington  \n",
       "\n",
       "[5 rows x 3254 columns]"
      ]
     },
     "execution_count": 25,
     "metadata": {},
     "output_type": "execute_result"
    }
   ],
   "source": [
    "print(bow_feats.shape)\n",
    "bow_feats.head()"
   ]
  },
  {
   "cell_type": "code",
   "execution_count": 26,
   "metadata": {
    "collapsed": true
   },
   "outputs": [],
   "source": [
    "bow_data = pd.concat([bow_feats, pres_df[[2,3,4, 'Sentence_len']]], 1)"
   ]
  },
  {
   "cell_type": "markdown",
   "metadata": {},
   "source": [
    "# Making tf_idf matrix"
   ]
  },
  {
   "cell_type": "code",
   "execution_count": 27,
   "metadata": {
    "collapsed": true
   },
   "outputs": [],
   "source": [
    "vectorizer = TfidfVectorizer(max_df=0.55, # drop words that occur in more than 65% of the sentences\n",
    "                             min_df=2, # use all words that appear at least once\n",
    "                             stop_words='english', \n",
    "                             lowercase=True, \n",
    "                             use_idf=True, #using inverse term frequency\n",
    "                             norm=u'l2', \n",
    "                             smooth_idf=True, #avoiding divide by 0 errors\n",
    "                            )"
   ]
  },
  {
   "cell_type": "code",
   "execution_count": 28,
   "metadata": {
    "collapsed": true
   },
   "outputs": [],
   "source": [
    "#transforming the text data into vector format\n",
    "pres_tf_idf = vectorizer.fit_transform(pres_df[0].astype(str))\n",
    "tfidf_csr = pres_tf_idf.tocsr() "
   ]
  },
  {
   "cell_type": "code",
   "execution_count": 29,
   "metadata": {
    "collapsed": true
   },
   "outputs": [],
   "source": [
    "full_sents = [[sent] for sent in pres_df[0]]"
   ]
  },
  {
   "cell_type": "code",
   "execution_count": 30,
   "metadata": {},
   "outputs": [
    {
     "name": "stdout",
     "output_type": "stream",
     "text": [
      "Original sentence: [On the one hand, I was summoned by my Country, whose voice I can never hear but with veneration and love, from a retreat which I had chosen with the fondest predilection, and, in my flattering hopes, with an immutable decision, as the asylum of my declining years a retreat which was rendered every day more necessary as well as more dear to me by the addition of habit to inclination, and of frequent interruptions in my health to the gradual waste committed on it by time.]\n",
      "Tf_idf vector: {'day': 0.15054502416818891, 'hand': 0.1851540589045142, 'summoned': 0.21796246065096248, 'country': 0.13128221666539502, 'voice': 0.19612659089342679, 'hear': 0.2131063287035968, 'love': 0.17849729396727154, 'retreat': 0.41779951174443264, 'chosen': 0.19612659089342679, 'hopes': 0.17849729396727154, 'immutable': 0.23979833040849818, 'decision': 0.2131063287035968, 'years': 0.14290372594755896, 'rendered': 0.2237060456785, 'necessary': 0.1851540589045142, 'dear': 0.23979833040849818, 'habit': 0.2237060456785, 'inclination': 0.23979833040849818, 'health': 0.19612659089342679, 'waste': 0.2131063287035968, 'committed': 0.2131063287035968, 'time': 0.12520526872795584}\n"
     ]
    }
   ],
   "source": [
    "n = tfidf_csr.shape[0]\n",
    "#A list of dictionaries, one per sentence\n",
    "tfidf_bysent = [{} for _ in range(0,n)]\n",
    "\n",
    "#List of features\n",
    "terms = vectorizer.get_feature_names()\n",
    "#for each sentence, lists the feature words and their tf-idf scores\n",
    "for i, j in zip(*tfidf_csr.nonzero()):\n",
    "    tfidf_bysent[i][terms[j]] = tfidf_csr[i, j]\n",
    "\n",
    "print('Original sentence:', full_sents[2])\n",
    "print('Tf_idf vector:', tfidf_bysent[2])"
   ]
  },
  {
   "cell_type": "code",
   "execution_count": 31,
   "metadata": {
    "collapsed": true
   },
   "outputs": [],
   "source": [
    "tf_data = pd.DataFrame(pres_tf_idf.toarray(), index=pres_df.index, columns=terms)\n",
    "\n",
    "tf_component = pd.concat([tf_data, pres_df], 1)"
   ]
  },
  {
   "cell_type": "code",
   "execution_count": 32,
   "metadata": {},
   "outputs": [
    {
     "data": {
      "text/html": [
       "<div>\n",
       "<style scoped>\n",
       "    .dataframe tbody tr th:only-of-type {\n",
       "        vertical-align: middle;\n",
       "    }\n",
       "\n",
       "    .dataframe tbody tr th {\n",
       "        vertical-align: top;\n",
       "    }\n",
       "\n",
       "    .dataframe thead th {\n",
       "        text-align: right;\n",
       "    }\n",
       "</style>\n",
       "<table border=\"1\" class=\"dataframe\">\n",
       "  <thead>\n",
       "    <tr style=\"text-align: right;\">\n",
       "      <th></th>\n",
       "      <th>1776</th>\n",
       "      <th>1787</th>\n",
       "      <th>1789</th>\n",
       "      <th>1980</th>\n",
       "      <th>19th</th>\n",
       "      <th>200th</th>\n",
       "      <th>20th</th>\n",
       "      <th>21st</th>\n",
       "      <th>30</th>\n",
       "      <th>50</th>\n",
       "      <th>...</th>\n",
       "      <th>yielding</th>\n",
       "      <th>young</th>\n",
       "      <th>youth</th>\n",
       "      <th>zeal</th>\n",
       "      <th>0</th>\n",
       "      <th>1</th>\n",
       "      <th>2</th>\n",
       "      <th>3</th>\n",
       "      <th>4</th>\n",
       "      <th>Sentence_len</th>\n",
       "    </tr>\n",
       "  </thead>\n",
       "  <tbody>\n",
       "    <tr>\n",
       "      <th>0</th>\n",
       "      <td>0.0</td>\n",
       "      <td>0.0</td>\n",
       "      <td>0.0</td>\n",
       "      <td>0.0</td>\n",
       "      <td>0.0</td>\n",
       "      <td>0.0</td>\n",
       "      <td>0.0</td>\n",
       "      <td>0.0</td>\n",
       "      <td>0.0</td>\n",
       "      <td>0.0</td>\n",
       "      <td>...</td>\n",
       "      <td>0.0</td>\n",
       "      <td>0.0</td>\n",
       "      <td>0.0</td>\n",
       "      <td>0.0</td>\n",
       "      <td>(Fellow, Citizens, of, the, Senate, and, of, t...</td>\n",
       "      <td>George Washington</td>\n",
       "      <td>Other</td>\n",
       "      <td>Washington 1789</td>\n",
       "      <td>Pre Civil-War era</td>\n",
       "      <td>12</td>\n",
       "    </tr>\n",
       "    <tr>\n",
       "      <th>1</th>\n",
       "      <td>0.0</td>\n",
       "      <td>0.0</td>\n",
       "      <td>0.0</td>\n",
       "      <td>0.0</td>\n",
       "      <td>0.0</td>\n",
       "      <td>0.0</td>\n",
       "      <td>0.0</td>\n",
       "      <td>0.0</td>\n",
       "      <td>0.0</td>\n",
       "      <td>0.0</td>\n",
       "      <td>...</td>\n",
       "      <td>0.0</td>\n",
       "      <td>0.0</td>\n",
       "      <td>0.0</td>\n",
       "      <td>0.0</td>\n",
       "      <td>(Among, the, vicissitudes, incident, to, life,...</td>\n",
       "      <td>George Washington</td>\n",
       "      <td>Other</td>\n",
       "      <td>Washington 1789</td>\n",
       "      <td>Pre Civil-War era</td>\n",
       "      <td>38</td>\n",
       "    </tr>\n",
       "    <tr>\n",
       "      <th>2</th>\n",
       "      <td>0.0</td>\n",
       "      <td>0.0</td>\n",
       "      <td>0.0</td>\n",
       "      <td>0.0</td>\n",
       "      <td>0.0</td>\n",
       "      <td>0.0</td>\n",
       "      <td>0.0</td>\n",
       "      <td>0.0</td>\n",
       "      <td>0.0</td>\n",
       "      <td>0.0</td>\n",
       "      <td>...</td>\n",
       "      <td>0.0</td>\n",
       "      <td>0.0</td>\n",
       "      <td>0.0</td>\n",
       "      <td>0.0</td>\n",
       "      <td>(On, the, one, hand, ,, I, was, summoned, by, ...</td>\n",
       "      <td>George Washington</td>\n",
       "      <td>Other</td>\n",
       "      <td>Washington 1789</td>\n",
       "      <td>Pre Civil-War era</td>\n",
       "      <td>96</td>\n",
       "    </tr>\n",
       "    <tr>\n",
       "      <th>3</th>\n",
       "      <td>0.0</td>\n",
       "      <td>0.0</td>\n",
       "      <td>0.0</td>\n",
       "      <td>0.0</td>\n",
       "      <td>0.0</td>\n",
       "      <td>0.0</td>\n",
       "      <td>0.0</td>\n",
       "      <td>0.0</td>\n",
       "      <td>0.0</td>\n",
       "      <td>0.0</td>\n",
       "      <td>...</td>\n",
       "      <td>0.0</td>\n",
       "      <td>0.0</td>\n",
       "      <td>0.0</td>\n",
       "      <td>0.0</td>\n",
       "      <td>(On, the, other, hand, ,, the, magnitude, and,...</td>\n",
       "      <td>George Washington</td>\n",
       "      <td>Other</td>\n",
       "      <td>Washington 1789</td>\n",
       "      <td>Pre Civil-War era</td>\n",
       "      <td>60</td>\n",
       "    </tr>\n",
       "    <tr>\n",
       "      <th>4</th>\n",
       "      <td>0.0</td>\n",
       "      <td>0.0</td>\n",
       "      <td>0.0</td>\n",
       "      <td>0.0</td>\n",
       "      <td>0.0</td>\n",
       "      <td>0.0</td>\n",
       "      <td>0.0</td>\n",
       "      <td>0.0</td>\n",
       "      <td>0.0</td>\n",
       "      <td>0.0</td>\n",
       "      <td>...</td>\n",
       "      <td>0.0</td>\n",
       "      <td>0.0</td>\n",
       "      <td>0.0</td>\n",
       "      <td>0.0</td>\n",
       "      <td>(In, this, conflict, of, emotions, all, I, dar...</td>\n",
       "      <td>George Washington</td>\n",
       "      <td>Other</td>\n",
       "      <td>Washington 1789</td>\n",
       "      <td>Pre Civil-War era</td>\n",
       "      <td>35</td>\n",
       "    </tr>\n",
       "  </tbody>\n",
       "</table>\n",
       "<p>5 rows × 2699 columns</p>\n",
       "</div>"
      ],
      "text/plain": [
       "   1776  1787  1789  1980  19th  200th  20th  21st   30   50      ...       \\\n",
       "0   0.0   0.0   0.0   0.0   0.0    0.0   0.0   0.0  0.0  0.0      ...        \n",
       "1   0.0   0.0   0.0   0.0   0.0    0.0   0.0   0.0  0.0  0.0      ...        \n",
       "2   0.0   0.0   0.0   0.0   0.0    0.0   0.0   0.0  0.0  0.0      ...        \n",
       "3   0.0   0.0   0.0   0.0   0.0    0.0   0.0   0.0  0.0  0.0      ...        \n",
       "4   0.0   0.0   0.0   0.0   0.0    0.0   0.0   0.0  0.0  0.0      ...        \n",
       "\n",
       "   yielding  young  youth  zeal  \\\n",
       "0       0.0    0.0    0.0   0.0   \n",
       "1       0.0    0.0    0.0   0.0   \n",
       "2       0.0    0.0    0.0   0.0   \n",
       "3       0.0    0.0    0.0   0.0   \n",
       "4       0.0    0.0    0.0   0.0   \n",
       "\n",
       "                                                   0                  1  \\\n",
       "0  (Fellow, Citizens, of, the, Senate, and, of, t...  George Washington   \n",
       "1  (Among, the, vicissitudes, incident, to, life,...  George Washington   \n",
       "2  (On, the, one, hand, ,, I, was, summoned, by, ...  George Washington   \n",
       "3  (On, the, other, hand, ,, the, magnitude, and,...  George Washington   \n",
       "4  (In, this, conflict, of, emotions, all, I, dar...  George Washington   \n",
       "\n",
       "       2                3                  4  Sentence_len  \n",
       "0  Other  Washington 1789  Pre Civil-War era            12  \n",
       "1  Other  Washington 1789  Pre Civil-War era            38  \n",
       "2  Other  Washington 1789  Pre Civil-War era            96  \n",
       "3  Other  Washington 1789  Pre Civil-War era            60  \n",
       "4  Other  Washington 1789  Pre Civil-War era            35  \n",
       "\n",
       "[5 rows x 2699 columns]"
      ]
     },
     "execution_count": 32,
     "metadata": {},
     "output_type": "execute_result"
    }
   ],
   "source": [
    "tf_component.shape\n",
    "tf_component.head()"
   ]
  },
  {
   "cell_type": "markdown",
   "metadata": {},
   "source": [
    "# Clustering by president\n",
    "## BoW data"
   ]
  },
  {
   "cell_type": "code",
   "execution_count": 33,
   "metadata": {},
   "outputs": [],
   "source": [
    "X = np.array(bow_data.drop(['text_sentence', 'President', 2, 3, 4], 1))\n",
    "Y = bow_data['President']\n",
    "\n",
    "X_train, X_test, Y_train, Y_test = train_test_split(X, Y, test_size=.25, random_state=0, stratify=Y)\n",
    "index = [['Bag of Words', 'Bag of Words', 'Tf-Idf', 'Tf-Idf'], ['K-Means', 'Spectral Clustering', 'K-Means', 'Spectral Clustering']]\n",
    "cluster_results_pres = pd.DataFrame(index=index, columns=['ARI score', 'Silhouette Score'])"
   ]
  },
  {
   "cell_type": "markdown",
   "metadata": {},
   "source": [
    "## K means"
   ]
  },
  {
   "cell_type": "code",
   "execution_count": 34,
   "metadata": {
    "collapsed": true
   },
   "outputs": [],
   "source": [
    "true_k = 15\n",
    "km = cluster.KMeans(n_clusters=true_k, init='k-means++', max_iter=100, random_state=0)\n",
    "km.fit(X_train)\n",
    "\n",
    "km_test = km.predict(X_test)"
   ]
  },
  {
   "cell_type": "code",
   "execution_count": 35,
   "metadata": {},
   "outputs": [
    {
     "name": "stdout",
     "output_type": "stream",
     "text": [
      "Adjusted Rand-Index: 0.011\n",
      "Silhouette Coefficient: 0.237\n"
     ]
    }
   ],
   "source": [
    "ARI = metrics.adjusted_rand_score(Y_train, km.labels_)\n",
    "silhouette = metrics.silhouette_score(X_train, km.labels_)\n",
    "print(\"Adjusted Rand-Index: %.3f\" % ARI )\n",
    "print(\"Silhouette Coefficient: %0.3f\"\n",
    "      % silhouette)\n",
    "cluster_results_pres.iloc[0] = [ARI, silhouette]\n",
    "# Clusters seem to overlap, but at least they are moving towards homogeneity"
   ]
  },
  {
   "cell_type": "code",
   "execution_count": 36,
   "metadata": {},
   "outputs": [
    {
     "data": {
      "text/html": [
       "<div>\n",
       "<style scoped>\n",
       "    .dataframe tbody tr th:only-of-type {\n",
       "        vertical-align: middle;\n",
       "    }\n",
       "\n",
       "    .dataframe tbody tr th {\n",
       "        vertical-align: top;\n",
       "    }\n",
       "\n",
       "    .dataframe thead th {\n",
       "        text-align: right;\n",
       "    }\n",
       "</style>\n",
       "<table border=\"1\" class=\"dataframe\">\n",
       "  <thead>\n",
       "    <tr style=\"text-align: right;\">\n",
       "      <th></th>\n",
       "      <th></th>\n",
       "      <th>ARI score</th>\n",
       "      <th>Silhouette Score</th>\n",
       "    </tr>\n",
       "  </thead>\n",
       "  <tbody>\n",
       "    <tr>\n",
       "      <th rowspan=\"2\" valign=\"top\">Bag of Words</th>\n",
       "      <th>K-Means</th>\n",
       "      <td>0.0114574</td>\n",
       "      <td>0.237157</td>\n",
       "    </tr>\n",
       "    <tr>\n",
       "      <th>Spectral Clustering</th>\n",
       "      <td>NaN</td>\n",
       "      <td>NaN</td>\n",
       "    </tr>\n",
       "    <tr>\n",
       "      <th rowspan=\"2\" valign=\"top\">Tf-Idf</th>\n",
       "      <th>K-Means</th>\n",
       "      <td>NaN</td>\n",
       "      <td>NaN</td>\n",
       "    </tr>\n",
       "    <tr>\n",
       "      <th>Spectral Clustering</th>\n",
       "      <td>NaN</td>\n",
       "      <td>NaN</td>\n",
       "    </tr>\n",
       "  </tbody>\n",
       "</table>\n",
       "</div>"
      ],
      "text/plain": [
       "                                  ARI score Silhouette Score\n",
       "Bag of Words K-Means              0.0114574         0.237157\n",
       "             Spectral Clustering        NaN              NaN\n",
       "Tf-Idf       K-Means                    NaN              NaN\n",
       "             Spectral Clustering        NaN              NaN"
      ]
     },
     "execution_count": 36,
     "metadata": {},
     "output_type": "execute_result"
    }
   ],
   "source": [
    "cluster_results_pres"
   ]
  },
  {
   "cell_type": "code",
   "execution_count": 37,
   "metadata": {},
   "outputs": [
    {
     "data": {
      "text/html": [
       "<div>\n",
       "<style scoped>\n",
       "    .dataframe tbody tr th:only-of-type {\n",
       "        vertical-align: middle;\n",
       "    }\n",
       "\n",
       "    .dataframe tbody tr th {\n",
       "        vertical-align: top;\n",
       "    }\n",
       "\n",
       "    .dataframe thead th {\n",
       "        text-align: right;\n",
       "    }\n",
       "</style>\n",
       "<table border=\"1\" class=\"dataframe\">\n",
       "  <thead>\n",
       "    <tr style=\"text-align: right;\">\n",
       "      <th>col_0</th>\n",
       "      <th>0</th>\n",
       "      <th>1</th>\n",
       "      <th>2</th>\n",
       "      <th>3</th>\n",
       "      <th>4</th>\n",
       "      <th>5</th>\n",
       "      <th>6</th>\n",
       "      <th>7</th>\n",
       "      <th>8</th>\n",
       "      <th>9</th>\n",
       "      <th>10</th>\n",
       "      <th>11</th>\n",
       "      <th>12</th>\n",
       "      <th>13</th>\n",
       "      <th>14</th>\n",
       "    </tr>\n",
       "    <tr>\n",
       "      <th>President</th>\n",
       "      <th></th>\n",
       "      <th></th>\n",
       "      <th></th>\n",
       "      <th></th>\n",
       "      <th></th>\n",
       "      <th></th>\n",
       "      <th></th>\n",
       "      <th></th>\n",
       "      <th></th>\n",
       "      <th></th>\n",
       "      <th></th>\n",
       "      <th></th>\n",
       "      <th></th>\n",
       "      <th></th>\n",
       "      <th></th>\n",
       "    </tr>\n",
       "  </thead>\n",
       "  <tbody>\n",
       "    <tr>\n",
       "      <th>Abraham Lincoln</th>\n",
       "      <td>17</td>\n",
       "      <td>17</td>\n",
       "      <td>0</td>\n",
       "      <td>15</td>\n",
       "      <td>7</td>\n",
       "      <td>0</td>\n",
       "      <td>0</td>\n",
       "      <td>0</td>\n",
       "      <td>7</td>\n",
       "      <td>15</td>\n",
       "      <td>12</td>\n",
       "      <td>13</td>\n",
       "      <td>15</td>\n",
       "      <td>6</td>\n",
       "      <td>0</td>\n",
       "    </tr>\n",
       "    <tr>\n",
       "      <th>Barack Obama</th>\n",
       "      <td>14</td>\n",
       "      <td>5</td>\n",
       "      <td>0</td>\n",
       "      <td>25</td>\n",
       "      <td>6</td>\n",
       "      <td>0</td>\n",
       "      <td>1</td>\n",
       "      <td>0</td>\n",
       "      <td>14</td>\n",
       "      <td>26</td>\n",
       "      <td>21</td>\n",
       "      <td>14</td>\n",
       "      <td>22</td>\n",
       "      <td>1</td>\n",
       "      <td>0</td>\n",
       "    </tr>\n",
       "    <tr>\n",
       "      <th>Bill Clinton</th>\n",
       "      <td>24</td>\n",
       "      <td>6</td>\n",
       "      <td>0</td>\n",
       "      <td>15</td>\n",
       "      <td>2</td>\n",
       "      <td>0</td>\n",
       "      <td>0</td>\n",
       "      <td>0</td>\n",
       "      <td>11</td>\n",
       "      <td>22</td>\n",
       "      <td>8</td>\n",
       "      <td>25</td>\n",
       "      <td>30</td>\n",
       "      <td>3</td>\n",
       "      <td>0</td>\n",
       "    </tr>\n",
       "    <tr>\n",
       "      <th>Dwight D. Eisenhower</th>\n",
       "      <td>27</td>\n",
       "      <td>6</td>\n",
       "      <td>0</td>\n",
       "      <td>24</td>\n",
       "      <td>1</td>\n",
       "      <td>0</td>\n",
       "      <td>0</td>\n",
       "      <td>0</td>\n",
       "      <td>12</td>\n",
       "      <td>23</td>\n",
       "      <td>12</td>\n",
       "      <td>26</td>\n",
       "      <td>29</td>\n",
       "      <td>0</td>\n",
       "      <td>0</td>\n",
       "    </tr>\n",
       "    <tr>\n",
       "      <th>Franklin Delano Roosevelt</th>\n",
       "      <td>28</td>\n",
       "      <td>11</td>\n",
       "      <td>0</td>\n",
       "      <td>22</td>\n",
       "      <td>3</td>\n",
       "      <td>0</td>\n",
       "      <td>0</td>\n",
       "      <td>0</td>\n",
       "      <td>17</td>\n",
       "      <td>38</td>\n",
       "      <td>16</td>\n",
       "      <td>37</td>\n",
       "      <td>35</td>\n",
       "      <td>1</td>\n",
       "      <td>0</td>\n",
       "    </tr>\n",
       "    <tr>\n",
       "      <th>George W. Bush</th>\n",
       "      <td>27</td>\n",
       "      <td>2</td>\n",
       "      <td>0</td>\n",
       "      <td>19</td>\n",
       "      <td>1</td>\n",
       "      <td>0</td>\n",
       "      <td>0</td>\n",
       "      <td>0</td>\n",
       "      <td>14</td>\n",
       "      <td>29</td>\n",
       "      <td>6</td>\n",
       "      <td>25</td>\n",
       "      <td>36</td>\n",
       "      <td>0</td>\n",
       "      <td>0</td>\n",
       "    </tr>\n",
       "    <tr>\n",
       "      <th>George Washington</th>\n",
       "      <td>1</td>\n",
       "      <td>2</td>\n",
       "      <td>0</td>\n",
       "      <td>2</td>\n",
       "      <td>2</td>\n",
       "      <td>0</td>\n",
       "      <td>3</td>\n",
       "      <td>0</td>\n",
       "      <td>1</td>\n",
       "      <td>4</td>\n",
       "      <td>5</td>\n",
       "      <td>1</td>\n",
       "      <td>1</td>\n",
       "      <td>1</td>\n",
       "      <td>0</td>\n",
       "    </tr>\n",
       "    <tr>\n",
       "      <th>James Madison</th>\n",
       "      <td>5</td>\n",
       "      <td>8</td>\n",
       "      <td>0</td>\n",
       "      <td>2</td>\n",
       "      <td>4</td>\n",
       "      <td>0</td>\n",
       "      <td>1</td>\n",
       "      <td>1</td>\n",
       "      <td>0</td>\n",
       "      <td>4</td>\n",
       "      <td>10</td>\n",
       "      <td>2</td>\n",
       "      <td>3</td>\n",
       "      <td>1</td>\n",
       "      <td>0</td>\n",
       "    </tr>\n",
       "    <tr>\n",
       "      <th>John F. Kennedy</th>\n",
       "      <td>5</td>\n",
       "      <td>3</td>\n",
       "      <td>0</td>\n",
       "      <td>2</td>\n",
       "      <td>3</td>\n",
       "      <td>0</td>\n",
       "      <td>0</td>\n",
       "      <td>0</td>\n",
       "      <td>4</td>\n",
       "      <td>6</td>\n",
       "      <td>6</td>\n",
       "      <td>3</td>\n",
       "      <td>5</td>\n",
       "      <td>3</td>\n",
       "      <td>0</td>\n",
       "    </tr>\n",
       "    <tr>\n",
       "      <th>Lyndon B. Johnson</th>\n",
       "      <td>8</td>\n",
       "      <td>3</td>\n",
       "      <td>0</td>\n",
       "      <td>2</td>\n",
       "      <td>1</td>\n",
       "      <td>0</td>\n",
       "      <td>0</td>\n",
       "      <td>0</td>\n",
       "      <td>13</td>\n",
       "      <td>12</td>\n",
       "      <td>2</td>\n",
       "      <td>21</td>\n",
       "      <td>11</td>\n",
       "      <td>0</td>\n",
       "      <td>0</td>\n",
       "    </tr>\n",
       "    <tr>\n",
       "      <th>Richard Nixon</th>\n",
       "      <td>17</td>\n",
       "      <td>5</td>\n",
       "      <td>0</td>\n",
       "      <td>29</td>\n",
       "      <td>3</td>\n",
       "      <td>0</td>\n",
       "      <td>0</td>\n",
       "      <td>0</td>\n",
       "      <td>6</td>\n",
       "      <td>25</td>\n",
       "      <td>11</td>\n",
       "      <td>23</td>\n",
       "      <td>9</td>\n",
       "      <td>2</td>\n",
       "      <td>0</td>\n",
       "    </tr>\n",
       "    <tr>\n",
       "      <th>Ronald Reagan</th>\n",
       "      <td>40</td>\n",
       "      <td>7</td>\n",
       "      <td>0</td>\n",
       "      <td>22</td>\n",
       "      <td>6</td>\n",
       "      <td>0</td>\n",
       "      <td>1</td>\n",
       "      <td>0</td>\n",
       "      <td>9</td>\n",
       "      <td>32</td>\n",
       "      <td>11</td>\n",
       "      <td>26</td>\n",
       "      <td>38</td>\n",
       "      <td>1</td>\n",
       "      <td>0</td>\n",
       "    </tr>\n",
       "    <tr>\n",
       "      <th>Thomas Jefferson</th>\n",
       "      <td>9</td>\n",
       "      <td>9</td>\n",
       "      <td>1</td>\n",
       "      <td>5</td>\n",
       "      <td>8</td>\n",
       "      <td>4</td>\n",
       "      <td>3</td>\n",
       "      <td>0</td>\n",
       "      <td>2</td>\n",
       "      <td>9</td>\n",
       "      <td>2</td>\n",
       "      <td>3</td>\n",
       "      <td>4</td>\n",
       "      <td>6</td>\n",
       "      <td>1</td>\n",
       "    </tr>\n",
       "    <tr>\n",
       "      <th>Ulysses S. Grant</th>\n",
       "      <td>10</td>\n",
       "      <td>5</td>\n",
       "      <td>0</td>\n",
       "      <td>8</td>\n",
       "      <td>2</td>\n",
       "      <td>0</td>\n",
       "      <td>0</td>\n",
       "      <td>0</td>\n",
       "      <td>2</td>\n",
       "      <td>9</td>\n",
       "      <td>11</td>\n",
       "      <td>4</td>\n",
       "      <td>11</td>\n",
       "      <td>2</td>\n",
       "      <td>1</td>\n",
       "    </tr>\n",
       "    <tr>\n",
       "      <th>Woodrow Wilson</th>\n",
       "      <td>12</td>\n",
       "      <td>12</td>\n",
       "      <td>0</td>\n",
       "      <td>6</td>\n",
       "      <td>3</td>\n",
       "      <td>0</td>\n",
       "      <td>0</td>\n",
       "      <td>0</td>\n",
       "      <td>11</td>\n",
       "      <td>5</td>\n",
       "      <td>10</td>\n",
       "      <td>19</td>\n",
       "      <td>14</td>\n",
       "      <td>3</td>\n",
       "      <td>1</td>\n",
       "    </tr>\n",
       "  </tbody>\n",
       "</table>\n",
       "</div>"
      ],
      "text/plain": [
       "col_0                      0   1   2   3   4   5   6   7   8   9   10  11  12  \\\n",
       "President                                                                       \n",
       "Abraham Lincoln            17  17   0  15   7   0   0   0   7  15  12  13  15   \n",
       "Barack Obama               14   5   0  25   6   0   1   0  14  26  21  14  22   \n",
       "Bill Clinton               24   6   0  15   2   0   0   0  11  22   8  25  30   \n",
       "Dwight D. Eisenhower       27   6   0  24   1   0   0   0  12  23  12  26  29   \n",
       "Franklin Delano Roosevelt  28  11   0  22   3   0   0   0  17  38  16  37  35   \n",
       "George W. Bush             27   2   0  19   1   0   0   0  14  29   6  25  36   \n",
       "George Washington           1   2   0   2   2   0   3   0   1   4   5   1   1   \n",
       "James Madison               5   8   0   2   4   0   1   1   0   4  10   2   3   \n",
       "John F. Kennedy             5   3   0   2   3   0   0   0   4   6   6   3   5   \n",
       "Lyndon B. Johnson           8   3   0   2   1   0   0   0  13  12   2  21  11   \n",
       "Richard Nixon              17   5   0  29   3   0   0   0   6  25  11  23   9   \n",
       "Ronald Reagan              40   7   0  22   6   0   1   0   9  32  11  26  38   \n",
       "Thomas Jefferson            9   9   1   5   8   4   3   0   2   9   2   3   4   \n",
       "Ulysses S. Grant           10   5   0   8   2   0   0   0   2   9  11   4  11   \n",
       "Woodrow Wilson             12  12   0   6   3   0   0   0  11   5  10  19  14   \n",
       "\n",
       "col_0                      13  14  \n",
       "President                          \n",
       "Abraham Lincoln             6   0  \n",
       "Barack Obama                1   0  \n",
       "Bill Clinton                3   0  \n",
       "Dwight D. Eisenhower        0   0  \n",
       "Franklin Delano Roosevelt   1   0  \n",
       "George W. Bush              0   0  \n",
       "George Washington           1   0  \n",
       "James Madison               1   0  \n",
       "John F. Kennedy             3   0  \n",
       "Lyndon B. Johnson           0   0  \n",
       "Richard Nixon               2   0  \n",
       "Ronald Reagan               1   0  \n",
       "Thomas Jefferson            6   1  \n",
       "Ulysses S. Grant            2   1  \n",
       "Woodrow Wilson              3   1  "
      ]
     },
     "execution_count": 37,
     "metadata": {},
     "output_type": "execute_result"
    }
   ],
   "source": [
    "pd.crosstab(Y_train, km.labels_)"
   ]
  },
  {
   "cell_type": "code",
   "execution_count": 38,
   "metadata": {},
   "outputs": [
    {
     "name": "stdout",
     "output_type": "stream",
     "text": [
      "Adjusted Rand-Index (Test set): 0.009\n",
      "Silhouette Coefficient (Test set): 0.238\n"
     ]
    }
   ],
   "source": [
    "print(\"Adjusted Rand-Index (Test set): %.3f\"\n",
    "      % metrics.adjusted_rand_score(Y_test, km.predict(X_test)))\n",
    "print(\"Silhouette Coefficient (Test set): %0.3f\"\n",
    "      % metrics.silhouette_score(X_test, km.predict(X_test)))"
   ]
  },
  {
   "cell_type": "code",
   "execution_count": 39,
   "metadata": {},
   "outputs": [
    {
     "data": {
      "text/html": [
       "<div>\n",
       "<style scoped>\n",
       "    .dataframe tbody tr th:only-of-type {\n",
       "        vertical-align: middle;\n",
       "    }\n",
       "\n",
       "    .dataframe tbody tr th {\n",
       "        vertical-align: top;\n",
       "    }\n",
       "\n",
       "    .dataframe thead th {\n",
       "        text-align: right;\n",
       "    }\n",
       "</style>\n",
       "<table border=\"1\" class=\"dataframe\">\n",
       "  <thead>\n",
       "    <tr style=\"text-align: right;\">\n",
       "      <th>col_0</th>\n",
       "      <th>0</th>\n",
       "      <th>1</th>\n",
       "      <th>3</th>\n",
       "      <th>4</th>\n",
       "      <th>5</th>\n",
       "      <th>6</th>\n",
       "      <th>8</th>\n",
       "      <th>9</th>\n",
       "      <th>10</th>\n",
       "      <th>11</th>\n",
       "      <th>12</th>\n",
       "      <th>13</th>\n",
       "      <th>14</th>\n",
       "    </tr>\n",
       "    <tr>\n",
       "      <th>President</th>\n",
       "      <th></th>\n",
       "      <th></th>\n",
       "      <th></th>\n",
       "      <th></th>\n",
       "      <th></th>\n",
       "      <th></th>\n",
       "      <th></th>\n",
       "      <th></th>\n",
       "      <th></th>\n",
       "      <th></th>\n",
       "      <th></th>\n",
       "      <th></th>\n",
       "      <th></th>\n",
       "    </tr>\n",
       "  </thead>\n",
       "  <tbody>\n",
       "    <tr>\n",
       "      <th>Abraham Lincoln</th>\n",
       "      <td>3</td>\n",
       "      <td>2</td>\n",
       "      <td>6</td>\n",
       "      <td>1</td>\n",
       "      <td>0</td>\n",
       "      <td>1</td>\n",
       "      <td>4</td>\n",
       "      <td>6</td>\n",
       "      <td>5</td>\n",
       "      <td>3</td>\n",
       "      <td>10</td>\n",
       "      <td>0</td>\n",
       "      <td>0</td>\n",
       "    </tr>\n",
       "    <tr>\n",
       "      <th>Barack Obama</th>\n",
       "      <td>6</td>\n",
       "      <td>2</td>\n",
       "      <td>5</td>\n",
       "      <td>2</td>\n",
       "      <td>0</td>\n",
       "      <td>1</td>\n",
       "      <td>4</td>\n",
       "      <td>11</td>\n",
       "      <td>4</td>\n",
       "      <td>8</td>\n",
       "      <td>7</td>\n",
       "      <td>0</td>\n",
       "      <td>0</td>\n",
       "    </tr>\n",
       "    <tr>\n",
       "      <th>Bill Clinton</th>\n",
       "      <td>11</td>\n",
       "      <td>1</td>\n",
       "      <td>8</td>\n",
       "      <td>2</td>\n",
       "      <td>0</td>\n",
       "      <td>0</td>\n",
       "      <td>2</td>\n",
       "      <td>11</td>\n",
       "      <td>3</td>\n",
       "      <td>5</td>\n",
       "      <td>6</td>\n",
       "      <td>0</td>\n",
       "      <td>0</td>\n",
       "    </tr>\n",
       "    <tr>\n",
       "      <th>Dwight D. Eisenhower</th>\n",
       "      <td>11</td>\n",
       "      <td>1</td>\n",
       "      <td>13</td>\n",
       "      <td>0</td>\n",
       "      <td>0</td>\n",
       "      <td>0</td>\n",
       "      <td>1</td>\n",
       "      <td>7</td>\n",
       "      <td>6</td>\n",
       "      <td>7</td>\n",
       "      <td>8</td>\n",
       "      <td>0</td>\n",
       "      <td>0</td>\n",
       "    </tr>\n",
       "    <tr>\n",
       "      <th>Franklin Delano Roosevelt</th>\n",
       "      <td>7</td>\n",
       "      <td>3</td>\n",
       "      <td>6</td>\n",
       "      <td>0</td>\n",
       "      <td>0</td>\n",
       "      <td>0</td>\n",
       "      <td>5</td>\n",
       "      <td>9</td>\n",
       "      <td>9</td>\n",
       "      <td>19</td>\n",
       "      <td>8</td>\n",
       "      <td>3</td>\n",
       "      <td>0</td>\n",
       "    </tr>\n",
       "    <tr>\n",
       "      <th>George W. Bush</th>\n",
       "      <td>6</td>\n",
       "      <td>1</td>\n",
       "      <td>5</td>\n",
       "      <td>0</td>\n",
       "      <td>0</td>\n",
       "      <td>0</td>\n",
       "      <td>3</td>\n",
       "      <td>10</td>\n",
       "      <td>7</td>\n",
       "      <td>9</td>\n",
       "      <td>12</td>\n",
       "      <td>0</td>\n",
       "      <td>0</td>\n",
       "    </tr>\n",
       "    <tr>\n",
       "      <th>George Washington</th>\n",
       "      <td>0</td>\n",
       "      <td>0</td>\n",
       "      <td>1</td>\n",
       "      <td>1</td>\n",
       "      <td>3</td>\n",
       "      <td>1</td>\n",
       "      <td>0</td>\n",
       "      <td>1</td>\n",
       "      <td>0</td>\n",
       "      <td>0</td>\n",
       "      <td>0</td>\n",
       "      <td>1</td>\n",
       "      <td>0</td>\n",
       "    </tr>\n",
       "    <tr>\n",
       "      <th>James Madison</th>\n",
       "      <td>1</td>\n",
       "      <td>3</td>\n",
       "      <td>0</td>\n",
       "      <td>2</td>\n",
       "      <td>0</td>\n",
       "      <td>0</td>\n",
       "      <td>0</td>\n",
       "      <td>3</td>\n",
       "      <td>3</td>\n",
       "      <td>0</td>\n",
       "      <td>0</td>\n",
       "      <td>2</td>\n",
       "      <td>0</td>\n",
       "    </tr>\n",
       "    <tr>\n",
       "      <th>John F. Kennedy</th>\n",
       "      <td>0</td>\n",
       "      <td>1</td>\n",
       "      <td>3</td>\n",
       "      <td>0</td>\n",
       "      <td>0</td>\n",
       "      <td>0</td>\n",
       "      <td>1</td>\n",
       "      <td>4</td>\n",
       "      <td>0</td>\n",
       "      <td>3</td>\n",
       "      <td>1</td>\n",
       "      <td>0</td>\n",
       "      <td>0</td>\n",
       "    </tr>\n",
       "    <tr>\n",
       "      <th>Lyndon B. Johnson</th>\n",
       "      <td>3</td>\n",
       "      <td>0</td>\n",
       "      <td>3</td>\n",
       "      <td>1</td>\n",
       "      <td>0</td>\n",
       "      <td>0</td>\n",
       "      <td>4</td>\n",
       "      <td>1</td>\n",
       "      <td>2</td>\n",
       "      <td>4</td>\n",
       "      <td>6</td>\n",
       "      <td>0</td>\n",
       "      <td>0</td>\n",
       "    </tr>\n",
       "    <tr>\n",
       "      <th>Richard Nixon</th>\n",
       "      <td>5</td>\n",
       "      <td>3</td>\n",
       "      <td>5</td>\n",
       "      <td>3</td>\n",
       "      <td>0</td>\n",
       "      <td>0</td>\n",
       "      <td>4</td>\n",
       "      <td>9</td>\n",
       "      <td>4</td>\n",
       "      <td>4</td>\n",
       "      <td>6</td>\n",
       "      <td>1</td>\n",
       "      <td>0</td>\n",
       "    </tr>\n",
       "    <tr>\n",
       "      <th>Ronald Reagan</th>\n",
       "      <td>11</td>\n",
       "      <td>0</td>\n",
       "      <td>9</td>\n",
       "      <td>2</td>\n",
       "      <td>0</td>\n",
       "      <td>0</td>\n",
       "      <td>7</td>\n",
       "      <td>7</td>\n",
       "      <td>4</td>\n",
       "      <td>10</td>\n",
       "      <td>14</td>\n",
       "      <td>0</td>\n",
       "      <td>0</td>\n",
       "    </tr>\n",
       "    <tr>\n",
       "      <th>Thomas Jefferson</th>\n",
       "      <td>0</td>\n",
       "      <td>2</td>\n",
       "      <td>4</td>\n",
       "      <td>4</td>\n",
       "      <td>1</td>\n",
       "      <td>1</td>\n",
       "      <td>0</td>\n",
       "      <td>4</td>\n",
       "      <td>2</td>\n",
       "      <td>2</td>\n",
       "      <td>2</td>\n",
       "      <td>0</td>\n",
       "      <td>0</td>\n",
       "    </tr>\n",
       "    <tr>\n",
       "      <th>Ulysses S. Grant</th>\n",
       "      <td>2</td>\n",
       "      <td>2</td>\n",
       "      <td>3</td>\n",
       "      <td>3</td>\n",
       "      <td>0</td>\n",
       "      <td>0</td>\n",
       "      <td>1</td>\n",
       "      <td>2</td>\n",
       "      <td>5</td>\n",
       "      <td>1</td>\n",
       "      <td>2</td>\n",
       "      <td>0</td>\n",
       "      <td>0</td>\n",
       "    </tr>\n",
       "    <tr>\n",
       "      <th>Woodrow Wilson</th>\n",
       "      <td>6</td>\n",
       "      <td>2</td>\n",
       "      <td>3</td>\n",
       "      <td>2</td>\n",
       "      <td>0</td>\n",
       "      <td>0</td>\n",
       "      <td>1</td>\n",
       "      <td>5</td>\n",
       "      <td>1</td>\n",
       "      <td>7</td>\n",
       "      <td>4</td>\n",
       "      <td>0</td>\n",
       "      <td>1</td>\n",
       "    </tr>\n",
       "  </tbody>\n",
       "</table>\n",
       "</div>"
      ],
      "text/plain": [
       "col_0                      0   1   3   4   5   6   8   9   10  11  12  13  14\n",
       "President                                                                    \n",
       "Abraham Lincoln             3   2   6   1   0   1   4   6   5   3  10   0   0\n",
       "Barack Obama                6   2   5   2   0   1   4  11   4   8   7   0   0\n",
       "Bill Clinton               11   1   8   2   0   0   2  11   3   5   6   0   0\n",
       "Dwight D. Eisenhower       11   1  13   0   0   0   1   7   6   7   8   0   0\n",
       "Franklin Delano Roosevelt   7   3   6   0   0   0   5   9   9  19   8   3   0\n",
       "George W. Bush              6   1   5   0   0   0   3  10   7   9  12   0   0\n",
       "George Washington           0   0   1   1   3   1   0   1   0   0   0   1   0\n",
       "James Madison               1   3   0   2   0   0   0   3   3   0   0   2   0\n",
       "John F. Kennedy             0   1   3   0   0   0   1   4   0   3   1   0   0\n",
       "Lyndon B. Johnson           3   0   3   1   0   0   4   1   2   4   6   0   0\n",
       "Richard Nixon               5   3   5   3   0   0   4   9   4   4   6   1   0\n",
       "Ronald Reagan              11   0   9   2   0   0   7   7   4  10  14   0   0\n",
       "Thomas Jefferson            0   2   4   4   1   1   0   4   2   2   2   0   0\n",
       "Ulysses S. Grant            2   2   3   3   0   0   1   2   5   1   2   0   0\n",
       "Woodrow Wilson              6   2   3   2   0   0   1   5   1   7   4   0   1"
      ]
     },
     "execution_count": 39,
     "metadata": {},
     "output_type": "execute_result"
    }
   ],
   "source": [
    "pd.crosstab(Y_test, km_test)"
   ]
  },
  {
   "cell_type": "markdown",
   "metadata": {},
   "source": [
    "# Spectral Clustering "
   ]
  },
  {
   "cell_type": "code",
   "execution_count": 40,
   "metadata": {},
   "outputs": [
    {
     "name": "stderr",
     "output_type": "stream",
     "text": [
      "C:\\Users\\sohai\\Anaconda3\\lib\\site-packages\\sklearn\\manifold\\spectral_embedding_.py:234: UserWarning: Graph is not fully connected, spectral embedding may not work as expected.\n",
      "  warnings.warn(\"Graph is not fully connected, spectral embedding\"\n"
     ]
    },
    {
     "data": {
      "text/plain": [
       "SpectralClustering(affinity='rbf', assign_labels='kmeans', coef0=1, degree=3,\n",
       "          eigen_solver=None, eigen_tol=0.0, gamma=1.0, kernel_params=None,\n",
       "          n_clusters=15, n_init=10, n_jobs=1, n_neighbors=10,\n",
       "          random_state=0)"
      ]
     },
     "execution_count": 40,
     "metadata": {},
     "output_type": "execute_result"
    }
   ],
   "source": [
    "spectral = cluster.SpectralClustering(n_clusters=true_k, random_state=0)\n",
    "spectral.fit(X_train)"
   ]
  },
  {
   "cell_type": "code",
   "execution_count": 41,
   "metadata": {},
   "outputs": [
    {
     "name": "stdout",
     "output_type": "stream",
     "text": [
      "Adjusted Rand-Index: -0.001\n",
      "Silhouette Coefficient: -0.114\n"
     ]
    }
   ],
   "source": [
    "ARI = metrics.adjusted_rand_score(Y_train, spectral.labels_)\n",
    "silhouette = metrics.silhouette_score(X_train, spectral.labels_)\n",
    "print(\"Adjusted Rand-Index: %.3f\" % ARI )\n",
    "print(\"Silhouette Coefficient: %0.3f\"\n",
    "      % silhouette)\n",
    "cluster_results_pres.iloc[1] = [ARI, silhouette]"
   ]
  },
  {
   "cell_type": "markdown",
   "metadata": {},
   "source": [
    "# Testing clustering on tf_idf on author prediction\n",
    "## K means clustering"
   ]
  },
  {
   "cell_type": "code",
   "execution_count": 42,
   "metadata": {
    "collapsed": true
   },
   "outputs": [],
   "source": [
    "X = np.array(tf_component.drop([0, 1, 2, 3, 4], 1))\n",
    "Y = tf_component[1]\n",
    "\n",
    "X_train, X_test, Y_train, Y_test = train_test_split(X, Y, test_size=.25, random_state=0, stratify=Y)"
   ]
  },
  {
   "cell_type": "code",
   "execution_count": 43,
   "metadata": {
    "collapsed": true
   },
   "outputs": [],
   "source": [
    "km = cluster.KMeans(n_clusters=true_k, init='k-means++', max_iter=100, random_state=0)\n",
    "km.fit_transform(X_train)\n",
    "\n",
    "km_test = km.predict(X_test)"
   ]
  },
  {
   "cell_type": "code",
   "execution_count": 44,
   "metadata": {},
   "outputs": [
    {
     "name": "stdout",
     "output_type": "stream",
     "text": [
      "Adjusted Rand-Index: 0.014\n",
      "Silhouette Coefficient: 0.440\n"
     ]
    }
   ],
   "source": [
    "ARI = metrics.adjusted_rand_score(Y_train, km.labels_)\n",
    "silhouette = metrics.silhouette_score(X_train, km.labels_)\n",
    "print(\"Adjusted Rand-Index: %.3f\" % ARI )\n",
    "print(\"Silhouette Coefficient: %0.3f\"\n",
    "      % silhouette)\n",
    "cluster_results_pres.iloc[2] = [ARI, silhouette]\n",
    "# A lot of overlapping clusters"
   ]
  },
  {
   "cell_type": "code",
   "execution_count": 45,
   "metadata": {},
   "outputs": [
    {
     "data": {
      "text/html": [
       "<div>\n",
       "<style scoped>\n",
       "    .dataframe tbody tr th:only-of-type {\n",
       "        vertical-align: middle;\n",
       "    }\n",
       "\n",
       "    .dataframe tbody tr th {\n",
       "        vertical-align: top;\n",
       "    }\n",
       "\n",
       "    .dataframe thead th {\n",
       "        text-align: right;\n",
       "    }\n",
       "</style>\n",
       "<table border=\"1\" class=\"dataframe\">\n",
       "  <thead>\n",
       "    <tr style=\"text-align: right;\">\n",
       "      <th>col_0</th>\n",
       "      <th>0</th>\n",
       "      <th>1</th>\n",
       "      <th>2</th>\n",
       "      <th>3</th>\n",
       "      <th>4</th>\n",
       "      <th>5</th>\n",
       "      <th>6</th>\n",
       "      <th>7</th>\n",
       "      <th>8</th>\n",
       "      <th>9</th>\n",
       "      <th>10</th>\n",
       "      <th>11</th>\n",
       "      <th>12</th>\n",
       "      <th>13</th>\n",
       "      <th>14</th>\n",
       "    </tr>\n",
       "    <tr>\n",
       "      <th>1</th>\n",
       "      <th></th>\n",
       "      <th></th>\n",
       "      <th></th>\n",
       "      <th></th>\n",
       "      <th></th>\n",
       "      <th></th>\n",
       "      <th></th>\n",
       "      <th></th>\n",
       "      <th></th>\n",
       "      <th></th>\n",
       "      <th></th>\n",
       "      <th></th>\n",
       "      <th></th>\n",
       "      <th></th>\n",
       "      <th></th>\n",
       "    </tr>\n",
       "  </thead>\n",
       "  <tbody>\n",
       "    <tr>\n",
       "      <th>Abraham Lincoln</th>\n",
       "      <td>14</td>\n",
       "      <td>11</td>\n",
       "      <td>0</td>\n",
       "      <td>0</td>\n",
       "      <td>15</td>\n",
       "      <td>15</td>\n",
       "      <td>6</td>\n",
       "      <td>0</td>\n",
       "      <td>0</td>\n",
       "      <td>15</td>\n",
       "      <td>7</td>\n",
       "      <td>18</td>\n",
       "      <td>8</td>\n",
       "      <td>0</td>\n",
       "      <td>15</td>\n",
       "    </tr>\n",
       "    <tr>\n",
       "      <th>Barack Obama</th>\n",
       "      <td>18</td>\n",
       "      <td>15</td>\n",
       "      <td>1</td>\n",
       "      <td>0</td>\n",
       "      <td>4</td>\n",
       "      <td>34</td>\n",
       "      <td>1</td>\n",
       "      <td>0</td>\n",
       "      <td>0</td>\n",
       "      <td>20</td>\n",
       "      <td>6</td>\n",
       "      <td>16</td>\n",
       "      <td>15</td>\n",
       "      <td>0</td>\n",
       "      <td>19</td>\n",
       "    </tr>\n",
       "    <tr>\n",
       "      <th>Bill Clinton</th>\n",
       "      <td>10</td>\n",
       "      <td>27</td>\n",
       "      <td>0</td>\n",
       "      <td>0</td>\n",
       "      <td>5</td>\n",
       "      <td>31</td>\n",
       "      <td>3</td>\n",
       "      <td>0</td>\n",
       "      <td>0</td>\n",
       "      <td>19</td>\n",
       "      <td>2</td>\n",
       "      <td>31</td>\n",
       "      <td>5</td>\n",
       "      <td>0</td>\n",
       "      <td>13</td>\n",
       "    </tr>\n",
       "    <tr>\n",
       "      <th>Dwight D. Eisenhower</th>\n",
       "      <td>17</td>\n",
       "      <td>32</td>\n",
       "      <td>0</td>\n",
       "      <td>0</td>\n",
       "      <td>6</td>\n",
       "      <td>24</td>\n",
       "      <td>0</td>\n",
       "      <td>0</td>\n",
       "      <td>0</td>\n",
       "      <td>23</td>\n",
       "      <td>1</td>\n",
       "      <td>28</td>\n",
       "      <td>2</td>\n",
       "      <td>0</td>\n",
       "      <td>27</td>\n",
       "    </tr>\n",
       "    <tr>\n",
       "      <th>Franklin Delano Roosevelt</th>\n",
       "      <td>18</td>\n",
       "      <td>39</td>\n",
       "      <td>0</td>\n",
       "      <td>0</td>\n",
       "      <td>8</td>\n",
       "      <td>48</td>\n",
       "      <td>1</td>\n",
       "      <td>0</td>\n",
       "      <td>0</td>\n",
       "      <td>26</td>\n",
       "      <td>3</td>\n",
       "      <td>32</td>\n",
       "      <td>8</td>\n",
       "      <td>0</td>\n",
       "      <td>25</td>\n",
       "    </tr>\n",
       "    <tr>\n",
       "      <th>George W. Bush</th>\n",
       "      <td>13</td>\n",
       "      <td>31</td>\n",
       "      <td>0</td>\n",
       "      <td>0</td>\n",
       "      <td>2</td>\n",
       "      <td>32</td>\n",
       "      <td>0</td>\n",
       "      <td>0</td>\n",
       "      <td>0</td>\n",
       "      <td>23</td>\n",
       "      <td>0</td>\n",
       "      <td>38</td>\n",
       "      <td>1</td>\n",
       "      <td>0</td>\n",
       "      <td>19</td>\n",
       "    </tr>\n",
       "    <tr>\n",
       "      <th>George Washington</th>\n",
       "      <td>4</td>\n",
       "      <td>2</td>\n",
       "      <td>3</td>\n",
       "      <td>0</td>\n",
       "      <td>1</td>\n",
       "      <td>3</td>\n",
       "      <td>1</td>\n",
       "      <td>0</td>\n",
       "      <td>0</td>\n",
       "      <td>1</td>\n",
       "      <td>2</td>\n",
       "      <td>1</td>\n",
       "      <td>4</td>\n",
       "      <td>0</td>\n",
       "      <td>1</td>\n",
       "    </tr>\n",
       "    <tr>\n",
       "      <th>James Madison</th>\n",
       "      <td>4</td>\n",
       "      <td>2</td>\n",
       "      <td>1</td>\n",
       "      <td>0</td>\n",
       "      <td>9</td>\n",
       "      <td>4</td>\n",
       "      <td>1</td>\n",
       "      <td>1</td>\n",
       "      <td>0</td>\n",
       "      <td>1</td>\n",
       "      <td>3</td>\n",
       "      <td>5</td>\n",
       "      <td>6</td>\n",
       "      <td>0</td>\n",
       "      <td>4</td>\n",
       "    </tr>\n",
       "    <tr>\n",
       "      <th>John F. Kennedy</th>\n",
       "      <td>3</td>\n",
       "      <td>1</td>\n",
       "      <td>0</td>\n",
       "      <td>0</td>\n",
       "      <td>3</td>\n",
       "      <td>7</td>\n",
       "      <td>3</td>\n",
       "      <td>0</td>\n",
       "      <td>0</td>\n",
       "      <td>6</td>\n",
       "      <td>3</td>\n",
       "      <td>7</td>\n",
       "      <td>3</td>\n",
       "      <td>0</td>\n",
       "      <td>4</td>\n",
       "    </tr>\n",
       "    <tr>\n",
       "      <th>Lyndon B. Johnson</th>\n",
       "      <td>2</td>\n",
       "      <td>13</td>\n",
       "      <td>0</td>\n",
       "      <td>0</td>\n",
       "      <td>3</td>\n",
       "      <td>11</td>\n",
       "      <td>0</td>\n",
       "      <td>0</td>\n",
       "      <td>0</td>\n",
       "      <td>24</td>\n",
       "      <td>1</td>\n",
       "      <td>14</td>\n",
       "      <td>1</td>\n",
       "      <td>0</td>\n",
       "      <td>4</td>\n",
       "    </tr>\n",
       "    <tr>\n",
       "      <th>Richard Nixon</th>\n",
       "      <td>19</td>\n",
       "      <td>28</td>\n",
       "      <td>0</td>\n",
       "      <td>0</td>\n",
       "      <td>3</td>\n",
       "      <td>22</td>\n",
       "      <td>2</td>\n",
       "      <td>0</td>\n",
       "      <td>0</td>\n",
       "      <td>11</td>\n",
       "      <td>3</td>\n",
       "      <td>11</td>\n",
       "      <td>6</td>\n",
       "      <td>0</td>\n",
       "      <td>25</td>\n",
       "    </tr>\n",
       "    <tr>\n",
       "      <th>Ronald Reagan</th>\n",
       "      <td>13</td>\n",
       "      <td>41</td>\n",
       "      <td>0</td>\n",
       "      <td>0</td>\n",
       "      <td>7</td>\n",
       "      <td>39</td>\n",
       "      <td>1</td>\n",
       "      <td>0</td>\n",
       "      <td>0</td>\n",
       "      <td>17</td>\n",
       "      <td>6</td>\n",
       "      <td>39</td>\n",
       "      <td>5</td>\n",
       "      <td>1</td>\n",
       "      <td>24</td>\n",
       "    </tr>\n",
       "    <tr>\n",
       "      <th>Thomas Jefferson</th>\n",
       "      <td>3</td>\n",
       "      <td>6</td>\n",
       "      <td>3</td>\n",
       "      <td>1</td>\n",
       "      <td>6</td>\n",
       "      <td>8</td>\n",
       "      <td>6</td>\n",
       "      <td>0</td>\n",
       "      <td>1</td>\n",
       "      <td>2</td>\n",
       "      <td>8</td>\n",
       "      <td>8</td>\n",
       "      <td>4</td>\n",
       "      <td>4</td>\n",
       "      <td>6</td>\n",
       "    </tr>\n",
       "    <tr>\n",
       "      <th>Ulysses S. Grant</th>\n",
       "      <td>10</td>\n",
       "      <td>3</td>\n",
       "      <td>0</td>\n",
       "      <td>0</td>\n",
       "      <td>3</td>\n",
       "      <td>12</td>\n",
       "      <td>2</td>\n",
       "      <td>0</td>\n",
       "      <td>1</td>\n",
       "      <td>4</td>\n",
       "      <td>2</td>\n",
       "      <td>15</td>\n",
       "      <td>5</td>\n",
       "      <td>0</td>\n",
       "      <td>8</td>\n",
       "    </tr>\n",
       "    <tr>\n",
       "      <th>Woodrow Wilson</th>\n",
       "      <td>9</td>\n",
       "      <td>17</td>\n",
       "      <td>0</td>\n",
       "      <td>0</td>\n",
       "      <td>11</td>\n",
       "      <td>6</td>\n",
       "      <td>3</td>\n",
       "      <td>0</td>\n",
       "      <td>1</td>\n",
       "      <td>20</td>\n",
       "      <td>3</td>\n",
       "      <td>17</td>\n",
       "      <td>6</td>\n",
       "      <td>0</td>\n",
       "      <td>3</td>\n",
       "    </tr>\n",
       "  </tbody>\n",
       "</table>\n",
       "</div>"
      ],
      "text/plain": [
       "col_0                      0   1   2   3   4   5   6   7   8   9   10  11  12  \\\n",
       "1                                                                               \n",
       "Abraham Lincoln            14  11   0   0  15  15   6   0   0  15   7  18   8   \n",
       "Barack Obama               18  15   1   0   4  34   1   0   0  20   6  16  15   \n",
       "Bill Clinton               10  27   0   0   5  31   3   0   0  19   2  31   5   \n",
       "Dwight D. Eisenhower       17  32   0   0   6  24   0   0   0  23   1  28   2   \n",
       "Franklin Delano Roosevelt  18  39   0   0   8  48   1   0   0  26   3  32   8   \n",
       "George W. Bush             13  31   0   0   2  32   0   0   0  23   0  38   1   \n",
       "George Washington           4   2   3   0   1   3   1   0   0   1   2   1   4   \n",
       "James Madison               4   2   1   0   9   4   1   1   0   1   3   5   6   \n",
       "John F. Kennedy             3   1   0   0   3   7   3   0   0   6   3   7   3   \n",
       "Lyndon B. Johnson           2  13   0   0   3  11   0   0   0  24   1  14   1   \n",
       "Richard Nixon              19  28   0   0   3  22   2   0   0  11   3  11   6   \n",
       "Ronald Reagan              13  41   0   0   7  39   1   0   0  17   6  39   5   \n",
       "Thomas Jefferson            3   6   3   1   6   8   6   0   1   2   8   8   4   \n",
       "Ulysses S. Grant           10   3   0   0   3  12   2   0   1   4   2  15   5   \n",
       "Woodrow Wilson              9  17   0   0  11   6   3   0   1  20   3  17   6   \n",
       "\n",
       "col_0                      13  14  \n",
       "1                                  \n",
       "Abraham Lincoln             0  15  \n",
       "Barack Obama                0  19  \n",
       "Bill Clinton                0  13  \n",
       "Dwight D. Eisenhower        0  27  \n",
       "Franklin Delano Roosevelt   0  25  \n",
       "George W. Bush              0  19  \n",
       "George Washington           0   1  \n",
       "James Madison               0   4  \n",
       "John F. Kennedy             0   4  \n",
       "Lyndon B. Johnson           0   4  \n",
       "Richard Nixon               0  25  \n",
       "Ronald Reagan               1  24  \n",
       "Thomas Jefferson            4   6  \n",
       "Ulysses S. Grant            0   8  \n",
       "Woodrow Wilson              0   3  "
      ]
     },
     "execution_count": 45,
     "metadata": {},
     "output_type": "execute_result"
    }
   ],
   "source": [
    "pd.crosstab(Y_train, km.labels_)"
   ]
  },
  {
   "cell_type": "code",
   "execution_count": 46,
   "metadata": {},
   "outputs": [
    {
     "name": "stdout",
     "output_type": "stream",
     "text": [
      "Adjusted Rand-Index (Test set): 0.011\n",
      "Silhouette Coefficient (Test set): 0.437\n"
     ]
    }
   ],
   "source": [
    "#Test statistics evaluation\n",
    "print(\"Adjusted Rand-Index (Test set): %.3f\"\n",
    "      % metrics.adjusted_rand_score(Y_test, km.predict(X_test)))\n",
    "print(\"Silhouette Coefficient (Test set): %0.3f\"\n",
    "      % metrics.silhouette_score(X_test, km.predict(X_test)))"
   ]
  },
  {
   "cell_type": "code",
   "execution_count": 47,
   "metadata": {},
   "outputs": [
    {
     "data": {
      "text/html": [
       "<div>\n",
       "<style scoped>\n",
       "    .dataframe tbody tr th:only-of-type {\n",
       "        vertical-align: middle;\n",
       "    }\n",
       "\n",
       "    .dataframe tbody tr th {\n",
       "        vertical-align: top;\n",
       "    }\n",
       "\n",
       "    .dataframe thead th {\n",
       "        text-align: right;\n",
       "    }\n",
       "</style>\n",
       "<table border=\"1\" class=\"dataframe\">\n",
       "  <thead>\n",
       "    <tr style=\"text-align: right;\">\n",
       "      <th>col_0</th>\n",
       "      <th>0</th>\n",
       "      <th>1</th>\n",
       "      <th>2</th>\n",
       "      <th>4</th>\n",
       "      <th>5</th>\n",
       "      <th>6</th>\n",
       "      <th>8</th>\n",
       "      <th>9</th>\n",
       "      <th>10</th>\n",
       "      <th>11</th>\n",
       "      <th>12</th>\n",
       "      <th>13</th>\n",
       "      <th>14</th>\n",
       "    </tr>\n",
       "    <tr>\n",
       "      <th>1</th>\n",
       "      <th></th>\n",
       "      <th></th>\n",
       "      <th></th>\n",
       "      <th></th>\n",
       "      <th></th>\n",
       "      <th></th>\n",
       "      <th></th>\n",
       "      <th></th>\n",
       "      <th></th>\n",
       "      <th></th>\n",
       "      <th></th>\n",
       "      <th></th>\n",
       "      <th></th>\n",
       "    </tr>\n",
       "  </thead>\n",
       "  <tbody>\n",
       "    <tr>\n",
       "      <th>Abraham Lincoln</th>\n",
       "      <td>4</td>\n",
       "      <td>1</td>\n",
       "      <td>1</td>\n",
       "      <td>2</td>\n",
       "      <td>10</td>\n",
       "      <td>0</td>\n",
       "      <td>0</td>\n",
       "      <td>7</td>\n",
       "      <td>1</td>\n",
       "      <td>7</td>\n",
       "      <td>1</td>\n",
       "      <td>0</td>\n",
       "      <td>7</td>\n",
       "    </tr>\n",
       "    <tr>\n",
       "      <th>Barack Obama</th>\n",
       "      <td>3</td>\n",
       "      <td>13</td>\n",
       "      <td>1</td>\n",
       "      <td>2</td>\n",
       "      <td>10</td>\n",
       "      <td>0</td>\n",
       "      <td>0</td>\n",
       "      <td>4</td>\n",
       "      <td>2</td>\n",
       "      <td>6</td>\n",
       "      <td>3</td>\n",
       "      <td>0</td>\n",
       "      <td>6</td>\n",
       "    </tr>\n",
       "    <tr>\n",
       "      <th>Bill Clinton</th>\n",
       "      <td>4</td>\n",
       "      <td>8</td>\n",
       "      <td>0</td>\n",
       "      <td>2</td>\n",
       "      <td>9</td>\n",
       "      <td>0</td>\n",
       "      <td>0</td>\n",
       "      <td>3</td>\n",
       "      <td>1</td>\n",
       "      <td>13</td>\n",
       "      <td>1</td>\n",
       "      <td>0</td>\n",
       "      <td>8</td>\n",
       "    </tr>\n",
       "    <tr>\n",
       "      <th>Dwight D. Eisenhower</th>\n",
       "      <td>10</td>\n",
       "      <td>9</td>\n",
       "      <td>0</td>\n",
       "      <td>1</td>\n",
       "      <td>6</td>\n",
       "      <td>0</td>\n",
       "      <td>0</td>\n",
       "      <td>4</td>\n",
       "      <td>0</td>\n",
       "      <td>12</td>\n",
       "      <td>3</td>\n",
       "      <td>0</td>\n",
       "      <td>9</td>\n",
       "    </tr>\n",
       "    <tr>\n",
       "      <th>Franklin Delano Roosevelt</th>\n",
       "      <td>8</td>\n",
       "      <td>16</td>\n",
       "      <td>0</td>\n",
       "      <td>2</td>\n",
       "      <td>6</td>\n",
       "      <td>3</td>\n",
       "      <td>0</td>\n",
       "      <td>12</td>\n",
       "      <td>0</td>\n",
       "      <td>9</td>\n",
       "      <td>6</td>\n",
       "      <td>0</td>\n",
       "      <td>7</td>\n",
       "    </tr>\n",
       "    <tr>\n",
       "      <th>George W. Bush</th>\n",
       "      <td>8</td>\n",
       "      <td>9</td>\n",
       "      <td>0</td>\n",
       "      <td>0</td>\n",
       "      <td>15</td>\n",
       "      <td>0</td>\n",
       "      <td>0</td>\n",
       "      <td>5</td>\n",
       "      <td>0</td>\n",
       "      <td>9</td>\n",
       "      <td>3</td>\n",
       "      <td>0</td>\n",
       "      <td>4</td>\n",
       "    </tr>\n",
       "    <tr>\n",
       "      <th>George Washington</th>\n",
       "      <td>1</td>\n",
       "      <td>0</td>\n",
       "      <td>1</td>\n",
       "      <td>0</td>\n",
       "      <td>1</td>\n",
       "      <td>1</td>\n",
       "      <td>0</td>\n",
       "      <td>0</td>\n",
       "      <td>1</td>\n",
       "      <td>0</td>\n",
       "      <td>0</td>\n",
       "      <td>3</td>\n",
       "      <td>0</td>\n",
       "    </tr>\n",
       "    <tr>\n",
       "      <th>James Madison</th>\n",
       "      <td>1</td>\n",
       "      <td>1</td>\n",
       "      <td>0</td>\n",
       "      <td>3</td>\n",
       "      <td>2</td>\n",
       "      <td>2</td>\n",
       "      <td>0</td>\n",
       "      <td>0</td>\n",
       "      <td>2</td>\n",
       "      <td>0</td>\n",
       "      <td>2</td>\n",
       "      <td>0</td>\n",
       "      <td>1</td>\n",
       "    </tr>\n",
       "    <tr>\n",
       "      <th>John F. Kennedy</th>\n",
       "      <td>0</td>\n",
       "      <td>1</td>\n",
       "      <td>0</td>\n",
       "      <td>1</td>\n",
       "      <td>3</td>\n",
       "      <td>0</td>\n",
       "      <td>0</td>\n",
       "      <td>3</td>\n",
       "      <td>0</td>\n",
       "      <td>0</td>\n",
       "      <td>0</td>\n",
       "      <td>0</td>\n",
       "      <td>5</td>\n",
       "    </tr>\n",
       "    <tr>\n",
       "      <th>Lyndon B. Johnson</th>\n",
       "      <td>2</td>\n",
       "      <td>3</td>\n",
       "      <td>0</td>\n",
       "      <td>0</td>\n",
       "      <td>5</td>\n",
       "      <td>0</td>\n",
       "      <td>0</td>\n",
       "      <td>6</td>\n",
       "      <td>1</td>\n",
       "      <td>4</td>\n",
       "      <td>1</td>\n",
       "      <td>0</td>\n",
       "      <td>2</td>\n",
       "    </tr>\n",
       "    <tr>\n",
       "      <th>Richard Nixon</th>\n",
       "      <td>1</td>\n",
       "      <td>5</td>\n",
       "      <td>0</td>\n",
       "      <td>3</td>\n",
       "      <td>10</td>\n",
       "      <td>1</td>\n",
       "      <td>0</td>\n",
       "      <td>6</td>\n",
       "      <td>3</td>\n",
       "      <td>6</td>\n",
       "      <td>4</td>\n",
       "      <td>0</td>\n",
       "      <td>5</td>\n",
       "    </tr>\n",
       "    <tr>\n",
       "      <th>Ronald Reagan</th>\n",
       "      <td>5</td>\n",
       "      <td>12</td>\n",
       "      <td>0</td>\n",
       "      <td>0</td>\n",
       "      <td>9</td>\n",
       "      <td>0</td>\n",
       "      <td>0</td>\n",
       "      <td>10</td>\n",
       "      <td>2</td>\n",
       "      <td>16</td>\n",
       "      <td>3</td>\n",
       "      <td>0</td>\n",
       "      <td>7</td>\n",
       "    </tr>\n",
       "    <tr>\n",
       "      <th>Thomas Jefferson</th>\n",
       "      <td>1</td>\n",
       "      <td>2</td>\n",
       "      <td>1</td>\n",
       "      <td>2</td>\n",
       "      <td>4</td>\n",
       "      <td>0</td>\n",
       "      <td>0</td>\n",
       "      <td>0</td>\n",
       "      <td>4</td>\n",
       "      <td>1</td>\n",
       "      <td>1</td>\n",
       "      <td>1</td>\n",
       "      <td>5</td>\n",
       "    </tr>\n",
       "    <tr>\n",
       "      <th>Ulysses S. Grant</th>\n",
       "      <td>6</td>\n",
       "      <td>1</td>\n",
       "      <td>0</td>\n",
       "      <td>1</td>\n",
       "      <td>3</td>\n",
       "      <td>0</td>\n",
       "      <td>0</td>\n",
       "      <td>2</td>\n",
       "      <td>3</td>\n",
       "      <td>2</td>\n",
       "      <td>3</td>\n",
       "      <td>0</td>\n",
       "      <td>0</td>\n",
       "    </tr>\n",
       "    <tr>\n",
       "      <th>Woodrow Wilson</th>\n",
       "      <td>1</td>\n",
       "      <td>7</td>\n",
       "      <td>0</td>\n",
       "      <td>1</td>\n",
       "      <td>5</td>\n",
       "      <td>0</td>\n",
       "      <td>1</td>\n",
       "      <td>3</td>\n",
       "      <td>2</td>\n",
       "      <td>7</td>\n",
       "      <td>2</td>\n",
       "      <td>0</td>\n",
       "      <td>3</td>\n",
       "    </tr>\n",
       "  </tbody>\n",
       "</table>\n",
       "</div>"
      ],
      "text/plain": [
       "col_0                      0   1   2   4   5   6   8   9   10  11  12  13  14\n",
       "1                                                                            \n",
       "Abraham Lincoln             4   1   1   2  10   0   0   7   1   7   1   0   7\n",
       "Barack Obama                3  13   1   2  10   0   0   4   2   6   3   0   6\n",
       "Bill Clinton                4   8   0   2   9   0   0   3   1  13   1   0   8\n",
       "Dwight D. Eisenhower       10   9   0   1   6   0   0   4   0  12   3   0   9\n",
       "Franklin Delano Roosevelt   8  16   0   2   6   3   0  12   0   9   6   0   7\n",
       "George W. Bush              8   9   0   0  15   0   0   5   0   9   3   0   4\n",
       "George Washington           1   0   1   0   1   1   0   0   1   0   0   3   0\n",
       "James Madison               1   1   0   3   2   2   0   0   2   0   2   0   1\n",
       "John F. Kennedy             0   1   0   1   3   0   0   3   0   0   0   0   5\n",
       "Lyndon B. Johnson           2   3   0   0   5   0   0   6   1   4   1   0   2\n",
       "Richard Nixon               1   5   0   3  10   1   0   6   3   6   4   0   5\n",
       "Ronald Reagan               5  12   0   0   9   0   0  10   2  16   3   0   7\n",
       "Thomas Jefferson            1   2   1   2   4   0   0   0   4   1   1   1   5\n",
       "Ulysses S. Grant            6   1   0   1   3   0   0   2   3   2   3   0   0\n",
       "Woodrow Wilson              1   7   0   1   5   0   1   3   2   7   2   0   3"
      ]
     },
     "execution_count": 47,
     "metadata": {},
     "output_type": "execute_result"
    }
   ],
   "source": [
    "pd.crosstab(Y_test, km.predict(X_test))"
   ]
  },
  {
   "cell_type": "markdown",
   "metadata": {},
   "source": [
    "# Spectral Clustering "
   ]
  },
  {
   "cell_type": "code",
   "execution_count": 48,
   "metadata": {},
   "outputs": [
    {
     "name": "stderr",
     "output_type": "stream",
     "text": [
      "C:\\Users\\sohai\\Anaconda3\\lib\\site-packages\\sklearn\\manifold\\spectral_embedding_.py:234: UserWarning: Graph is not fully connected, spectral embedding may not work as expected.\n",
      "  warnings.warn(\"Graph is not fully connected, spectral embedding\"\n"
     ]
    },
    {
     "data": {
      "text/plain": [
       "SpectralClustering(affinity='rbf', assign_labels='kmeans', coef0=1, degree=3,\n",
       "          eigen_solver=None, eigen_tol=0.0, gamma=1.0, kernel_params=None,\n",
       "          n_clusters=15, n_init=10, n_jobs=1, n_neighbors=10,\n",
       "          random_state=0)"
      ]
     },
     "execution_count": 48,
     "metadata": {},
     "output_type": "execute_result"
    }
   ],
   "source": [
    "true_k=15\n",
    "spectral = cluster.SpectralClustering(n_clusters=true_k, random_state=0)\n",
    "spectral.fit(X_train)"
   ]
  },
  {
   "cell_type": "code",
   "execution_count": 49,
   "metadata": {},
   "outputs": [
    {
     "name": "stdout",
     "output_type": "stream",
     "text": [
      "Adjusted Rand-Index: 0.011\n",
      "Silhouette Coefficient: 0.280\n"
     ]
    }
   ],
   "source": [
    "ARI = metrics.adjusted_rand_score(Y_train, spectral.labels_)\n",
    "silhouette = metrics.silhouette_score(X_train, spectral.labels_)\n",
    "print(\"Adjusted Rand-Index: %.3f\" % ARI )\n",
    "print(\"Silhouette Coefficient: %0.3f\"\n",
    "      % silhouette)\n",
    "cluster_results_pres.iloc[3] = [ARI, silhouette]"
   ]
  },
  {
   "cell_type": "code",
   "execution_count": 50,
   "metadata": {},
   "outputs": [
    {
     "data": {
      "text/html": [
       "<div>\n",
       "<style scoped>\n",
       "    .dataframe tbody tr th:only-of-type {\n",
       "        vertical-align: middle;\n",
       "    }\n",
       "\n",
       "    .dataframe tbody tr th {\n",
       "        vertical-align: top;\n",
       "    }\n",
       "\n",
       "    .dataframe thead th {\n",
       "        text-align: right;\n",
       "    }\n",
       "</style>\n",
       "<table border=\"1\" class=\"dataframe\">\n",
       "  <thead>\n",
       "    <tr style=\"text-align: right;\">\n",
       "      <th></th>\n",
       "      <th></th>\n",
       "      <th>ARI score</th>\n",
       "      <th>Silhouette Score</th>\n",
       "    </tr>\n",
       "  </thead>\n",
       "  <tbody>\n",
       "    <tr>\n",
       "      <th rowspan=\"2\" valign=\"top\">Bag of Words</th>\n",
       "      <th>K-Means</th>\n",
       "      <td>0.0114574</td>\n",
       "      <td>0.237157</td>\n",
       "    </tr>\n",
       "    <tr>\n",
       "      <th>Spectral Clustering</th>\n",
       "      <td>-0.0005647</td>\n",
       "      <td>-0.113605</td>\n",
       "    </tr>\n",
       "    <tr>\n",
       "      <th rowspan=\"2\" valign=\"top\">Tf-Idf</th>\n",
       "      <th>K-Means</th>\n",
       "      <td>0.0136188</td>\n",
       "      <td>0.440441</td>\n",
       "    </tr>\n",
       "    <tr>\n",
       "      <th>Spectral Clustering</th>\n",
       "      <td>0.0114162</td>\n",
       "      <td>0.27976</td>\n",
       "    </tr>\n",
       "  </tbody>\n",
       "</table>\n",
       "</div>"
      ],
      "text/plain": [
       "                                  ARI score Silhouette Score\n",
       "Bag of Words K-Means              0.0114574         0.237157\n",
       "             Spectral Clustering -0.0005647        -0.113605\n",
       "Tf-Idf       K-Means              0.0136188         0.440441\n",
       "             Spectral Clustering  0.0114162          0.27976"
      ]
     },
     "execution_count": 50,
     "metadata": {},
     "output_type": "execute_result"
    }
   ],
   "source": [
    "cluster_results_pres"
   ]
  },
  {
   "cell_type": "markdown",
   "metadata": {},
   "source": [
    "## Analyzing the results of clustering\n",
    "\n",
    "We see here that the clustering of the documents by president does not perform too well. In fact, according to the ARI score, which measures the level of agreement in the assigned clusters to the ground truth, we see that our model clusters almost at random. And the low silhouette score shows that the clusters are not evenly sized and may have quite a few overlapping clusters. The biggest problem for the model is the lack of data. Some presidents only gave one inaugural speech, so that's not a lot of information for the model to discriminate documents well. A better way to improve this would to have a larger corpus from each person listed and then remodel. Another potential setback for the model is the fact that inaugural speeches tend to have a structure that is repeated from president to president. Lot's of phrases are repeated such as 'God Bless America' or 'My Fellow Americans' that without enough data, the model can have a tough time discerning different sentences which could potentially be attributed to multiple presidents. "
   ]
  },
  {
   "cell_type": "markdown",
   "metadata": {},
   "source": [
    "# Clustering by time period\n",
    "## BoW data"
   ]
  },
  {
   "cell_type": "code",
   "execution_count": 51,
   "metadata": {
    "collapsed": true
   },
   "outputs": [],
   "source": [
    "cluster_results = pd.DataFrame(index=index, columns=['ARI score', 'Silhouette Score'])"
   ]
  },
  {
   "cell_type": "code",
   "execution_count": 52,
   "metadata": {
    "collapsed": true
   },
   "outputs": [],
   "source": [
    "X = np.array(bow_data.drop(['text_sentence', 'President', 2, 3, 4], 1))\n",
    "Y = bow_data[4]\n",
    "\n",
    "X_train, X_test, Y_train, Y_test = train_test_split(X, Y, test_size=.25, random_state=0, stratify=Y)"
   ]
  },
  {
   "cell_type": "markdown",
   "metadata": {},
   "source": [
    "## K means clustering"
   ]
  },
  {
   "cell_type": "code",
   "execution_count": 53,
   "metadata": {
    "collapsed": true
   },
   "outputs": [],
   "source": [
    "true_k=3\n",
    "km = cluster.KMeans(n_clusters=true_k, init='k-means++', max_iter=100, random_state=0)\n",
    "km.fit(X_train)\n",
    "\n",
    "km_test = km.predict(X_test)"
   ]
  },
  {
   "cell_type": "code",
   "execution_count": 54,
   "metadata": {},
   "outputs": [
    {
     "name": "stdout",
     "output_type": "stream",
     "text": [
      "Adjusted Rand-Index: 0.121\n",
      "Silhouette Coefficient: 0.619\n"
     ]
    }
   ],
   "source": [
    "ARI = metrics.adjusted_rand_score(Y_train, km.labels_)\n",
    "silhouette = metrics.silhouette_score(X_train, km.labels_)\n",
    "print(\"Adjusted Rand-Index: %.3f\" % ARI )\n",
    "print(\"Silhouette Coefficient: %0.3f\"\n",
    "      % silhouette)\n",
    "cluster_results.iloc[0] = [ARI, silhouette]\n",
    "# Clusters seem to overlap, but at least they are moving towards homogeneity"
   ]
  },
  {
   "cell_type": "code",
   "execution_count": 55,
   "metadata": {},
   "outputs": [
    {
     "data": {
      "text/html": [
       "<div>\n",
       "<style scoped>\n",
       "    .dataframe tbody tr th:only-of-type {\n",
       "        vertical-align: middle;\n",
       "    }\n",
       "\n",
       "    .dataframe tbody tr th {\n",
       "        vertical-align: top;\n",
       "    }\n",
       "\n",
       "    .dataframe thead th {\n",
       "        text-align: right;\n",
       "    }\n",
       "</style>\n",
       "<table border=\"1\" class=\"dataframe\">\n",
       "  <thead>\n",
       "    <tr style=\"text-align: right;\">\n",
       "      <th>col_0</th>\n",
       "      <th>0</th>\n",
       "      <th>1</th>\n",
       "      <th>2</th>\n",
       "    </tr>\n",
       "    <tr>\n",
       "      <th>4</th>\n",
       "      <th></th>\n",
       "      <th></th>\n",
       "      <th></th>\n",
       "    </tr>\n",
       "  </thead>\n",
       "  <tbody>\n",
       "    <tr>\n",
       "      <th>Post Civil-War era</th>\n",
       "      <td>302</td>\n",
       "      <td>83</td>\n",
       "      <td>3</td>\n",
       "    </tr>\n",
       "    <tr>\n",
       "      <th>Post World Wars</th>\n",
       "      <td>914</td>\n",
       "      <td>136</td>\n",
       "      <td>0</td>\n",
       "    </tr>\n",
       "    <tr>\n",
       "      <th>Pre Civil-War era</th>\n",
       "      <td>127</td>\n",
       "      <td>105</td>\n",
       "      <td>3</td>\n",
       "    </tr>\n",
       "  </tbody>\n",
       "</table>\n",
       "</div>"
      ],
      "text/plain": [
       "col_0                 0    1  2\n",
       "4                              \n",
       "Post Civil-War era  302   83  3\n",
       "Post World Wars     914  136  0\n",
       "Pre Civil-War era   127  105  3"
      ]
     },
     "execution_count": 55,
     "metadata": {},
     "output_type": "execute_result"
    }
   ],
   "source": [
    "pd.crosstab(Y_train, km.labels_)"
   ]
  },
  {
   "cell_type": "code",
   "execution_count": 56,
   "metadata": {},
   "outputs": [
    {
     "name": "stdout",
     "output_type": "stream",
     "text": [
      "Adjusted Rand-Index (Test set): 0.076\n",
      "Silhouette Coefficient (Test set): 0.588\n"
     ]
    }
   ],
   "source": [
    "print(\"Adjusted Rand-Index (Test set): %.3f\"\n",
    "      % metrics.adjusted_rand_score(Y_test, km.predict(X_test)))\n",
    "print(\"Silhouette Coefficient (Test set): %0.3f\"\n",
    "      % metrics.silhouette_score(X_test, km.predict(X_test)))"
   ]
  },
  {
   "cell_type": "code",
   "execution_count": 57,
   "metadata": {},
   "outputs": [
    {
     "data": {
      "text/html": [
       "<div>\n",
       "<style scoped>\n",
       "    .dataframe tbody tr th:only-of-type {\n",
       "        vertical-align: middle;\n",
       "    }\n",
       "\n",
       "    .dataframe tbody tr th {\n",
       "        vertical-align: top;\n",
       "    }\n",
       "\n",
       "    .dataframe thead th {\n",
       "        text-align: right;\n",
       "    }\n",
       "</style>\n",
       "<table border=\"1\" class=\"dataframe\">\n",
       "  <thead>\n",
       "    <tr style=\"text-align: right;\">\n",
       "      <th>col_0</th>\n",
       "      <th>0</th>\n",
       "      <th>1</th>\n",
       "      <th>2</th>\n",
       "    </tr>\n",
       "    <tr>\n",
       "      <th>4</th>\n",
       "      <th></th>\n",
       "      <th></th>\n",
       "      <th></th>\n",
       "    </tr>\n",
       "  </thead>\n",
       "  <tbody>\n",
       "    <tr>\n",
       "      <th>Post Civil-War era</th>\n",
       "      <td>102</td>\n",
       "      <td>27</td>\n",
       "      <td>0</td>\n",
       "    </tr>\n",
       "    <tr>\n",
       "      <th>Post World Wars</th>\n",
       "      <td>304</td>\n",
       "      <td>47</td>\n",
       "      <td>0</td>\n",
       "    </tr>\n",
       "    <tr>\n",
       "      <th>Pre Civil-War era</th>\n",
       "      <td>52</td>\n",
       "      <td>25</td>\n",
       "      <td>1</td>\n",
       "    </tr>\n",
       "  </tbody>\n",
       "</table>\n",
       "</div>"
      ],
      "text/plain": [
       "col_0                 0   1  2\n",
       "4                             \n",
       "Post Civil-War era  102  27  0\n",
       "Post World Wars     304  47  0\n",
       "Pre Civil-War era    52  25  1"
      ]
     },
     "execution_count": 57,
     "metadata": {},
     "output_type": "execute_result"
    }
   ],
   "source": [
    "pd.crosstab(Y_test, km_test)"
   ]
  },
  {
   "cell_type": "markdown",
   "metadata": {},
   "source": [
    "# Spectral Clustering "
   ]
  },
  {
   "cell_type": "code",
   "execution_count": 58,
   "metadata": {},
   "outputs": [
    {
     "name": "stderr",
     "output_type": "stream",
     "text": [
      "C:\\Users\\sohai\\Anaconda3\\lib\\site-packages\\sklearn\\manifold\\spectral_embedding_.py:234: UserWarning: Graph is not fully connected, spectral embedding may not work as expected.\n",
      "  warnings.warn(\"Graph is not fully connected, spectral embedding\"\n"
     ]
    },
    {
     "data": {
      "text/plain": [
       "SpectralClustering(affinity='rbf', assign_labels='kmeans', coef0=1, degree=3,\n",
       "          eigen_solver=None, eigen_tol=0.0, gamma=1.0, kernel_params=None,\n",
       "          n_clusters=3, n_init=10, n_jobs=1, n_neighbors=10,\n",
       "          random_state=0)"
      ]
     },
     "execution_count": 58,
     "metadata": {},
     "output_type": "execute_result"
    }
   ],
   "source": [
    "spectral = cluster.SpectralClustering(n_clusters=true_k, random_state=0)\n",
    "spectral.fit(X_train)"
   ]
  },
  {
   "cell_type": "code",
   "execution_count": 59,
   "metadata": {},
   "outputs": [
    {
     "name": "stdout",
     "output_type": "stream",
     "text": [
      "Adjusted Rand-Index: -0.010\n",
      "Silhouette Coefficient: -0.055\n"
     ]
    }
   ],
   "source": [
    "ARI = metrics.adjusted_rand_score(Y_train, spectral.labels_)\n",
    "silhouette = metrics.silhouette_score(X_train, spectral.labels_)\n",
    "print(\"Adjusted Rand-Index: %.3f\" % ARI )\n",
    "print(\"Silhouette Coefficient: %0.3f\"\n",
    "      % silhouette)\n",
    "cluster_results.iloc[1] = [ARI, silhouette]"
   ]
  },
  {
   "cell_type": "markdown",
   "metadata": {},
   "source": [
    "# Testing clustering on tf_idf on time period prediction\n",
    "## K means clustering"
   ]
  },
  {
   "cell_type": "code",
   "execution_count": 60,
   "metadata": {
    "collapsed": true
   },
   "outputs": [],
   "source": [
    "X = np.array(tf_component.drop([0, 1, 2, 3, 4], 1))\n",
    "Y = tf_component[4]\n",
    "true_k=3\n",
    "X_train, X_test, Y_train, Y_test = train_test_split(X, Y, test_size=.25, random_state=0, stratify=Y)"
   ]
  },
  {
   "cell_type": "code",
   "execution_count": 61,
   "metadata": {
    "collapsed": true
   },
   "outputs": [],
   "source": [
    "km = cluster.KMeans(n_clusters=true_k, init='k-means++', max_iter=100, random_state=0)\n",
    "km.fit_transform(X_train)\n",
    "\n",
    "km_test = km.predict(X_test)"
   ]
  },
  {
   "cell_type": "code",
   "execution_count": 62,
   "metadata": {},
   "outputs": [
    {
     "name": "stdout",
     "output_type": "stream",
     "text": [
      "Adjusted Rand-Index: 0.121\n",
      "Silhouette Coefficient: 0.651\n"
     ]
    }
   ],
   "source": [
    "ARI = metrics.adjusted_rand_score(Y_train, km.labels_)\n",
    "silhouette = metrics.silhouette_score(X_train, km.labels_)\n",
    "print(\"Adjusted Rand-Index: %.3f\" % ARI )\n",
    "print(\"Silhouette Coefficient: %0.3f\"\n",
    "      % silhouette)\n",
    "cluster_results.iloc[2] = [ARI, silhouette]\n",
    "# A lot of overlapping clusters"
   ]
  },
  {
   "cell_type": "code",
   "execution_count": 63,
   "metadata": {},
   "outputs": [
    {
     "data": {
      "text/html": [
       "<div>\n",
       "<style scoped>\n",
       "    .dataframe tbody tr th:only-of-type {\n",
       "        vertical-align: middle;\n",
       "    }\n",
       "\n",
       "    .dataframe tbody tr th {\n",
       "        vertical-align: top;\n",
       "    }\n",
       "\n",
       "    .dataframe thead th {\n",
       "        text-align: right;\n",
       "    }\n",
       "</style>\n",
       "<table border=\"1\" class=\"dataframe\">\n",
       "  <thead>\n",
       "    <tr style=\"text-align: right;\">\n",
       "      <th>col_0</th>\n",
       "      <th>0</th>\n",
       "      <th>1</th>\n",
       "      <th>2</th>\n",
       "    </tr>\n",
       "    <tr>\n",
       "      <th>4</th>\n",
       "      <th></th>\n",
       "      <th></th>\n",
       "      <th></th>\n",
       "    </tr>\n",
       "  </thead>\n",
       "  <tbody>\n",
       "    <tr>\n",
       "      <th>Post Civil-War era</th>\n",
       "      <td>307</td>\n",
       "      <td>78</td>\n",
       "      <td>3</td>\n",
       "    </tr>\n",
       "    <tr>\n",
       "      <th>Post World Wars</th>\n",
       "      <td>921</td>\n",
       "      <td>129</td>\n",
       "      <td>0</td>\n",
       "    </tr>\n",
       "    <tr>\n",
       "      <th>Pre Civil-War era</th>\n",
       "      <td>129</td>\n",
       "      <td>103</td>\n",
       "      <td>3</td>\n",
       "    </tr>\n",
       "  </tbody>\n",
       "</table>\n",
       "</div>"
      ],
      "text/plain": [
       "col_0                 0    1  2\n",
       "4                              \n",
       "Post Civil-War era  307   78  3\n",
       "Post World Wars     921  129  0\n",
       "Pre Civil-War era   129  103  3"
      ]
     },
     "execution_count": 63,
     "metadata": {},
     "output_type": "execute_result"
    }
   ],
   "source": [
    "pd.crosstab(Y_train, km.labels_)"
   ]
  },
  {
   "cell_type": "code",
   "execution_count": 64,
   "metadata": {},
   "outputs": [
    {
     "name": "stdout",
     "output_type": "stream",
     "text": [
      "Adjusted Rand-Index (Test set): 0.072\n",
      "Silhouette Coefficient (Test set): 0.623\n"
     ]
    }
   ],
   "source": [
    "#Test statistics evaluation\n",
    "print(\"Adjusted Rand-Index (Test set): %.3f\"\n",
    "      % metrics.adjusted_rand_score(Y_test, km.predict(X_test)))\n",
    "print(\"Silhouette Coefficient (Test set): %0.3f\"\n",
    "      % metrics.silhouette_score(X_test, km.predict(X_test)))"
   ]
  },
  {
   "cell_type": "markdown",
   "metadata": {},
   "source": [
    "# Spectral Clustering "
   ]
  },
  {
   "cell_type": "code",
   "execution_count": 68,
   "metadata": {},
   "outputs": [
    {
     "ename": "LinAlgError",
     "evalue": "Last 2 dimensions of the array must be square",
     "output_type": "error",
     "traceback": [
      "\u001b[1;31m---------------------------------------------------------------------------\u001b[0m",
      "\u001b[1;31mLinAlgError\u001b[0m                               Traceback (most recent call last)",
      "\u001b[1;32m<ipython-input-68-bc0bdaff6f59>\u001b[0m in \u001b[0;36m<module>\u001b[1;34m()\u001b[0m\n\u001b[1;32m----> 1\u001b[1;33m \u001b[0mnp\u001b[0m\u001b[1;33m.\u001b[0m\u001b[0mlinalg\u001b[0m\u001b[1;33m.\u001b[0m\u001b[0meigvals\u001b[0m\u001b[1;33m(\u001b[0m\u001b[0mX_train\u001b[0m\u001b[1;33m)\u001b[0m\u001b[1;33m\u001b[0m\u001b[0m\n\u001b[0m",
      "\u001b[1;32m~\\Anaconda3\\lib\\site-packages\\numpy\\linalg\\linalg.py\u001b[0m in \u001b[0;36meigvals\u001b[1;34m(a)\u001b[0m\n\u001b[0;32m    900\u001b[0m     \u001b[0m_assertNoEmpty2d\u001b[0m\u001b[1;33m(\u001b[0m\u001b[0ma\u001b[0m\u001b[1;33m)\u001b[0m\u001b[1;33m\u001b[0m\u001b[0m\n\u001b[0;32m    901\u001b[0m     \u001b[0m_assertRankAtLeast2\u001b[0m\u001b[1;33m(\u001b[0m\u001b[0ma\u001b[0m\u001b[1;33m)\u001b[0m\u001b[1;33m\u001b[0m\u001b[0m\n\u001b[1;32m--> 902\u001b[1;33m     \u001b[0m_assertNdSquareness\u001b[0m\u001b[1;33m(\u001b[0m\u001b[0ma\u001b[0m\u001b[1;33m)\u001b[0m\u001b[1;33m\u001b[0m\u001b[0m\n\u001b[0m\u001b[0;32m    903\u001b[0m     \u001b[0m_assertFinite\u001b[0m\u001b[1;33m(\u001b[0m\u001b[0ma\u001b[0m\u001b[1;33m)\u001b[0m\u001b[1;33m\u001b[0m\u001b[0m\n\u001b[0;32m    904\u001b[0m     \u001b[0mt\u001b[0m\u001b[1;33m,\u001b[0m \u001b[0mresult_t\u001b[0m \u001b[1;33m=\u001b[0m \u001b[0m_commonType\u001b[0m\u001b[1;33m(\u001b[0m\u001b[0ma\u001b[0m\u001b[1;33m)\u001b[0m\u001b[1;33m\u001b[0m\u001b[0m\n",
      "\u001b[1;32m~\\Anaconda3\\lib\\site-packages\\numpy\\linalg\\linalg.py\u001b[0m in \u001b[0;36m_assertNdSquareness\u001b[1;34m(*arrays)\u001b[0m\n\u001b[0;32m    210\u001b[0m     \u001b[1;32mfor\u001b[0m \u001b[0ma\u001b[0m \u001b[1;32min\u001b[0m \u001b[0marrays\u001b[0m\u001b[1;33m:\u001b[0m\u001b[1;33m\u001b[0m\u001b[0m\n\u001b[0;32m    211\u001b[0m         \u001b[1;32mif\u001b[0m \u001b[0mmax\u001b[0m\u001b[1;33m(\u001b[0m\u001b[0ma\u001b[0m\u001b[1;33m.\u001b[0m\u001b[0mshape\u001b[0m\u001b[1;33m[\u001b[0m\u001b[1;33m-\u001b[0m\u001b[1;36m2\u001b[0m\u001b[1;33m:\u001b[0m\u001b[1;33m]\u001b[0m\u001b[1;33m)\u001b[0m \u001b[1;33m!=\u001b[0m \u001b[0mmin\u001b[0m\u001b[1;33m(\u001b[0m\u001b[0ma\u001b[0m\u001b[1;33m.\u001b[0m\u001b[0mshape\u001b[0m\u001b[1;33m[\u001b[0m\u001b[1;33m-\u001b[0m\u001b[1;36m2\u001b[0m\u001b[1;33m:\u001b[0m\u001b[1;33m]\u001b[0m\u001b[1;33m)\u001b[0m\u001b[1;33m:\u001b[0m\u001b[1;33m\u001b[0m\u001b[0m\n\u001b[1;32m--> 212\u001b[1;33m             \u001b[1;32mraise\u001b[0m \u001b[0mLinAlgError\u001b[0m\u001b[1;33m(\u001b[0m\u001b[1;34m'Last 2 dimensions of the array must be square'\u001b[0m\u001b[1;33m)\u001b[0m\u001b[1;33m\u001b[0m\u001b[0m\n\u001b[0m\u001b[0;32m    213\u001b[0m \u001b[1;33m\u001b[0m\u001b[0m\n\u001b[0;32m    214\u001b[0m \u001b[1;32mdef\u001b[0m \u001b[0m_assertFinite\u001b[0m\u001b[1;33m(\u001b[0m\u001b[1;33m*\u001b[0m\u001b[0marrays\u001b[0m\u001b[1;33m)\u001b[0m\u001b[1;33m:\u001b[0m\u001b[1;33m\u001b[0m\u001b[0m\n",
      "\u001b[1;31mLinAlgError\u001b[0m: Last 2 dimensions of the array must be square"
     ]
    }
   ],
   "source": [
    "np.linalg.eigvals(X_train)"
   ]
  },
  {
   "cell_type": "code",
   "execution_count": 65,
   "metadata": {},
   "outputs": [
    {
     "name": "stderr",
     "output_type": "stream",
     "text": [
      "C:\\Users\\sohai\\Anaconda3\\lib\\site-packages\\sklearn\\manifold\\spectral_embedding_.py:234: UserWarning: Graph is not fully connected, spectral embedding may not work as expected.\n",
      "  warnings.warn(\"Graph is not fully connected, spectral embedding\"\n"
     ]
    },
    {
     "ename": "LinAlgError",
     "evalue": "3-th leading minor of the array is not positive definite",
     "output_type": "error",
     "traceback": [
      "\u001b[1;31m---------------------------------------------------------------------------\u001b[0m",
      "\u001b[1;31mLinAlgError\u001b[0m                               Traceback (most recent call last)",
      "\u001b[1;32m<ipython-input-65-d12d61a43e1c>\u001b[0m in \u001b[0;36m<module>\u001b[1;34m()\u001b[0m\n\u001b[0;32m      1\u001b[0m \u001b[0mspectral\u001b[0m \u001b[1;33m=\u001b[0m \u001b[0mcluster\u001b[0m\u001b[1;33m.\u001b[0m\u001b[0mSpectralClustering\u001b[0m\u001b[1;33m(\u001b[0m\u001b[0mn_clusters\u001b[0m\u001b[1;33m=\u001b[0m\u001b[0mtrue_k\u001b[0m\u001b[1;33m,\u001b[0m \u001b[0mrandom_state\u001b[0m\u001b[1;33m=\u001b[0m\u001b[1;36m0\u001b[0m\u001b[1;33m)\u001b[0m\u001b[1;33m\u001b[0m\u001b[0m\n\u001b[1;32m----> 2\u001b[1;33m \u001b[0mspectral\u001b[0m\u001b[1;33m.\u001b[0m\u001b[0mfit\u001b[0m\u001b[1;33m(\u001b[0m\u001b[0mX_train\u001b[0m\u001b[1;33m,\u001b[0m \u001b[0mY_train\u001b[0m\u001b[1;33m)\u001b[0m\u001b[1;33m\u001b[0m\u001b[0m\n\u001b[0m",
      "\u001b[1;32m~\\Anaconda3\\lib\\site-packages\\sklearn\\cluster\\spectral.py\u001b[0m in \u001b[0;36mfit\u001b[1;34m(self, X, y)\u001b[0m\n\u001b[0;32m    470\u001b[0m                                            \u001b[0mn_init\u001b[0m\u001b[1;33m=\u001b[0m\u001b[0mself\u001b[0m\u001b[1;33m.\u001b[0m\u001b[0mn_init\u001b[0m\u001b[1;33m,\u001b[0m\u001b[1;33m\u001b[0m\u001b[0m\n\u001b[0;32m    471\u001b[0m                                            \u001b[0meigen_tol\u001b[0m\u001b[1;33m=\u001b[0m\u001b[0mself\u001b[0m\u001b[1;33m.\u001b[0m\u001b[0meigen_tol\u001b[0m\u001b[1;33m,\u001b[0m\u001b[1;33m\u001b[0m\u001b[0m\n\u001b[1;32m--> 472\u001b[1;33m                                            assign_labels=self.assign_labels)\n\u001b[0m\u001b[0;32m    473\u001b[0m         \u001b[1;32mreturn\u001b[0m \u001b[0mself\u001b[0m\u001b[1;33m\u001b[0m\u001b[0m\n\u001b[0;32m    474\u001b[0m \u001b[1;33m\u001b[0m\u001b[0m\n",
      "\u001b[1;32m~\\Anaconda3\\lib\\site-packages\\sklearn\\cluster\\spectral.py\u001b[0m in \u001b[0;36mspectral_clustering\u001b[1;34m(affinity, n_clusters, n_components, eigen_solver, random_state, n_init, eigen_tol, assign_labels)\u001b[0m\n\u001b[0;32m    260\u001b[0m                               \u001b[0meigen_solver\u001b[0m\u001b[1;33m=\u001b[0m\u001b[0meigen_solver\u001b[0m\u001b[1;33m,\u001b[0m\u001b[1;33m\u001b[0m\u001b[0m\n\u001b[0;32m    261\u001b[0m                               \u001b[0mrandom_state\u001b[0m\u001b[1;33m=\u001b[0m\u001b[0mrandom_state\u001b[0m\u001b[1;33m,\u001b[0m\u001b[1;33m\u001b[0m\u001b[0m\n\u001b[1;32m--> 262\u001b[1;33m                               eigen_tol=eigen_tol, drop_first=False)\n\u001b[0m\u001b[0;32m    263\u001b[0m \u001b[1;33m\u001b[0m\u001b[0m\n\u001b[0;32m    264\u001b[0m     \u001b[1;32mif\u001b[0m \u001b[0massign_labels\u001b[0m \u001b[1;33m==\u001b[0m \u001b[1;34m'kmeans'\u001b[0m\u001b[1;33m:\u001b[0m\u001b[1;33m\u001b[0m\u001b[0m\n",
      "\u001b[1;32m~\\Anaconda3\\lib\\site-packages\\sklearn\\manifold\\spectral_embedding_.py\u001b[0m in \u001b[0;36mspectral_embedding\u001b[1;34m(adjacency, n_components, eigen_solver, random_state, eigen_tol, norm_laplacian, drop_first)\u001b[0m\n\u001b[0;32m    315\u001b[0m             \u001b[0mX\u001b[0m\u001b[1;33m[\u001b[0m\u001b[1;33m:\u001b[0m\u001b[1;33m,\u001b[0m \u001b[1;36m0\u001b[0m\u001b[1;33m]\u001b[0m \u001b[1;33m=\u001b[0m \u001b[0mdd\u001b[0m\u001b[1;33m.\u001b[0m\u001b[0mravel\u001b[0m\u001b[1;33m(\u001b[0m\u001b[1;33m)\u001b[0m\u001b[1;33m\u001b[0m\u001b[0m\n\u001b[0;32m    316\u001b[0m             lambdas, diffusion_map = lobpcg(laplacian, X, tol=1e-15,\n\u001b[1;32m--> 317\u001b[1;33m                                             largest=False, maxiter=2000)\n\u001b[0m\u001b[0;32m    318\u001b[0m             \u001b[0membedding\u001b[0m \u001b[1;33m=\u001b[0m \u001b[0mdiffusion_map\u001b[0m\u001b[1;33m.\u001b[0m\u001b[0mT\u001b[0m\u001b[1;33m[\u001b[0m\u001b[1;33m:\u001b[0m\u001b[0mn_components\u001b[0m\u001b[1;33m]\u001b[0m \u001b[1;33m*\u001b[0m \u001b[0mdd\u001b[0m\u001b[1;33m\u001b[0m\u001b[0m\n\u001b[0;32m    319\u001b[0m             \u001b[1;32mif\u001b[0m \u001b[0membedding\u001b[0m\u001b[1;33m.\u001b[0m\u001b[0mshape\u001b[0m\u001b[1;33m[\u001b[0m\u001b[1;36m0\u001b[0m\u001b[1;33m]\u001b[0m \u001b[1;33m==\u001b[0m \u001b[1;36m1\u001b[0m\u001b[1;33m:\u001b[0m\u001b[1;33m\u001b[0m\u001b[0m\n",
      "\u001b[1;32m~\\Anaconda3\\lib\\site-packages\\scipy\\sparse\\linalg\\eigen\\lobpcg\\lobpcg.py\u001b[0m in \u001b[0;36mlobpcg\u001b[1;34m(A, X, B, M, Y, tol, maxiter, largest, verbosityLevel, retLambdaHistory, retResidualNormsHistory)\u001b[0m\n\u001b[0;32m    448\u001b[0m         \u001b[1;32mif\u001b[0m \u001b[0miterationNumber\u001b[0m \u001b[1;33m>\u001b[0m \u001b[1;36m0\u001b[0m\u001b[1;33m:\u001b[0m\u001b[1;33m\u001b[0m\u001b[0m\n\u001b[0;32m    449\u001b[0m             aux = _b_orthonormalize(B, activeBlockVectorP,\n\u001b[1;32m--> 450\u001b[1;33m                                     activeBlockVectorBP, retInvR=True)\n\u001b[0m\u001b[0;32m    451\u001b[0m             \u001b[0mactiveBlockVectorP\u001b[0m\u001b[1;33m,\u001b[0m \u001b[0mactiveBlockVectorBP\u001b[0m\u001b[1;33m,\u001b[0m \u001b[0minvR\u001b[0m \u001b[1;33m=\u001b[0m \u001b[0maux\u001b[0m\u001b[1;33m\u001b[0m\u001b[0m\n\u001b[0;32m    452\u001b[0m             \u001b[0mactiveBlockVectorAP\u001b[0m \u001b[1;33m=\u001b[0m \u001b[0mnp\u001b[0m\u001b[1;33m.\u001b[0m\u001b[0mdot\u001b[0m\u001b[1;33m(\u001b[0m\u001b[0mactiveBlockVectorAP\u001b[0m\u001b[1;33m,\u001b[0m \u001b[0minvR\u001b[0m\u001b[1;33m)\u001b[0m\u001b[1;33m\u001b[0m\u001b[0m\n",
      "\u001b[1;32m~\\Anaconda3\\lib\\site-packages\\scipy\\sparse\\linalg\\eigen\\lobpcg\\lobpcg.py\u001b[0m in \u001b[0;36m_b_orthonormalize\u001b[1;34m(B, blockVectorV, blockVectorBV, retInvR)\u001b[0m\n\u001b[0;32m     94\u001b[0m             \u001b[0mblockVectorBV\u001b[0m \u001b[1;33m=\u001b[0m \u001b[0mblockVectorV\u001b[0m  \u001b[1;31m# Shared data!!!\u001b[0m\u001b[1;33m\u001b[0m\u001b[0m\n\u001b[0;32m     95\u001b[0m     \u001b[0mgramVBV\u001b[0m \u001b[1;33m=\u001b[0m \u001b[0mnp\u001b[0m\u001b[1;33m.\u001b[0m\u001b[0mdot\u001b[0m\u001b[1;33m(\u001b[0m\u001b[0mblockVectorV\u001b[0m\u001b[1;33m.\u001b[0m\u001b[0mT\u001b[0m\u001b[1;33m,\u001b[0m \u001b[0mblockVectorBV\u001b[0m\u001b[1;33m)\u001b[0m\u001b[1;33m\u001b[0m\u001b[0m\n\u001b[1;32m---> 96\u001b[1;33m     \u001b[0mgramVBV\u001b[0m \u001b[1;33m=\u001b[0m \u001b[0mcholesky\u001b[0m\u001b[1;33m(\u001b[0m\u001b[0mgramVBV\u001b[0m\u001b[1;33m)\u001b[0m\u001b[1;33m\u001b[0m\u001b[0m\n\u001b[0m\u001b[0;32m     97\u001b[0m     \u001b[0mgramVBV\u001b[0m \u001b[1;33m=\u001b[0m \u001b[0minv\u001b[0m\u001b[1;33m(\u001b[0m\u001b[0mgramVBV\u001b[0m\u001b[1;33m,\u001b[0m \u001b[0moverwrite_a\u001b[0m\u001b[1;33m=\u001b[0m\u001b[1;32mTrue\u001b[0m\u001b[1;33m)\u001b[0m\u001b[1;33m\u001b[0m\u001b[0m\n\u001b[0;32m     98\u001b[0m     \u001b[1;31m# gramVBV is now R^{-1}.\u001b[0m\u001b[1;33m\u001b[0m\u001b[1;33m\u001b[0m\u001b[0m\n",
      "\u001b[1;32m~\\Anaconda3\\lib\\site-packages\\scipy\\linalg\\decomp_cholesky.py\u001b[0m in \u001b[0;36mcholesky\u001b[1;34m(a, lower, overwrite_a, check_finite)\u001b[0m\n\u001b[0;32m     89\u001b[0m     \"\"\"\n\u001b[0;32m     90\u001b[0m     c, lower = _cholesky(a, lower=lower, overwrite_a=overwrite_a, clean=True,\n\u001b[1;32m---> 91\u001b[1;33m                          check_finite=check_finite)\n\u001b[0m\u001b[0;32m     92\u001b[0m     \u001b[1;32mreturn\u001b[0m \u001b[0mc\u001b[0m\u001b[1;33m\u001b[0m\u001b[0m\n\u001b[0;32m     93\u001b[0m \u001b[1;33m\u001b[0m\u001b[0m\n",
      "\u001b[1;32m~\\Anaconda3\\lib\\site-packages\\scipy\\linalg\\decomp_cholesky.py\u001b[0m in \u001b[0;36m_cholesky\u001b[1;34m(a, lower, overwrite_a, clean, check_finite)\u001b[0m\n\u001b[0;32m     38\u001b[0m     \u001b[1;32mif\u001b[0m \u001b[0minfo\u001b[0m \u001b[1;33m>\u001b[0m \u001b[1;36m0\u001b[0m\u001b[1;33m:\u001b[0m\u001b[1;33m\u001b[0m\u001b[0m\n\u001b[0;32m     39\u001b[0m         raise LinAlgError(\"%d-th leading minor of the array is not positive \"\n\u001b[1;32m---> 40\u001b[1;33m                           \"definite\" % info)\n\u001b[0m\u001b[0;32m     41\u001b[0m     \u001b[1;32mif\u001b[0m \u001b[0minfo\u001b[0m \u001b[1;33m<\u001b[0m \u001b[1;36m0\u001b[0m\u001b[1;33m:\u001b[0m\u001b[1;33m\u001b[0m\u001b[0m\n\u001b[0;32m     42\u001b[0m         raise ValueError('LAPACK reported an illegal value in {}-th argument'\n",
      "\u001b[1;31mLinAlgError\u001b[0m: 3-th leading minor of the array is not positive definite"
     ]
    }
   ],
   "source": [
    "spectral = cluster.SpectralClustering(n_clusters=true_k, random_state=0)\n",
    "spectral.fit(X_train, Y_train)"
   ]
  },
  {
   "cell_type": "code",
   "execution_count": null,
   "metadata": {
    "collapsed": true
   },
   "outputs": [],
   "source": [
    "ARI = metrics.adjusted_rand_score(Y_train, spectral.labels_)\n",
    "silhouette = metrics.silhouette_score(X_train, spectral.labels_)\n",
    "print(\"Adjusted Rand-Index: %.3f\" % ARI )\n",
    "print(\"Silhouette Coefficient: %0.3f\"\n",
    "      % silhouette)\n",
    "cluster_results.iloc[3] = [ARI, silhouette]"
   ]
  },
  {
   "cell_type": "code",
   "execution_count": null,
   "metadata": {
    "collapsed": true
   },
   "outputs": [],
   "source": [
    "cluster_results\n",
    "#LSTM for neural networks, gives context to make results more accurate"
   ]
  },
  {
   "cell_type": "markdown",
   "metadata": {},
   "source": [
    "# Initial model testing for BoW\n",
    "* Random Forest\n",
    "* Naive Bayes\n",
    "* Linear SVC\n",
    "* Logistic regression"
   ]
  },
  {
   "cell_type": "markdown",
   "metadata": {},
   "source": [
    "## Random Forest"
   ]
  },
  {
   "cell_type": "code",
   "execution_count": 69,
   "metadata": {
    "collapsed": true
   },
   "outputs": [],
   "source": [
    "X = np.array(bow_data.drop(['text_sentence', 'President', 2, 3, 4], 1))\n",
    "Y = bow_data[4]\n",
    "\n",
    "X_train, X_test, Y_train, Y_test = train_test_split(X, Y, test_size=.25, random_state=0, stratify=Y)"
   ]
  },
  {
   "cell_type": "code",
   "execution_count": 70,
   "metadata": {},
   "outputs": [
    {
     "name": "stdout",
     "output_type": "stream",
     "text": [
      "25% holdout score:  0.677419354839\n"
     ]
    }
   ],
   "source": [
    "from sklearn import ensemble\n",
    "rfc = ensemble.RandomForestClassifier(warm_start=True)\n",
    "\n",
    "rfc.fit(X_train, Y_train)\n",
    "\n",
    "print(\"25% holdout score: \", rfc.score(X_test, Y_test))"
   ]
  },
  {
   "cell_type": "code",
   "execution_count": 71,
   "metadata": {},
   "outputs": [
    {
     "name": "stdout",
     "output_type": "stream",
     "text": [
      "Cross validation score (avg):  0.647672727865 +- 0.0196380717811\n"
     ]
    }
   ],
   "source": [
    "rf_cross = cross_val_score(rfc, X, Y, cv=7)\n",
    "print(\"Cross validation score (avg): \", rf_cross.mean(), \"+-\", rf_cross.std())"
   ]
  },
  {
   "cell_type": "markdown",
   "metadata": {},
   "source": [
    "## Logistic Regression"
   ]
  },
  {
   "cell_type": "code",
   "execution_count": 72,
   "metadata": {},
   "outputs": [
    {
     "name": "stdout",
     "output_type": "stream",
     "text": [
      "25% holdout score:  0.698924731183\n"
     ]
    }
   ],
   "source": [
    "from sklearn.linear_model import LogisticRegression\n",
    "\n",
    "lr = LogisticRegression(C=10, solver='lbfgs', multi_class='multinomial', class_weight='balanced')\n",
    "lr.fit(X_train, Y_train)\n",
    "\n",
    "print(\"25% holdout score: \", lr.score(X_test, Y_test))"
   ]
  },
  {
   "cell_type": "code",
   "execution_count": 73,
   "metadata": {},
   "outputs": [
    {
     "name": "stdout",
     "output_type": "stream",
     "text": [
      "Cross validation score (avg):  0.628448477939 +- 0.0320757700867\n"
     ]
    }
   ],
   "source": [
    "lr_cross = cross_val_score(lr, X, Y, cv=7)\n",
    "print(\"Cross validation score (avg): \", lr_cross.mean(), \"+-\", lr_cross.std())\n"
   ]
  },
  {
   "cell_type": "code",
   "execution_count": 74,
   "metadata": {},
   "outputs": [
    {
     "data": {
      "text/html": [
       "<div>\n",
       "<style scoped>\n",
       "    .dataframe tbody tr th:only-of-type {\n",
       "        vertical-align: middle;\n",
       "    }\n",
       "\n",
       "    .dataframe tbody tr th {\n",
       "        vertical-align: top;\n",
       "    }\n",
       "\n",
       "    .dataframe thead th {\n",
       "        text-align: right;\n",
       "    }\n",
       "</style>\n",
       "<table border=\"1\" class=\"dataframe\">\n",
       "  <thead>\n",
       "    <tr style=\"text-align: right;\">\n",
       "      <th>col_0</th>\n",
       "      <th>Post Civil-War era</th>\n",
       "      <th>Post World Wars</th>\n",
       "      <th>Pre Civil-War era</th>\n",
       "    </tr>\n",
       "    <tr>\n",
       "      <th>4</th>\n",
       "      <th></th>\n",
       "      <th></th>\n",
       "      <th></th>\n",
       "    </tr>\n",
       "  </thead>\n",
       "  <tbody>\n",
       "    <tr>\n",
       "      <th>Post Civil-War era</th>\n",
       "      <td>53</td>\n",
       "      <td>60</td>\n",
       "      <td>16</td>\n",
       "    </tr>\n",
       "    <tr>\n",
       "      <th>Post World Wars</th>\n",
       "      <td>57</td>\n",
       "      <td>285</td>\n",
       "      <td>9</td>\n",
       "    </tr>\n",
       "    <tr>\n",
       "      <th>Pre Civil-War era</th>\n",
       "      <td>11</td>\n",
       "      <td>15</td>\n",
       "      <td>52</td>\n",
       "    </tr>\n",
       "  </tbody>\n",
       "</table>\n",
       "</div>"
      ],
      "text/plain": [
       "col_0               Post Civil-War era  Post World Wars  Pre Civil-War era\n",
       "4                                                                         \n",
       "Post Civil-War era                  53               60                 16\n",
       "Post World Wars                     57              285                  9\n",
       "Pre Civil-War era                   11               15                 52"
      ]
     },
     "execution_count": 74,
     "metadata": {},
     "output_type": "execute_result"
    }
   ],
   "source": [
    "pd.crosstab(Y_test, lr.predict(X_test))"
   ]
  },
  {
   "cell_type": "markdown",
   "metadata": {},
   "source": [
    "## Linear SVC"
   ]
  },
  {
   "cell_type": "code",
   "execution_count": 75,
   "metadata": {},
   "outputs": [
    {
     "name": "stdout",
     "output_type": "stream",
     "text": [
      "25% holdout score:  0.709677419355\n"
     ]
    }
   ],
   "source": [
    "from sklearn.svm import LinearSVC\n",
    "\n",
    "svc = LinearSVC(class_weight='balanced', random_state=16)\n",
    "\n",
    "svc.fit(X_train, Y_train)\n",
    "\n",
    "print(\"25% holdout score: \", svc.score(X_test, Y_test))"
   ]
  },
  {
   "cell_type": "code",
   "execution_count": 76,
   "metadata": {},
   "outputs": [
    {
     "name": "stdout",
     "output_type": "stream",
     "text": [
      "Cross validation score (avg):  0.653977448233 +- 0.0494386035738\n"
     ]
    }
   ],
   "source": [
    "svc_cross = cross_val_score(svc, X, Y, cv=7)\n",
    "print(\"Cross validation score (avg): \", svc_cross.mean(), \"+-\", svc_cross.std())"
   ]
  },
  {
   "cell_type": "code",
   "execution_count": 77,
   "metadata": {},
   "outputs": [
    {
     "data": {
      "text/html": [
       "<div>\n",
       "<style scoped>\n",
       "    .dataframe tbody tr th:only-of-type {\n",
       "        vertical-align: middle;\n",
       "    }\n",
       "\n",
       "    .dataframe tbody tr th {\n",
       "        vertical-align: top;\n",
       "    }\n",
       "\n",
       "    .dataframe thead th {\n",
       "        text-align: right;\n",
       "    }\n",
       "</style>\n",
       "<table border=\"1\" class=\"dataframe\">\n",
       "  <thead>\n",
       "    <tr style=\"text-align: right;\">\n",
       "      <th>col_0</th>\n",
       "      <th>Post Civil-War era</th>\n",
       "      <th>Post World Wars</th>\n",
       "      <th>Pre Civil-War era</th>\n",
       "    </tr>\n",
       "    <tr>\n",
       "      <th>4</th>\n",
       "      <th></th>\n",
       "      <th></th>\n",
       "      <th></th>\n",
       "    </tr>\n",
       "  </thead>\n",
       "  <tbody>\n",
       "    <tr>\n",
       "      <th>Post Civil-War era</th>\n",
       "      <td>60</td>\n",
       "      <td>54</td>\n",
       "      <td>15</td>\n",
       "    </tr>\n",
       "    <tr>\n",
       "      <th>Post World Wars</th>\n",
       "      <td>45</td>\n",
       "      <td>288</td>\n",
       "      <td>18</td>\n",
       "    </tr>\n",
       "    <tr>\n",
       "      <th>Pre Civil-War era</th>\n",
       "      <td>4</td>\n",
       "      <td>26</td>\n",
       "      <td>48</td>\n",
       "    </tr>\n",
       "  </tbody>\n",
       "</table>\n",
       "</div>"
      ],
      "text/plain": [
       "col_0               Post Civil-War era  Post World Wars  Pre Civil-War era\n",
       "4                                                                         \n",
       "Post Civil-War era                  60               54                 15\n",
       "Post World Wars                     45              288                 18\n",
       "Pre Civil-War era                    4               26                 48"
      ]
     },
     "execution_count": 77,
     "metadata": {},
     "output_type": "execute_result"
    }
   ],
   "source": [
    "pd.crosstab(Y_test, svc.predict(X_test))"
   ]
  },
  {
   "cell_type": "markdown",
   "metadata": {},
   "source": [
    "## Naive Bayes"
   ]
  },
  {
   "cell_type": "code",
   "execution_count": 78,
   "metadata": {},
   "outputs": [
    {
     "name": "stdout",
     "output_type": "stream",
     "text": [
      "25% holdout score:  0.758064516129\n"
     ]
    }
   ],
   "source": [
    "from sklearn import naive_bayes\n",
    "\n",
    "naive = naive_bayes.MultinomialNB(alpha=.58)\n",
    "\n",
    "naive.fit(X_train, Y_train)\n",
    "\n",
    "print(\"25% holdout score: \", naive.score(X_test, Y_test))"
   ]
  },
  {
   "cell_type": "code",
   "execution_count": 79,
   "metadata": {
    "scrolled": true
   },
   "outputs": [
    {
     "name": "stdout",
     "output_type": "stream",
     "text": [
      "Cross validation score (avg):  0.710395595152 +- 0.0418993419047\n"
     ]
    },
    {
     "data": {
      "text/plain": [
       "array([ 0.671875  ,  0.70219436,  0.73981191,  0.76489028,  0.76175549,\n",
       "        0.67924528,  0.65299685])"
      ]
     },
     "execution_count": 79,
     "metadata": {},
     "output_type": "execute_result"
    }
   ],
   "source": [
    "nb_cross = cross_val_score(naive, X, Y, cv=7)\n",
    "print(\"Cross validation score (avg): \", nb_cross.mean(), \"+-\", nb_cross.std())\n",
    "nb_cross"
   ]
  },
  {
   "cell_type": "code",
   "execution_count": 80,
   "metadata": {},
   "outputs": [
    {
     "data": {
      "text/html": [
       "<div>\n",
       "<style scoped>\n",
       "    .dataframe tbody tr th:only-of-type {\n",
       "        vertical-align: middle;\n",
       "    }\n",
       "\n",
       "    .dataframe tbody tr th {\n",
       "        vertical-align: top;\n",
       "    }\n",
       "\n",
       "    .dataframe thead th {\n",
       "        text-align: right;\n",
       "    }\n",
       "</style>\n",
       "<table border=\"1\" class=\"dataframe\">\n",
       "  <thead>\n",
       "    <tr style=\"text-align: right;\">\n",
       "      <th>col_0</th>\n",
       "      <th>Post Civil-War era</th>\n",
       "      <th>Post World Wars</th>\n",
       "      <th>Pre Civil-War era</th>\n",
       "    </tr>\n",
       "    <tr>\n",
       "      <th>4</th>\n",
       "      <th></th>\n",
       "      <th></th>\n",
       "      <th></th>\n",
       "    </tr>\n",
       "  </thead>\n",
       "  <tbody>\n",
       "    <tr>\n",
       "      <th>Post Civil-War era</th>\n",
       "      <td>47</td>\n",
       "      <td>66</td>\n",
       "      <td>16</td>\n",
       "    </tr>\n",
       "    <tr>\n",
       "      <th>Post World Wars</th>\n",
       "      <td>23</td>\n",
       "      <td>320</td>\n",
       "      <td>8</td>\n",
       "    </tr>\n",
       "    <tr>\n",
       "      <th>Pre Civil-War era</th>\n",
       "      <td>9</td>\n",
       "      <td>13</td>\n",
       "      <td>56</td>\n",
       "    </tr>\n",
       "  </tbody>\n",
       "</table>\n",
       "</div>"
      ],
      "text/plain": [
       "col_0               Post Civil-War era  Post World Wars  Pre Civil-War era\n",
       "4                                                                         \n",
       "Post Civil-War era                  47               66                 16\n",
       "Post World Wars                     23              320                  8\n",
       "Pre Civil-War era                    9               13                 56"
      ]
     },
     "execution_count": 80,
     "metadata": {},
     "output_type": "execute_result"
    }
   ],
   "source": [
    "pd.crosstab(Y_test, naive.predict(X_test))"
   ]
  },
  {
   "cell_type": "markdown",
   "metadata": {},
   "source": [
    "# Evaluating BoW approach\n",
    "\n",
    "* The Naive Bayes classifier performs the best in both the test set and the cross validation, making it the most consistent classifier. \n",
    "* Linear SVC and Logistic Regression also good choice\n",
    "* SVC better for when the sample and feature spase starts to get really large\n",
    "* Random forest performs efficiently and is very lenient on input\n",
    "* Post Civil war era and Post World Wars era seem to have the most overlap"
   ]
  },
  {
   "cell_type": "markdown",
   "metadata": {},
   "source": [
    "# Testing tf-idf model\n",
    "## Random Forest"
   ]
  },
  {
   "cell_type": "code",
   "execution_count": 81,
   "metadata": {
    "collapsed": true
   },
   "outputs": [],
   "source": [
    "X = np.array(tf_component.drop([0, 1, 2, 3, 4], 1))\n",
    "Y = tf_component[4] #time period\n",
    "\n",
    "X_train, X_test, Y_train, Y_test = train_test_split(X, Y, test_size=.25, random_state=0, stratify=Y)"
   ]
  },
  {
   "cell_type": "code",
   "execution_count": 82,
   "metadata": {},
   "outputs": [
    {
     "name": "stdout",
     "output_type": "stream",
     "text": [
      "25% holdout score:  0.648745519713\n"
     ]
    }
   ],
   "source": [
    "rfc = ensemble.RandomForestClassifier()\n",
    "rfc.fit(X_train, Y_train)\n",
    "\n",
    "print(\"25% holdout score: \", rfc.score(X_test, Y_test))"
   ]
  },
  {
   "cell_type": "code",
   "execution_count": 83,
   "metadata": {},
   "outputs": [
    {
     "name": "stdout",
     "output_type": "stream",
     "text": [
      "Cross validation score (avg):  0.631104454945 +- 0.0199848443538\n"
     ]
    }
   ],
   "source": [
    "rf_cross = cross_val_score(rfc, X, Y, cv=7)\n",
    "print(\"Cross validation score (avg): \", rf_cross.mean(), \"+-\", rf_cross.std())"
   ]
  },
  {
   "cell_type": "markdown",
   "metadata": {},
   "source": [
    "## Logistic Regression"
   ]
  },
  {
   "cell_type": "code",
   "execution_count": 84,
   "metadata": {},
   "outputs": [
    {
     "name": "stdout",
     "output_type": "stream",
     "text": [
      "25% holdout score:  0.722222222222\n"
     ]
    }
   ],
   "source": [
    "lr = LogisticRegression(C=10, solver='lbfgs', multi_class='multinomial', class_weight='balanced')\n",
    "lr.fit(X_train, Y_train)\n",
    "\n",
    "print(\"25% holdout score: \", lr.score(X_test, Y_test))"
   ]
  },
  {
   "cell_type": "code",
   "execution_count": 85,
   "metadata": {},
   "outputs": [
    {
     "name": "stdout",
     "output_type": "stream",
     "text": [
      "Cross validation score (avg):  0.656622132553 +- 0.0468481452963\n"
     ]
    }
   ],
   "source": [
    "lr_cross = cross_val_score(lr, X, Y, cv=7)\n",
    "print(\"Cross validation score (avg): \", lr_cross.mean(), \"+-\", lr_cross.std())"
   ]
  },
  {
   "cell_type": "markdown",
   "metadata": {},
   "source": [
    "## Naive Bayes"
   ]
  },
  {
   "cell_type": "code",
   "execution_count": 86,
   "metadata": {},
   "outputs": [
    {
     "name": "stdout",
     "output_type": "stream",
     "text": [
      "25% holdout score:  0.629032258065\n"
     ]
    }
   ],
   "source": [
    "naive = naive_bayes.MultinomialNB()\n",
    "\n",
    "naive.fit(X_train, Y_train)\n",
    "\n",
    "print(\"25% holdout score: \", naive.score(X_test, Y_test))"
   ]
  },
  {
   "cell_type": "code",
   "execution_count": 87,
   "metadata": {},
   "outputs": [
    {
     "name": "stdout",
     "output_type": "stream",
     "text": [
      "Cross validation score (avg):  0.627521865796 +- 0.000724263266744\n"
     ]
    }
   ],
   "source": [
    "nb_cross = cross_val_score(naive, X, Y, cv=7)\n",
    "print(\"Cross validation score (avg): \", nb_cross.mean(), \"+-\", nb_cross.std())"
   ]
  },
  {
   "cell_type": "markdown",
   "metadata": {},
   "source": [
    "## Linear SVC"
   ]
  },
  {
   "cell_type": "code",
   "execution_count": 88,
   "metadata": {},
   "outputs": [
    {
     "data": {
      "text/plain": [
       "(2231, 2699)"
      ]
     },
     "execution_count": 88,
     "metadata": {},
     "output_type": "execute_result"
    }
   ],
   "source": [
    "tf_component.shape"
   ]
  },
  {
   "cell_type": "code",
   "execution_count": 89,
   "metadata": {},
   "outputs": [
    {
     "name": "stdout",
     "output_type": "stream",
     "text": [
      "25% holdout score:  0.716845878136\n"
     ]
    }
   ],
   "source": [
    "svc = LinearSVC(class_weight='balanced', random_state=16)\n",
    "\n",
    "svc.fit(X_train, Y_train)\n",
    "\n",
    "print(\"25% holdout score: \", svc.score(X_test, Y_test))"
   ]
  },
  {
   "cell_type": "code",
   "execution_count": 90,
   "metadata": {},
   "outputs": [
    {
     "name": "stdout",
     "output_type": "stream",
     "text": [
      "Cross validation score (avg):  0.649863942626 +- 0.0571029687749\n"
     ]
    }
   ],
   "source": [
    "svc_cross = cross_val_score(svc, X, Y, cv=7)\n",
    "print(\"Cross validation score (avg): \", svc_cross.mean(), \"+-\", svc_cross.std())"
   ]
  },
  {
   "cell_type": "markdown",
   "metadata": {},
   "source": [
    "# tf_idf evaluation\n",
    "\n",
    "* The Linear SVC performs the best with tf_idf data\n",
    "* Previous additions of grammar did not significantly increase gains in accuracy, given how stylystically dense the inaugural \n",
    "  speeches are\n",
    "* Still not as performant as BoW, but it's very close"
   ]
  },
  {
   "cell_type": "markdown",
   "metadata": {},
   "source": [
    "# calculating similarity between sentences\n",
    "* First convert sentences to a dense format using LSA so we capture related ideas together\n",
    "* use tf_idf scores to further calculate similarity between documents (sentences)"
   ]
  },
  {
   "cell_type": "markdown",
   "metadata": {},
   "source": [
    "## Latent Semantic Analysis"
   ]
  },
  {
   "cell_type": "code",
   "execution_count": 107,
   "metadata": {},
   "outputs": [
    {
     "name": "stdout",
     "output_type": "stream",
     "text": [
      "Percent variance captured by all components: 54.766784397\n"
     ]
    }
   ],
   "source": [
    "from sklearn.pipeline import make_pipeline\n",
    "from sklearn.preprocessing import Normalizer\n",
    "from sklearn.decomposition import TruncatedSVD\n",
    "\n",
    "X_train, X_test, Y_train, Y_test = train_test_split(pres_df[0].astype(str), bow_data[4], test_size=0.25, random_state=0)\n",
    "svd= TruncatedSVD(350)\n",
    "lsa = make_pipeline(svd, Normalizer(copy=False))\n",
    "\n",
    "lsa_data = lsa.fit_transform(pres_tf_idf)\n",
    "X_train_lsa, X_test_lsa = train_test_split(lsa_data, test_size=.25, random_state=0)\n",
    "\n",
    "\n",
    "variance_explained=svd.explained_variance_ratio_\n",
    "total_variance = variance_explained.sum()\n",
    "print(\"Percent variance captured by all components:\",total_variance*100)"
   ]
  },
  {
   "cell_type": "code",
   "execution_count": 108,
   "metadata": {
    "collapsed": true
   },
   "outputs": [],
   "source": [
    "X_train, X_test = train_test_split(pres_df[0].astype(str), test_size=.25, random_state=0)\n",
    "\n",
    "LSA_X_train = pd.DataFrame(X_train_lsa, index=X_train)"
   ]
  },
  {
   "cell_type": "code",
   "execution_count": 109,
   "metadata": {},
   "outputs": [
    {
     "data": {
      "text/plain": [
       "KMeans(algorithm='auto', copy_x=True, init='k-means++', max_iter=100,\n",
       "    n_clusters=3, n_init=10, n_jobs=1, precompute_distances='auto',\n",
       "    random_state=None, tol=0.0001, verbose=0)"
      ]
     },
     "execution_count": 109,
     "metadata": {},
     "output_type": "execute_result"
    }
   ],
   "source": [
    "k_means = cluster.KMeans(n_clusters=3, init='k-means++', max_iter=100)\n",
    "k_means.fit(X_train_lsa)"
   ]
  },
  {
   "cell_type": "code",
   "execution_count": 110,
   "metadata": {},
   "outputs": [
    {
     "name": "stdout",
     "output_type": "stream",
     "text": [
      "Adjusted Rand-Index (Test set): -0.030\n",
      "Silhouette Coefficient (Test set): 0.008\n"
     ]
    }
   ],
   "source": [
    "#Test statistics evaluation\n",
    "print(\"Adjusted Rand-Index (Test set): %.3f\"\n",
    "      % metrics.adjusted_rand_score(Y_test, k_means.predict(X_test_lsa)))\n",
    "print(\"Silhouette Coefficient (Test set): %0.3f\"\n",
    "      % metrics.silhouette_score(X_test_lsa, k_means.predict(X_test_lsa)))"
   ]
  },
  {
   "cell_type": "code",
   "execution_count": 111,
   "metadata": {},
   "outputs": [
    {
     "name": "stdout",
     "output_type": "stream",
     "text": [
      "Cluster 0:\n",
      "0\n",
      "America stands alone as the world's indispensable nation.                                                                                                              0.462445\n",
      "In America¡                                                                                                                                                            0.439277\n",
      "America¡                                                                                                                                                               0.439277\n",
      "In America¡                                                                                                                                                            0.439277\n",
      "America¡                                                                                                                                                               0.439277\n",
      "America!                                                                                                                                                               0.439277\n",
      "America¡                                                                                                                                                               0.439277\n",
      "But if the spirit of America were killed, even though the Nation's body and mind, constricted in an alien world, lived on, the America we know would have perished.    0.433279\n",
      "My fellow citizens of the world: ask not what America will do for you, but what together we can do for the freedom of man.                                             0.432740\n",
      "For this we muster the spirit of America, and the faith of America.                                                                                                    0.398180\n",
      "Name: 0, dtype: float64\n",
      "Cluster 1:\n",
      "0\n",
      "In America¡                                                                                0.845450\n",
      "America¡                                                                                   0.845450\n",
      "America¡                                                                                   0.845450\n",
      "America¡                                                                                   0.845450\n",
      "America!                                                                                   0.845450\n",
      "In America¡                                                                                0.845450\n",
      "For this we muster the spirit of America, and the faith of America.                        0.643692\n",
      "There is nothing wrong with America that cannot be cured by what is right with America.    0.597424\n",
      "I know America.                                                                            0.593917\n",
      "America, at its best, is compassionate.                                                    0.586945\n",
      "Name: 1, dtype: float64\n",
      "Cluster 2:\n",
      "0\n",
      "Across the world, we see them embraced and we rejoice.                                                                                                                                                                                                                                       0.609029\n",
      "The best hope for peace in our world is the expansion of freedom in all the world.                                                                                                                                                                                                           0.542966\n",
      "Is a new world coming?                                                                                                                                                                                                                                                                       0.524576\n",
      "Is our world gone?                                                                                                                                                                                                                                                                           0.506244\n",
      "This is our home yet this is not the whole of our world.                                                                                                                                                                                                                                     0.412156\n",
      "By continuing to revitalize our traditional friendships, and by our missions to Peking and to Moscow, we were able to establish the base for a new and more durable pattern of relationships among the nations of the world.                                                                 0.409072\n",
      "And the world's greatest democracy will lead a whole world of democracies.                                                                                                                                                                                                                   0.395789\n",
      "Now the sights and sounds of this ceremony are broadcast instantaneously tobillions around the world.                                                                                                                                                                                        0.394619\n",
      "We are being forged into a new unity amidst the fires that now blaze throughout the world.                                                                                                                                                                                                   0.388111\n",
      "Let us be proud that by our bold, new initiatives, and by our steadfastness for peace with honor, we have made a break through toward creating in the world what the world has not known before a structure of peace that can last, not merely for our time, but for generations to come.    0.379258\n",
      "Name: 2, dtype: float64\n",
      "Cluster 3:\n",
      "0\n",
      "Fellow Citizens:                                                                                                                                                                                                                                                                                                                                                             0.615536\n",
      "I repair, then, fellow citizens, to the post you have assigned me.                                                                                                                                                                                                                                                                                                           0.545838\n",
      "Fellow Citizens of the United States:                                                                                                                                                                                                                                                                                                                                        0.540964\n",
      "Beyond that, my fellow citizens, the future is up to us.                                                                                                                                                                                                                                                                                                                     0.522081\n",
      "Vice President Biden, Mr. Chief Justice, Members of the United States Congress, distinguished guests, and fellow citizens:                                                                                                                                                                                                                                                   0.431201\n",
      "Fellow citizens, I am again called upon by the voice of my country to execute the functions of its Chief Magistrate.                                                                                                                                                                                                                                                         0.427205\n",
      "I ask you to be citizens: citizens, not spectators; citizens, not subjects; responsible citizens, building communities of service and a nation of character.                                                                                                                                                                                                                 0.423526\n",
      "In giving these outlines I do not mean, fellow citizens, to arrogate to myself the merit of the measures.                                                                                                                                                                                                                                                                    0.416978\n",
      "President Clinton, distinguished guests and my fellow citizens, the peaceful transfer of authority is rare in history, yet common in our country.                                                                                                                                                                                                                            0.401158\n",
      "Proceeding, fellow citizens, to that qualification which the Constitution requires before my entrance on the charge again conferred on me, it is my duty to express the deep sense I entertain of this new proof of confidence from my fellow citizens at large, and the zeal with which it inspires me so to conduct myself as may best satisfy their just expectations.    0.390757\n"
     ]
    },
    {
     "name": "stdout",
     "output_type": "stream",
     "text": [
      "Name: 3, dtype: float64\n",
      "Cluster 4:\n",
      "0\n",
      "As we explore the reaches of space, let us go to the new worlds together not as new worlds to be conquered, but as a new adventure to be shared.                                                                                                                     0.528086\n",
      "We have been refreshed by a new insight into our own life.                                                                                                                                                                                                           0.527793\n",
      "With a new vision of government, a new sense of responsibility, a new spirit of community, we will sustain America's journey.                                                                                                                                        0.504146\n",
      "And we need a new sense of responsibility for a new century.                                                                                                                                                                                                         0.448396\n",
      "We will confront weapons of mass destruction, so that a new century is spared new horrors.                                                                                                                                                                           0.445434\n",
      "For us, they packed up their few worldly possessions and traveled across oceans in search of a new life.                                                                                                                                                             0.426829\n",
      "America has been the New World in all tongues, to all peoples, not because this continent was a new found land, but because all those who came here believed they could create upon this continent a new life a life that should be new in freedom.                  0.425875\n",
      "It is our great good fortune that time and chance have put us not only at the edge of a new century, in a new millennium, but on the edge of a bright new prospect in human affairs a moment that will define our course, and our character, for decades to come.    0.391822\n",
      "Our challenges may be new.                                                                                                                                                                                                                                           0.389985\n",
      "The instruments with which we meet them may be new.                                                                                                                                                                                                                  0.362844\n",
      "Name: 4, dtype: float64\n",
      "Cluster 5:\n",
      "0\n",
      "The Government will not assail you.                                                                                                                                                                                                                                                                                                                                                                              0.566255\n",
      "For its part, government will listen.                                                                                                                                                                                                                                                                                                                                                                            0.457392\n",
      "Can he, then, be trusted with the government of others?                                                                                                                                                                                                                                                                                                                                                          0.453221\n",
      "But we are approaching the limits of what government alone can do.                                                                                                                                                                                                                                                                                                                                               0.447414\n",
      "We asked things of government that government was not equipped to give.                                                                                                                                                                                                                                                                                                                                          0.396136\n",
      "Today we can declare: Government is not the problem, and government is not the solution.                                                                                                                                                                                                                                                                                                                         0.376843\n",
      "Fellow Citizens:                                                                                                                                                                                                                                                                                                                                                                                                 0.366411\n",
      "America will not impose our own style of government on the unwilling.                                                                                                                                                                                                                                                                                                                                            0.355729\n",
      "Fellow Citizens of the United States:                                                                                                                                                                                                                                                                                                                                                                            0.345097\n",
      "I know, indeed, that some honest men fear that a republican government can not be strong, that this Government is not strong enough; but would the honest patriot, in the full tide of successful experiment, abandon a government which has so far kept us free and firm on the theoretic and visionary fear that this Government, the world's best hope, may by possibility want energy to preserve itself?    0.338285\n",
      "Name: 5, dtype: float64\n",
      "Cluster 6:\n",
      "0\n",
      "We shall overcome them.                                                                                                                                      0.495826\n",
      "But I shall not attempt to review it.                                                                                                                        0.456887\n",
      "We shall do our share in defending peace and freedom in the world.                                                                                           0.437833\n",
      "Freedom                                                                                                                                                      0.416760\n",
      "If we keep its terms, we shall flourish.                                                                                                                     0.368206\n",
      "We shall remain free, never to be proven guilty of the one capital offense against freedom, a lack of stanch faith.                                          0.349473\n",
      "Assessing realistically the needs and capacities of proven friends of freedom, we shall strive to help them to achieve their own security and well being.    0.342131\n",
      "We shall strive for perfection.                                                                                                                              0.342068\n",
      "The central question before us is: How shall we use that peace?                                                                                              0.334715\n",
      "And should anyone in any case be content that his oath shall go unkept on a merely unsubstantial controversy as to how it shall be kept?                     0.331686\n"
     ]
    },
    {
     "name": "stdout",
     "output_type": "stream",
     "text": [
      "Name: 6, dtype: float64\n",
      "Cluster 7:\n",
      "0\n",
      "Freedom                                                                                                                                                                                  0.522223\n",
      "¦s ideal of freedom                                                                                                                                                                      0.383660\n",
      "¦s ideal of freedom                                                                                                                                                                      0.383660\n",
      "America must remain freedom's staunchest friend, for freedom is our best ally.                                                                                                           0.377345\n",
      "Human freedom is on the march, and nowhere more so than our own hemisphere.                                                                                                              0.352145\n",
      "We do not believe that in this country, freedom is reserved for the lucky, or happiness for the few.                                                                                     0.345798\n",
      "The freedom of elections is wholly maintained.                                                                                                                                           0.341134\n",
      "And our country must abandon all the habits of racism, because we cannot carry the message of freedom and the baggage of bigotry at the same time.                                       0.334942\n",
      "Some, I know, have questioned the global appeal of liberty¡Xthough this time in history, four decades defined by the swiftest advance of freedom ever seen, is an odd time for doubt.    0.310396\n",
      "For history does not long entrust the care of freedom to the weak or the timid.                                                                                                          0.310223\n",
      "Name: 7, dtype: float64\n",
      "Cluster 8:\n",
      "0\n",
      "We are creating a nation once again vibrant, robust, and alive.                                       0.500850\n",
      "We are a nation that has a government not the other way around.                                       0.468334\n",
      "Yet compassion is the work of a nation, not just a government.                                        0.392510\n",
      "We are a nation of Christians and Muslims, Jews and Hindus and non believers.                         0.368090\n",
      "America stands alone as the world's indispensable nation.                                             0.344692\n",
      "In our nation work and wealth abound.                                                                 0.327237\n",
      "This great Nation will endure as it has endured, will revive and will prosper.                        0.294027\n",
      "Now it is the urgent requirement of our nation¡¦s security, and the calling of our time.              0.292212\n",
      "And though our nation has sometimes halted, and sometimes delayed, we must follow no other course.    0.287724\n",
      "It is time for us to realize that we are too great a nation to limit ourselves to small dreams.       0.285560\n",
      "Name: 8, dtype: float64\n",
      "Cluster 9:\n",
      "0\n",
      "This is not the time for retrospect.                                                                                              0.583892\n",
      "Now, for the third time, a new century is upon us, and another time to choose.                                                    0.431841\n",
      "In our time it means something still.                                                                                             0.412546\n",
      "We shall overcome them.                                                                                                           0.366457\n",
      "So much is changing and will change, but so much endures, and transcends time.                                                    0.361442\n",
      "But our time of standing pat, of protecting narrow interests and putting off unpleasant decisions that time has surely passed.    0.358616\n",
      "But I shall not attempt to review it.                                                                                             0.339206\n",
      "Well, my fellow Americans, this is our time.                                                                                      0.336322\n",
      "And each of us, in the span of time, has really only a moment among our companions.                                               0.334439\n",
      "And for them and so for us this is no time of ease or of rest.                                                                    0.330553\n",
      "Name: 9, dtype: float64\n"
     ]
    }
   ],
   "source": [
    "for i in range(10):\n",
    "    print('Cluster {}:'.format(i))\n",
    "    print(LSA_X_train.loc[:,i].sort_values(ascending=False)[0:10])"
   ]
  },
  {
   "cell_type": "markdown",
   "metadata": {},
   "source": [
    "make a cosine similarity score for clusters \n",
    "affinity propagation"
   ]
  },
  {
   "cell_type": "code",
   "execution_count": 112,
   "metadata": {},
   "outputs": [
    {
     "data": {
      "image/png": "[encoded data removed]",
      "text/plain": [
       "<matplotlib.figure.Figure at 0x2b951fdeba8>"
      ]
     },
     "metadata": {},
     "output_type": "display_data"
    },
    {
     "name": "stdout",
     "output_type": "stream",
     "text": [
      "Key:\n",
      "0 We remain the most prosperous, powerful nation on Earth.\n",
      "1 Yet his purpose is achieved in our duty, and our duty is fulfilled in service to one another.\n",
      "2 We are provincials no longer.\n",
      "3 With which should we be most likely to live in harmony and friendly intercourse?\n",
      "4 As we measure what can be done, we shall promise only what we know we can produce, but as we chart our goals we shall be lifted by our dreams.\n",
      "5 Today we reconsecrate our country to long cherished ideals in a suddenly changed civilization.\n",
      "6 A dynamic economy, with more citizens working and paying taxes, will be our strongest tool to bring down budget deficits.\n",
      "7 All this will not be finished in the first 100 days.\n",
      "8 But let us begin.\n",
      "9 My fellow Americans, as we look back at this remarkable century, we may ask, can we hope not just to follow, but even to surpass the achievements of the 20th century in America and to avoid the awful bloodshed that stained its legacy?\n",
      "10 To the people of poor nations, we pledge to work alongside you to make your farms flourish and let clean waters flow; to nourish starved bodies and feed hungry minds.\n",
      "11 All, too, will bear in mind this sacred principle, that though the will of the majority is in all cases to prevail, that will to be rightful must be reasonable; that the minority possess their equal rights, which equal law must protect, and to violate would be oppression.\n",
      "12 Since this country was founded, each generation of Americans has been summoned to give testimony to its national loyalty.\n",
      "13 And once again, we have resolved for our time a great debate over the role of government.\n",
      "14 And the world's greatest democracy will lead a whole world of democracies.\n",
      "15 We have learned the simple truth, as Emerson said, that \"The only way to have a friend is to be one.\n",
      "16 We will encourage reform in other governments by making clear that success in our relations will require the decent treatment of their own people.\n",
      "17 Let us continue to bring down the walls of hostility which have divided the world for too long, and to build in their place bridges of understanding so that despite profound differences between systems of government, the people of the world can be friends.\n",
      "18 It speaks to us in our counties, in our cities, in our towns, and in our villages.\n",
      "19 It is a duty from which they may not shrink to decide cases properly brought before them, and it is no fault of theirs if others seek to turn their decisions to political purposes.\n",
      "20 Let history say of us, \"These were golden years when the American Revolution was reborn, when freedom gained new life, when America reached for her best.\"\n",
      "21 The power confided to me will be used to hold, occupy, and possess the property and places belonging to the Government and to collect the duties and imposts; but beyond what may be necessary for these objects, there will be no invasion, no using of force against or among the people anywhere.\n",
      "22 Our pledge to these principles is constant, because we believe in their rightness.\n",
      "23 We must keep our old democracy forever young.\n",
      "24 The words have been spoken during rising tides of prosperity and the still waters of peace.\n",
      "25 Though our challenges are fearsome, so are our strengths.\n",
      "26 But our time of standing pat, of protecting narrow interests and putting off unpleasant decisions that time has surely passed.\n",
      "27 To paraphrase Winston Churchill, I did not take the oath I have just taken with the intention of presiding over the dissolution of the world's strongest economy.\n",
      "28 And so, my fellow Americans, we must be strong, for there is much to dare.\n",
      "29 As we do, we must not repeat the well intentioned errors of our past.\n",
      "30 So we are persuaded by necessity and by belief that the strength of all free peoples lies in unity; their danger, in discord.\n",
      "31 Thirty four years ago, the man whose life we celebrate today spoke to us down there, at the other end of this Mall, in words that moved the conscience of a nation.\n",
      "32 How little has been the effect of this example on the conduct of the enemy!\n",
      "33 It has now been completed.\n",
      "34 Our greatest primary task is to put people to work.\n",
      "35 Every citizen must uphold them.\n",
      "36 It is my intention to curb the size and influence of the Federal establishment and to demand recognition of the distinction between the powers granted to the Federal Government and those reserved to the States or to the people.\n",
      "37 Everywhere we see the seeds of the same growth that America itself has known.\n",
      "38 I am grateful for the honor of this hour, mindful of the consequential times in which we live, and determined to fulfill the oath that I have sworn and you have witnessed.\n",
      "39 We must do what America does best, offer more opportunity to all and demand more responsibility from all.\n",
      "40 Still one thing more, fellow citizens a wise and frugal Government, which shall restrain men from injuring one another, shall leave them otherwise free to regulate their own pursuits of industry and improvement, and shall not take from the mouth of labor the bread it has earned.\n",
      "41 In America¡\n",
      "42 My fellow Americans, the oath I have sworn before you today, like the one recited by others who serve in this Capitol, was an oath to God and country, not party or faction – and we must faithfully execute that pledge during the duration of our service.\n",
      "43 And yet all the while we have been conscious that we were not part of it.\n",
      "44 In a land rich in harvest, children just must not go hungry.\n",
      "45 We desire neither conquest nor advantage.\n",
      "46 Though passion may have strained it must not break our bonds of affection.\n",
      "47 ¦s ideal of freedom\n",
      "48 Vice President Biden, Mr. Chief Justice, Members of the United States Congress, distinguished guests, and fellow citizens:\n",
      "49 It is a test of our courage of our resolve of our wisdom our essential democracy.\n"
     ]
    }
   ],
   "source": [
    "# Compute document similarity using LSA components\n",
    "similarity = np.asarray(np.asmatrix(X_train_lsa) * np.asmatrix(X_train_lsa).T)\n",
    "#Only taking the first 10 sentences\n",
    "sim_matrix=pd.DataFrame(similarity,index=X_train).iloc[0:50,0:50]\n",
    "#Making a plot\n",
    "plt.figure(figsize=(18,14))\n",
    "ax = sns.heatmap(sim_matrix,yticklabels=range(50))\n",
    "plt.show()\n",
    "\n",
    "#Generating a key for the plot.\n",
    "print('Key:')\n",
    "for i in range(50):\n",
    "    print(i,sim_matrix.index[i])"
   ]
  },
  {
   "cell_type": "markdown",
   "metadata": {},
   "source": [
    "## What patterns have we learned from LSA\n",
    "\n",
    "Inaugural speeches tend to have a pattern to them, as seen by the most common words of each president as well as the results from LSA. We see that some common themes are repeated by the presidents across the ages. Inaugural speeches includes concepts mentioning the government and its relationsip with the people, describing the people of the United States, refereeing to the audience as 'us', describing the Nation as strong/peaceful/diverse, engaging in the 'we shall' speech, and mentioning the Constitution. These ideas and variations of them are onstantly repeated by the presidents as a way to capture the masses and cast a wide net to please as many people as possible. There is also a large focus on the goverment preserving the nation, fostering peace, and making sure that the people of the US are understood. "
   ]
  },
  {
   "cell_type": "markdown",
   "metadata": {},
   "source": [
    "## How similar are the presidential speeches to each other"
   ]
  },
  {
   "cell_type": "code",
   "execution_count": 113,
   "metadata": {
    "collapsed": true
   },
   "outputs": [],
   "source": [
    "speech_tfidf = vectorizer.fit_transform(similarity_df['Speech'].astype(str))\n",
    "\n",
    "speech_df = pd.DataFrame(speech_tfidf.toarray(), columns=vectorizer.get_feature_names(), index=similarity_df.index)"
   ]
  },
  {
   "cell_type": "code",
   "execution_count": 114,
   "metadata": {
    "collapsed": true
   },
   "outputs": [],
   "source": [
    "speech_similarity = pd.concat([speech_df, similarity_df], 1)\n",
    "\n",
    "\n",
    "lsa_data_speech = lsa.fit_transform(speech_tfidf)"
   ]
  },
  {
   "cell_type": "code",
   "execution_count": 115,
   "metadata": {},
   "outputs": [
    {
     "data": {
      "image/png": "[encoded data removed]",
      "text/plain": [
       "<matplotlib.figure.Figure at 0x2b9007b5e10>"
      ]
     },
     "metadata": {},
     "output_type": "display_data"
    }
   ],
   "source": [
    "# Compute document similarity using LSA components\n",
    "similarity = np.asarray(np.asmatrix(lsa_data_speech) * np.asmatrix(lsa_data_speech).T)\n",
    "\n",
    "sim_matrix=pd.DataFrame(similarity,index=speech_df)\n",
    "#Making a plot\n",
    "plt.figure(figsize=(18,14))\n",
    "ax = sns.heatmap(sim_matrix,yticklabels=speech_df.index, xticklabels=speech_df.index)\n",
    "plt.title(\"Similarity Between Presidential Inaugural Speeches\")\n",
    "plt.show()\n",
    "\n",
    "#try to cluster and predict time period"
   ]
  },
  {
   "cell_type": "markdown",
   "metadata": {},
   "source": [
    "# Testing LSA model\n",
    "## Random Forest"
   ]
  },
  {
   "cell_type": "code",
   "execution_count": 116,
   "metadata": {
    "collapsed": true
   },
   "outputs": [],
   "source": [
    "Y = tf_component[4] #time period\n",
    "\n",
    "Y_train, Y_test = train_test_split(Y, test_size=.25, random_state=0, stratify=Y)"
   ]
  },
  {
   "cell_type": "code",
   "execution_count": 117,
   "metadata": {},
   "outputs": [
    {
     "name": "stdout",
     "output_type": "stream",
     "text": [
      "25% holdout score:  0.575268817204\n"
     ]
    }
   ],
   "source": [
    "rfc = ensemble.RandomForestClassifier()\n",
    "rfc.fit(X_train_lsa, Y_train)\n",
    "\n",
    "print(\"25% holdout score: \", rfc.score(X_test_lsa, Y_test))"
   ]
  },
  {
   "cell_type": "code",
   "execution_count": 118,
   "metadata": {},
   "outputs": [
    {
     "name": "stdout",
     "output_type": "stream",
     "text": [
      "Cross validation score (avg):  0.597890205626 +- 0.0322543096684\n"
     ]
    }
   ],
   "source": [
    "rf_cross = cross_val_score(rfc, lsa_data, Y, cv=7)\n",
    "print(\"Cross validation score (avg): \", rf_cross.mean(), \"+-\", rf_cross.std())"
   ]
  },
  {
   "cell_type": "markdown",
   "metadata": {},
   "source": [
    "## Logistic Regression"
   ]
  },
  {
   "cell_type": "code",
   "execution_count": 124,
   "metadata": {},
   "outputs": [
    {
     "name": "stdout",
     "output_type": "stream",
     "text": [
      "25% holdout score:  0.399641577061\n"
     ]
    }
   ],
   "source": [
    "lr = LogisticRegression(C=10, solver='lbfgs', multi_class='multinomial', class_weight='balanced', random_state=0)\n",
    "lr.fit(X_train_lsa, Y_train)\n",
    "\n",
    "print(\"25% holdout score: \", lr.score(X_test_lsa, Y_test))"
   ]
  },
  {
   "cell_type": "code",
   "execution_count": 125,
   "metadata": {},
   "outputs": [
    {
     "name": "stdout",
     "output_type": "stream",
     "text": [
      "Cross validation score (avg):  0.604675144605 +- 0.0535295197379\n"
     ]
    },
    {
     "data": {
      "text/plain": [
       "array([ 0.515625  ,  0.59561129,  0.63949843,  0.60188088,  0.70532915,\n",
       "        0.59433962,  0.58044164])"
      ]
     },
     "execution_count": 125,
     "metadata": {},
     "output_type": "execute_result"
    }
   ],
   "source": [
    "lr_cross = cross_val_score(lr, lsa_data, Y, cv=7)\n",
    "print(\"Cross validation score (avg): \", lr_cross.mean(), \"+-\", lr_cross.std())\n",
    "lr_cross"
   ]
  },
  {
   "cell_type": "markdown",
   "metadata": {},
   "source": [
    "## Linear SVC"
   ]
  },
  {
   "cell_type": "code",
   "execution_count": 121,
   "metadata": {},
   "outputs": [
    {
     "name": "stdout",
     "output_type": "stream",
     "text": [
      "25% holdout score:  0.492831541219\n"
     ]
    }
   ],
   "source": [
    "svc = LinearSVC(class_weight='balanced', random_state=16)\n",
    "\n",
    "svc.fit(X_train_lsa, Y_train)\n",
    "\n",
    "print(\"25% holdout score: \", svc.score(X_test_lsa, Y_test))"
   ]
  },
  {
   "cell_type": "code",
   "execution_count": 126,
   "metadata": {},
   "outputs": [
    {
     "name": "stdout",
     "output_type": "stream",
     "text": [
      "Cross validation score (avg):  0.649486387228 +- 0.0477924017419\n"
     ]
    },
    {
     "data": {
      "text/plain": [
       "array([ 0.571875  ,  0.63949843,  0.68025078,  0.6645768 ,  0.73667712,\n",
       "        0.63207547,  0.6214511 ])"
      ]
     },
     "execution_count": 126,
     "metadata": {},
     "output_type": "execute_result"
    }
   ],
   "source": [
    "svc_cross = cross_val_score(svc, lsa_data, Y, cv=7)\n",
    "print(\"Cross validation score (avg): \", svc_cross.mean(), \"+-\", svc_cross.std())\n",
    "svc_cross"
   ]
  },
  {
   "cell_type": "markdown",
   "metadata": {},
   "source": [
    "# LSA evaluation\n",
    "\n",
    "* The Linear SVC performs the best with tf_idf data reduced using LSA\n",
    "* Naive bayes can't apply here because of negative input created by dimensionality reduction"
   ]
  },
  {
   "cell_type": "code",
   "execution_count": null,
   "metadata": {
    "collapsed": true
   },
   "outputs": [],
   "source": []
  }
 ],
 "metadata": {
  "kernelspec": {
   "display_name": "Python 3",
   "language": "python",
   "name": "python3"
  },
  "language_info": {
   "codemirror_mode": {
    "name": "ipython",
    "version": 3
   },
   "file_extension": ".py",
   "mimetype": "text/x-python",
   "name": "python",
   "nbconvert_exporter": "python",
   "pygments_lexer": "ipython3",
   "version": "3.6.3"
  }
 },
 "nbformat": 4,
 "nbformat_minor": 2
}
